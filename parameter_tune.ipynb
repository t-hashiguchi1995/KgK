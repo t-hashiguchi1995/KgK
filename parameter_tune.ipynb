{
 "cells": [
  {
   "cell_type": "code",
   "execution_count": null,
   "id": "cd90b71e",
   "metadata": {},
   "outputs": [],
   "source": [
    "# https://qiita.com/koshian2/items/ef9c0c74fe38739599d5"
   ]
  },
  {
   "cell_type": "code",
   "execution_count": 1,
   "id": "27f8156a",
   "metadata": {},
   "outputs": [
    {
     "name": "stderr",
     "output_type": "stream",
     "text": [
      "\u001b[32m[I 2022-10-31 17:16:08,215]\u001b[0m A new study created in memory with name: no-name-5a7d6ddf-32eb-4a37-920c-a0134ee6d3e2\u001b[0m\n",
      "feature_fraction, val_score: inf:   0%|          | 0/7 [00:00<?, ?it/s]"
     ]
    },
    {
     "name": "stdout",
     "output_type": "stream",
     "text": [
      "Training until validation scores don't improve for 100 rounds\n",
      "[100]\tcv_agg's rmse: 22299.4 + 4780.47\n",
      "[200]\tcv_agg's rmse: 22155.7 + 4725.69\n",
      "[300]\tcv_agg's rmse: 22045.9 + 4720.53\n",
      "[400]\tcv_agg's rmse: 22003.4 + 4707.34\n",
      "[500]\tcv_agg's rmse: 21975.9 + 4697.8\n",
      "[600]\tcv_agg's rmse: 21958.6 + 4691.47\n",
      "[700]\tcv_agg's rmse: 21960.7 + 4679.39\n",
      "[800]\tcv_agg's rmse: 21940.7 + 4668.36\n",
      "[900]\tcv_agg's rmse: 21930.6 + 4663.87\n"
     ]
    },
    {
     "name": "stderr",
     "output_type": "stream",
     "text": [
      "feature_fraction, val_score: 21919.465556:  14%|#4        | 1/7 [00:21<02:08, 21.49s/it]\u001b[32m[I 2022-10-31 17:16:29,710]\u001b[0m Trial 0 finished with value: 21919.465556418647 and parameters: {'feature_fraction': 0.5}. Best is trial 0 with value: 21919.465556418647.\u001b[0m\n",
      "feature_fraction, val_score: 21919.465556:  14%|#4        | 1/7 [00:21<02:08, 21.49s/it]"
     ]
    },
    {
     "name": "stdout",
     "output_type": "stream",
     "text": [
      "[1000]\tcv_agg's rmse: 21921.3 + 4665.67\n",
      "Did not meet early stopping. Best iteration is:\n",
      "[995]\tcv_agg's rmse: 21919.5 + 4665.02\n",
      "[100]\tcv_agg's rmse: 22353.6 + 4789.03\n",
      "[200]\tcv_agg's rmse: 22245.7 + 4744.87\n",
      "[300]\tcv_agg's rmse: 22178.3 + 4771.31\n",
      "[400]\tcv_agg's rmse: 22177.9 + 4737.44\n",
      "[500]\tcv_agg's rmse: 22161.2 + 4731.62\n",
      "[600]\tcv_agg's rmse: 22157.6 + 4743.97\n",
      "[700]\tcv_agg's rmse: 22172.4 + 4732.77\n",
      "[800]\tcv_agg's rmse: 22173.2 + 4750.83\n",
      "[900]\tcv_agg's rmse: 22185.9 + 4746.51\n"
     ]
    },
    {
     "name": "stderr",
     "output_type": "stream",
     "text": [
      "feature_fraction, val_score: 21919.465556:  29%|##8       | 2/7 [01:39<04:33, 54.62s/it]\u001b[32m[I 2022-10-31 17:17:47,529]\u001b[0m Trial 1 finished with value: 22187.171430020455 and parameters: {'feature_fraction': 0.6}. Best is trial 0 with value: 21919.465556418647.\u001b[0m\n",
      "feature_fraction, val_score: 21919.465556:  29%|##8       | 2/7 [01:39<04:33, 54.62s/it]"
     ]
    },
    {
     "name": "stdout",
     "output_type": "stream",
     "text": [
      "[1000]\tcv_agg's rmse: 22186.8 + 4743.88\n",
      "Did not meet early stopping. Best iteration is:\n",
      "[995]\tcv_agg's rmse: 21919.5 + 4665.02\n",
      "[100]\tcv_agg's rmse: 22655.6 + 4448.4\n",
      "[200]\tcv_agg's rmse: 22510.5 + 4575.01\n",
      "[300]\tcv_agg's rmse: 22537.8 + 4574.07\n",
      "[400]\tcv_agg's rmse: 22519.5 + 4564.06\n",
      "[500]\tcv_agg's rmse: 22531.9 + 4609.61\n",
      "[600]\tcv_agg's rmse: 22550.2 + 4630.33\n",
      "[700]\tcv_agg's rmse: 22544.7 + 4640.23\n",
      "[800]\tcv_agg's rmse: 22563.1 + 4623.8\n",
      "[900]\tcv_agg's rmse: 22560 + 4627.51\n"
     ]
    },
    {
     "name": "stderr",
     "output_type": "stream",
     "text": [
      "feature_fraction, val_score: 21919.465556:  43%|####2     | 3/7 [02:23<03:19, 49.79s/it]\u001b[32m[I 2022-10-31 17:18:31,575]\u001b[0m Trial 2 finished with value: 22549.533143888148 and parameters: {'feature_fraction': 0.8999999999999999}. Best is trial 0 with value: 21919.465556418647.\u001b[0m\n",
      "feature_fraction, val_score: 21919.465556:  43%|####2     | 3/7 [02:23<03:19, 49.79s/it]"
     ]
    },
    {
     "name": "stdout",
     "output_type": "stream",
     "text": [
      "[1000]\tcv_agg's rmse: 22548 + 4623.5\n",
      "Did not meet early stopping. Best iteration is:\n",
      "[995]\tcv_agg's rmse: 21919.5 + 4665.02\n",
      "[100]\tcv_agg's rmse: 22659.9 + 4613.44\n",
      "[200]\tcv_agg's rmse: 22517.8 + 4571.68\n",
      "[300]\tcv_agg's rmse: 22446.2 + 4592.75\n",
      "[400]\tcv_agg's rmse: 22442.8 + 4599.14\n",
      "[500]\tcv_agg's rmse: 22441.6 + 4585.61\n",
      "[600]\tcv_agg's rmse: 22428 + 4610.08\n",
      "[700]\tcv_agg's rmse: 22433.5 + 4584.32\n",
      "[800]\tcv_agg's rmse: 22436.8 + 4580.18\n",
      "[900]\tcv_agg's rmse: 22435 + 4572.74\n"
     ]
    },
    {
     "name": "stderr",
     "output_type": "stream",
     "text": [
      "feature_fraction, val_score: 21919.465556:  57%|#####7    | 4/7 [02:53<02:06, 42.13s/it]\u001b[32m[I 2022-10-31 17:19:01,956]\u001b[0m Trial 3 finished with value: 22419.767559576634 and parameters: {'feature_fraction': 0.7}. Best is trial 0 with value: 21919.465556418647.\u001b[0m\n",
      "feature_fraction, val_score: 21919.465556:  57%|#####7    | 4/7 [02:53<02:06, 42.13s/it]"
     ]
    },
    {
     "name": "stdout",
     "output_type": "stream",
     "text": [
      "[1000]\tcv_agg's rmse: 22418.4 + 4568.53\n",
      "Did not meet early stopping. Best iteration is:\n",
      "[995]\tcv_agg's rmse: 21919.5 + 4665.02\n",
      "[100]\tcv_agg's rmse: 22821.3 + 4546.52\n",
      "[200]\tcv_agg's rmse: 22796.2 + 4648.39\n",
      "[300]\tcv_agg's rmse: 22763.1 + 4638.33\n",
      "[400]\tcv_agg's rmse: 22750.8 + 4654.77\n",
      "[500]\tcv_agg's rmse: 22750 + 4662.43\n",
      "[600]\tcv_agg's rmse: 22743 + 4666.59\n",
      "[700]\tcv_agg's rmse: 22735.6 + 4671.59\n",
      "[800]\tcv_agg's rmse: 22748.1 + 4676.59\n",
      "[900]\tcv_agg's rmse: 22755 + 4680.28\n"
     ]
    },
    {
     "name": "stderr",
     "output_type": "stream",
     "text": [
      "feature_fraction, val_score: 21919.465556:  71%|#######1  | 5/7 [03:25<01:17, 38.51s/it]\u001b[32m[I 2022-10-31 17:19:34,041]\u001b[0m Trial 4 finished with value: 22753.16294110523 and parameters: {'feature_fraction': 1.0}. Best is trial 0 with value: 21919.465556418647.\u001b[0m\n",
      "feature_fraction, val_score: 21919.465556:  71%|#######1  | 5/7 [03:25<01:17, 38.51s/it]"
     ]
    },
    {
     "name": "stdout",
     "output_type": "stream",
     "text": [
      "[1000]\tcv_agg's rmse: 22754.4 + 4679.15\n",
      "Did not meet early stopping. Best iteration is:\n",
      "[995]\tcv_agg's rmse: 21919.5 + 4665.02\n",
      "[100]\tcv_agg's rmse: 22822 + 4436.28\n",
      "[200]\tcv_agg's rmse: 22671 + 4407.25\n",
      "[300]\tcv_agg's rmse: 22592.7 + 4409\n",
      "[400]\tcv_agg's rmse: 22599.3 + 4390.03\n",
      "[500]\tcv_agg's rmse: 22583.2 + 4398.19\n",
      "[600]\tcv_agg's rmse: 22558 + 4405.29\n",
      "[700]\tcv_agg's rmse: 22533.8 + 4425.53\n",
      "[800]\tcv_agg's rmse: 22526.4 + 4425.15\n",
      "[900]\tcv_agg's rmse: 22541.1 + 4425.7\n"
     ]
    },
    {
     "name": "stderr",
     "output_type": "stream",
     "text": [
      "feature_fraction, val_score: 21919.465556:  86%|########5 | 6/7 [03:58<00:36, 36.42s/it]\u001b[32m[I 2022-10-31 17:20:06,399]\u001b[0m Trial 5 finished with value: 22534.36975738631 and parameters: {'feature_fraction': 0.8}. Best is trial 0 with value: 21919.465556418647.\u001b[0m\n",
      "feature_fraction, val_score: 21919.465556:  86%|########5 | 6/7 [03:58<00:36, 36.42s/it]"
     ]
    },
    {
     "name": "stdout",
     "output_type": "stream",
     "text": [
      "[1000]\tcv_agg's rmse: 22533.5 + 4431.88\n",
      "Did not meet early stopping. Best iteration is:\n",
      "[995]\tcv_agg's rmse: 21919.5 + 4665.02\n",
      "[100]\tcv_agg's rmse: 22340.3 + 4665.04\n",
      "[200]\tcv_agg's rmse: 22280.1 + 4567.63\n",
      "[300]\tcv_agg's rmse: 22257.7 + 4496.77\n",
      "[400]\tcv_agg's rmse: 22216.9 + 4461.97\n",
      "[500]\tcv_agg's rmse: 22198 + 4465.01\n",
      "[600]\tcv_agg's rmse: 22187.1 + 4448.4\n",
      "[700]\tcv_agg's rmse: 22176.3 + 4430.06\n",
      "[800]\tcv_agg's rmse: 22161.1 + 4425.45\n",
      "[900]\tcv_agg's rmse: 22162.9 + 4429.64\n"
     ]
    },
    {
     "name": "stderr",
     "output_type": "stream",
     "text": [
      "feature_fraction, val_score: 21919.465556: 100%|##########| 7/7 [04:16<00:00, 30.36s/it]\u001b[32m[I 2022-10-31 17:20:24,282]\u001b[0m Trial 6 finished with value: 22147.695747394384 and parameters: {'feature_fraction': 0.4}. Best is trial 0 with value: 21919.465556418647.\u001b[0m\n",
      "feature_fraction, val_score: 21919.465556: 100%|##########| 7/7 [04:16<00:00, 36.58s/it]\n"
     ]
    },
    {
     "name": "stdout",
     "output_type": "stream",
     "text": [
      "[1000]\tcv_agg's rmse: 22148.2 + 4430.09\n",
      "Did not meet early stopping. Best iteration is:\n",
      "[995]\tcv_agg's rmse: 21919.5 + 4665.02\n"
     ]
    },
    {
     "name": "stderr",
     "output_type": "stream",
     "text": [
      "num_leaves, val_score: 21919.465556:   0%|          | 0/20 [00:00<?, ?it/s]"
     ]
    },
    {
     "name": "stdout",
     "output_type": "stream",
     "text": [
      "[100]\tcv_agg's rmse: 22299.7 + 4890.73\n",
      "[200]\tcv_agg's rmse: 22444.1 + 4763.83\n",
      "[300]\tcv_agg's rmse: 22476.3 + 4724.09\n",
      "[400]\tcv_agg's rmse: 22496.2 + 4689.48\n",
      "[500]\tcv_agg's rmse: 22518.2 + 4716.01\n",
      "[600]\tcv_agg's rmse: 22539.1 + 4697.18\n",
      "[700]\tcv_agg's rmse: 22554 + 4699.22\n",
      "[800]\tcv_agg's rmse: 22569.5 + 4690.26\n",
      "[900]\tcv_agg's rmse: 22584.1 + 4686.61\n"
     ]
    },
    {
     "name": "stderr",
     "output_type": "stream",
     "text": [
      "num_leaves, val_score: 21919.465556:   5%|5         | 1/20 [00:47<15:05, 47.65s/it]\u001b[32m[I 2022-10-31 17:21:11,933]\u001b[0m Trial 7 finished with value: 22597.662975550313 and parameters: {'num_leaves': 97}. Best is trial 7 with value: 22597.662975550313.\u001b[0m\n",
      "num_leaves, val_score: 21919.465556:   5%|5         | 1/20 [00:47<15:05, 47.65s/it]"
     ]
    },
    {
     "name": "stdout",
     "output_type": "stream",
     "text": [
      "[1000]\tcv_agg's rmse: 22597.7 + 4680.62\n",
      "Did not meet early stopping. Best iteration is:\n",
      "[995]\tcv_agg's rmse: 21919.5 + 4665.02\n",
      "[100]\tcv_agg's rmse: 22486.2 + 4423.18\n",
      "[200]\tcv_agg's rmse: 22754 + 4310.08\n",
      "[300]\tcv_agg's rmse: 22749 + 4275.11\n",
      "[400]\tcv_agg's rmse: 22769.6 + 4284.46\n",
      "[500]\tcv_agg's rmse: 22793.6 + 4273.15\n",
      "[600]\tcv_agg's rmse: 22808.3 + 4275.7\n",
      "[700]\tcv_agg's rmse: 22832 + 4267.37\n",
      "[800]\tcv_agg's rmse: 22842.5 + 4263.5\n",
      "[900]\tcv_agg's rmse: 22844.4 + 4264.11\n"
     ]
    },
    {
     "name": "stderr",
     "output_type": "stream",
     "text": [
      "num_leaves, val_score: 21919.465556:  10%|#         | 2/20 [02:22<22:32, 75.13s/it]\u001b[32m[I 2022-10-31 17:22:46,300]\u001b[0m Trial 8 finished with value: 22854.36872675833 and parameters: {'num_leaves': 244}. Best is trial 7 with value: 22597.662975550313.\u001b[0m\n",
      "num_leaves, val_score: 21919.465556:  10%|#         | 2/20 [02:22<22:32, 75.13s/it]"
     ]
    },
    {
     "name": "stdout",
     "output_type": "stream",
     "text": [
      "[1000]\tcv_agg's rmse: 22853.9 + 4259.47\n",
      "Did not meet early stopping. Best iteration is:\n",
      "[995]\tcv_agg's rmse: 21919.5 + 4665.02\n",
      "[100]\tcv_agg's rmse: 22399.2 + 4581.03\n",
      "[200]\tcv_agg's rmse: 22665.9 + 4554.07\n",
      "[300]\tcv_agg's rmse: 22737.7 + 4516.62\n",
      "[400]\tcv_agg's rmse: 22707.8 + 4485.14\n",
      "[500]\tcv_agg's rmse: 22712.2 + 4471.17\n",
      "[600]\tcv_agg's rmse: 22724 + 4462.8\n",
      "[700]\tcv_agg's rmse: 22732.7 + 4464.02\n",
      "[800]\tcv_agg's rmse: 22732.6 + 4473.43\n",
      "[900]\tcv_agg's rmse: 22748.1 + 4470.77\n"
     ]
    },
    {
     "name": "stderr",
     "output_type": "stream",
     "text": [
      "num_leaves, val_score: 21919.465556:  15%|#5        | 3/20 [03:43<22:09, 78.22s/it]\u001b[32m[I 2022-10-31 17:24:08,195]\u001b[0m Trial 9 finished with value: 22755.874867162216 and parameters: {'num_leaves': 188}. Best is trial 7 with value: 22597.662975550313.\u001b[0m\n",
      "num_leaves, val_score: 21919.465556:  15%|#5        | 3/20 [03:43<22:09, 78.22s/it]"
     ]
    },
    {
     "name": "stdout",
     "output_type": "stream",
     "text": [
      "[1000]\tcv_agg's rmse: 22756.7 + 4468.53\n",
      "Did not meet early stopping. Best iteration is:\n",
      "[995]\tcv_agg's rmse: 21919.5 + 4665.02\n",
      "[100]\tcv_agg's rmse: 22432.4 + 4650.52\n",
      "[200]\tcv_agg's rmse: 22584.7 + 4505.11\n",
      "[300]\tcv_agg's rmse: 22587.4 + 4501.51\n",
      "[400]\tcv_agg's rmse: 22578.7 + 4454.34\n",
      "[500]\tcv_agg's rmse: 22595.9 + 4454.46\n",
      "[600]\tcv_agg's rmse: 22616.8 + 4458.85\n",
      "[700]\tcv_agg's rmse: 22644.6 + 4456.99\n",
      "[800]\tcv_agg's rmse: 22655.2 + 4457.97\n",
      "[900]\tcv_agg's rmse: 22664.6 + 4457.28\n"
     ]
    },
    {
     "name": "stderr",
     "output_type": "stream",
     "text": [
      "num_leaves, val_score: 21919.465556:  20%|##        | 4/20 [04:49<19:31, 73.21s/it]\u001b[32m[I 2022-10-31 17:25:13,722]\u001b[0m Trial 10 finished with value: 22678.011400834184 and parameters: {'num_leaves': 154}. Best is trial 7 with value: 22597.662975550313.\u001b[0m\n",
      "num_leaves, val_score: 21919.465556:  20%|##        | 4/20 [04:49<19:31, 73.21s/it]"
     ]
    },
    {
     "name": "stdout",
     "output_type": "stream",
     "text": [
      "[1000]\tcv_agg's rmse: 22677.5 + 4454.2\n",
      "Did not meet early stopping. Best iteration is:\n",
      "[995]\tcv_agg's rmse: 21919.5 + 4665.02\n",
      "[100]\tcv_agg's rmse: 22383.1 + 4872.14\n",
      "[200]\tcv_agg's rmse: 22416 + 4848.8\n",
      "[300]\tcv_agg's rmse: 22351 + 4749.51\n",
      "[400]\tcv_agg's rmse: 22326.5 + 4713.18\n",
      "[500]\tcv_agg's rmse: 22345.8 + 4694.12\n",
      "[600]\tcv_agg's rmse: 22356.2 + 4658.05\n",
      "[700]\tcv_agg's rmse: 22349.7 + 4641.37\n",
      "[800]\tcv_agg's rmse: 22366.1 + 4631.46\n",
      "[900]\tcv_agg's rmse: 22368 + 4623.28\n"
     ]
    },
    {
     "name": "stderr",
     "output_type": "stream",
     "text": [
      "num_leaves, val_score: 21919.465556:  25%|##5       | 5/20 [05:12<13:48, 55.23s/it]\u001b[32m[I 2022-10-31 17:25:37,077]\u001b[0m Trial 11 finished with value: 22367.85610030243 and parameters: {'num_leaves': 41}. Best is trial 11 with value: 22367.85610030243.\u001b[0m\n",
      "num_leaves, val_score: 21919.465556:  25%|##5       | 5/20 [05:12<13:48, 55.23s/it]"
     ]
    },
    {
     "name": "stdout",
     "output_type": "stream",
     "text": [
      "[1000]\tcv_agg's rmse: 22367 + 4628.63\n",
      "Did not meet early stopping. Best iteration is:\n",
      "[995]\tcv_agg's rmse: 21919.5 + 4665.02\n",
      "[100]\tcv_agg's rmse: 22383.1 + 4872.14\n",
      "[200]\tcv_agg's rmse: 22416 + 4848.8\n",
      "[300]\tcv_agg's rmse: 22351 + 4749.51\n",
      "[400]\tcv_agg's rmse: 22326.5 + 4713.18\n",
      "[500]\tcv_agg's rmse: 22345.8 + 4694.12\n",
      "[600]\tcv_agg's rmse: 22356.2 + 4658.05\n",
      "[700]\tcv_agg's rmse: 22349.7 + 4641.37\n",
      "[800]\tcv_agg's rmse: 22366.1 + 4631.46\n",
      "[900]\tcv_agg's rmse: 22368 + 4623.28\n"
     ]
    },
    {
     "name": "stderr",
     "output_type": "stream",
     "text": [
      "num_leaves, val_score: 21919.465556:  30%|###       | 6/20 [05:41<10:46, 46.15s/it]\u001b[32m[I 2022-10-31 17:26:05,589]\u001b[0m Trial 12 finished with value: 22367.85610030243 and parameters: {'num_leaves': 41}. Best is trial 11 with value: 22367.85610030243.\u001b[0m\n",
      "num_leaves, val_score: 21919.465556:  30%|###       | 6/20 [05:41<10:46, 46.15s/it]"
     ]
    },
    {
     "name": "stdout",
     "output_type": "stream",
     "text": [
      "[1000]\tcv_agg's rmse: 22367 + 4628.63\n",
      "Did not meet early stopping. Best iteration is:\n",
      "[995]\tcv_agg's rmse: 21919.5 + 4665.02\n",
      "[100]\tcv_agg's rmse: 22700.5 + 4748.77\n",
      "[200]\tcv_agg's rmse: 22564.8 + 4491.74\n",
      "[300]\tcv_agg's rmse: 22430.4 + 4452.34\n",
      "[400]\tcv_agg's rmse: 22325.4 + 4426.31\n",
      "[500]\tcv_agg's rmse: 22324.4 + 4451.65\n",
      "[600]\tcv_agg's rmse: 22269 + 4427.83\n",
      "[700]\tcv_agg's rmse: 22254 + 4406.27\n",
      "[800]\tcv_agg's rmse: 22226.7 + 4408.07\n",
      "[900]\tcv_agg's rmse: 22237.8 + 4422.1\n"
     ]
    },
    {
     "name": "stderr",
     "output_type": "stream",
     "text": [
      "num_leaves, val_score: 21919.465556:  35%|###5      | 7/20 [05:56<07:46, 35.90s/it]\u001b[32m[I 2022-10-31 17:26:20,387]\u001b[0m Trial 13 finished with value: 22237.956863373674 and parameters: {'num_leaves': 16}. Best is trial 13 with value: 22237.956863373674.\u001b[0m\n",
      "num_leaves, val_score: 21919.465556:  35%|###5      | 7/20 [05:56<07:46, 35.90s/it]"
     ]
    },
    {
     "name": "stdout",
     "output_type": "stream",
     "text": [
      "[1000]\tcv_agg's rmse: 22234.3 + 4418.91\n",
      "Did not meet early stopping. Best iteration is:\n",
      "[995]\tcv_agg's rmse: 21919.5 + 4665.02\n",
      "[100]\tcv_agg's rmse: 22454.3 + 4412.32\n",
      "[200]\tcv_agg's rmse: 22780.2 + 4332.01\n",
      "[300]\tcv_agg's rmse: 22848.1 + 4224.44\n",
      "[400]\tcv_agg's rmse: 22845.3 + 4215.74\n",
      "[500]\tcv_agg's rmse: 22875.4 + 4232.72\n",
      "[600]\tcv_agg's rmse: 22892.7 + 4219.96\n",
      "[700]\tcv_agg's rmse: 22904.1 + 4230.45\n",
      "[800]\tcv_agg's rmse: 22909 + 4233.39\n",
      "[900]\tcv_agg's rmse: 22916.5 + 4229.97\n"
     ]
    },
    {
     "name": "stderr",
     "output_type": "stream",
     "text": [
      "num_leaves, val_score: 21919.465556:  40%|####      | 8/20 [07:23<10:28, 52.35s/it]\u001b[32m[I 2022-10-31 17:27:47,968]\u001b[0m Trial 14 finished with value: 22926.941548659597 and parameters: {'num_leaves': 222}. Best is trial 13 with value: 22237.956863373674.\u001b[0m\n",
      "num_leaves, val_score: 21919.465556:  40%|####      | 8/20 [07:23<10:28, 52.35s/it]"
     ]
    },
    {
     "name": "stdout",
     "output_type": "stream",
     "text": [
      "[1000]\tcv_agg's rmse: 22926.4 + 4228.01\n",
      "Did not meet early stopping. Best iteration is:\n",
      "[995]\tcv_agg's rmse: 21919.5 + 4665.02\n",
      "[100]\tcv_agg's rmse: 22509.5 + 4586.41\n",
      "[200]\tcv_agg's rmse: 22575.7 + 4515.37\n",
      "[300]\tcv_agg's rmse: 22591.8 + 4473.61\n",
      "[400]\tcv_agg's rmse: 22606.1 + 4462.7\n",
      "[500]\tcv_agg's rmse: 22624 + 4454.33\n",
      "[600]\tcv_agg's rmse: 22630.5 + 4449.98\n",
      "[700]\tcv_agg's rmse: 22634.3 + 4457.92\n",
      "[800]\tcv_agg's rmse: 22647.5 + 4458.76\n",
      "[900]\tcv_agg's rmse: 22657 + 4465.69\n"
     ]
    },
    {
     "name": "stderr",
     "output_type": "stream",
     "text": [
      "num_leaves, val_score: 21919.465556:  45%|####5     | 9/20 [08:28<10:18, 56.24s/it]\u001b[32m[I 2022-10-31 17:28:52,766]\u001b[0m Trial 15 finished with value: 22667.13161866591 and parameters: {'num_leaves': 155}. Best is trial 13 with value: 22237.956863373674.\u001b[0m\n",
      "num_leaves, val_score: 21919.465556:  45%|####5     | 9/20 [08:28<10:18, 56.24s/it]"
     ]
    },
    {
     "name": "stdout",
     "output_type": "stream",
     "text": [
      "[1000]\tcv_agg's rmse: 22668.6 + 4464.28\n",
      "Did not meet early stopping. Best iteration is:\n",
      "[995]\tcv_agg's rmse: 21919.5 + 4665.02\n",
      "[100]\tcv_agg's rmse: 22545.6 + 4450.04\n",
      "[200]\tcv_agg's rmse: 22794.5 + 4399.96\n",
      "[300]\tcv_agg's rmse: 22859.6 + 4341.62\n",
      "[400]\tcv_agg's rmse: 22890.6 + 4333.94\n",
      "[500]\tcv_agg's rmse: 22918.9 + 4330.66\n",
      "[600]\tcv_agg's rmse: 22940.1 + 4320.22\n",
      "[700]\tcv_agg's rmse: 22958.5 + 4314.26\n",
      "[800]\tcv_agg's rmse: 22976.1 + 4313.82\n",
      "[900]\tcv_agg's rmse: 22985.8 + 4314.28\n"
     ]
    },
    {
     "name": "stderr",
     "output_type": "stream",
     "text": [
      "num_leaves, val_score: 21919.465556:  50%|#####     | 10/20 [09:55<10:56, 65.68s/it]\u001b[32m[I 2022-10-31 17:30:19,579]\u001b[0m Trial 16 finished with value: 22998.550063070747 and parameters: {'num_leaves': 182}. Best is trial 13 with value: 22237.956863373674.\u001b[0m\n",
      "num_leaves, val_score: 21919.465556:  50%|#####     | 10/20 [09:55<10:56, 65.68s/it]"
     ]
    },
    {
     "name": "stdout",
     "output_type": "stream",
     "text": [
      "[1000]\tcv_agg's rmse: 22999.1 + 4310.11\n",
      "Did not meet early stopping. Best iteration is:\n",
      "[995]\tcv_agg's rmse: 21919.5 + 4665.02\n",
      "[100]\tcv_agg's rmse: 23186.6 + 4900.7\n",
      "[200]\tcv_agg's rmse: 22608.6 + 4878.74\n",
      "[300]\tcv_agg's rmse: 22432.7 + 4865.78\n",
      "[400]\tcv_agg's rmse: 22314.4 + 4788.72\n",
      "[500]\tcv_agg's rmse: 22249.5 + 4738.34\n",
      "[600]\tcv_agg's rmse: 22210.8 + 4709.71\n",
      "[700]\tcv_agg's rmse: 22151.3 + 4714.3\n",
      "[800]\tcv_agg's rmse: 22132.2 + 4729.81\n",
      "[900]\tcv_agg's rmse: 22100.5 + 4729.87\n"
     ]
    },
    {
     "name": "stderr",
     "output_type": "stream",
     "text": [
      "num_leaves, val_score: 21919.465556:  55%|#####5    | 11/20 [10:06<07:21, 49.03s/it]\u001b[32m[I 2022-10-31 17:30:30,845]\u001b[0m Trial 17 finished with value: 22058.177625184944 and parameters: {'num_leaves': 7}. Best is trial 17 with value: 22058.177625184944.\u001b[0m\n",
      "num_leaves, val_score: 21919.465556:  55%|#####5    | 11/20 [10:06<07:21, 49.03s/it]"
     ]
    },
    {
     "name": "stdout",
     "output_type": "stream",
     "text": [
      "[1000]\tcv_agg's rmse: 22058 + 4739.34\n",
      "Did not meet early stopping. Best iteration is:\n",
      "[995]\tcv_agg's rmse: 21919.5 + 4665.02\n",
      "[100]\tcv_agg's rmse: 32384.1 + 6764.73\n",
      "[200]\tcv_agg's rmse: 29212.7 + 6211.37\n",
      "[300]\tcv_agg's rmse: 28285.6 + 5956.17\n",
      "[400]\tcv_agg's rmse: 27819.6 + 5826.73\n",
      "[500]\tcv_agg's rmse: 27585 + 5721.95\n",
      "[600]\tcv_agg's rmse: 27424.6 + 5666.18\n",
      "[700]\tcv_agg's rmse: 27297.7 + 5615.04\n",
      "[800]\tcv_agg's rmse: 27204.1 + 5572.67\n",
      "[900]\tcv_agg's rmse: 27141.2 + 5522.28\n"
     ]
    },
    {
     "name": "stderr",
     "output_type": "stream",
     "text": [
      "num_leaves, val_score: 21919.465556:  60%|######    | 12/20 [10:14<04:51, 36.42s/it]\u001b[32m[I 2022-10-31 17:30:38,437]\u001b[0m Trial 18 finished with value: 27094.678997363626 and parameters: {'num_leaves': 2}. Best is trial 17 with value: 22058.177625184944.\u001b[0m\n",
      "num_leaves, val_score: 21919.465556:  60%|######    | 12/20 [10:14<04:51, 36.42s/it]"
     ]
    },
    {
     "name": "stdout",
     "output_type": "stream",
     "text": [
      "[1000]\tcv_agg's rmse: 27089.4 + 5481.24\n",
      "Did not meet early stopping. Best iteration is:\n",
      "[995]\tcv_agg's rmse: 21919.5 + 4665.02\n",
      "[100]\tcv_agg's rmse: 22382.9 + 4849.4\n",
      "[200]\tcv_agg's rmse: 22462.9 + 4723.75\n",
      "[300]\tcv_agg's rmse: 22483.6 + 4656.96\n",
      "[400]\tcv_agg's rmse: 22465.3 + 4625.89\n",
      "[500]\tcv_agg's rmse: 22473.8 + 4620.96\n",
      "[600]\tcv_agg's rmse: 22494.4 + 4605.34\n",
      "[700]\tcv_agg's rmse: 22506.6 + 4603.45\n",
      "[800]\tcv_agg's rmse: 22516.9 + 4606.26\n",
      "[900]\tcv_agg's rmse: 22534.1 + 4602.93\n"
     ]
    },
    {
     "name": "stderr",
     "output_type": "stream",
     "text": [
      "num_leaves, val_score: 21919.465556:  65%|######5   | 13/20 [10:57<04:29, 38.55s/it]\u001b[32m[I 2022-10-31 17:31:21,882]\u001b[0m Trial 19 finished with value: 22542.91270782745 and parameters: {'num_leaves': 88}. Best is trial 17 with value: 22058.177625184944.\u001b[0m\n",
      "num_leaves, val_score: 21919.465556:  65%|######5   | 13/20 [10:57<04:29, 38.55s/it]"
     ]
    },
    {
     "name": "stdout",
     "output_type": "stream",
     "text": [
      "[1000]\tcv_agg's rmse: 22543.9 + 4607.97\n",
      "Did not meet early stopping. Best iteration is:\n",
      "[995]\tcv_agg's rmse: 21919.5 + 4665.02\n",
      "[100]\tcv_agg's rmse: 25055.8 + 5494.69\n",
      "[200]\tcv_agg's rmse: 24221.3 + 5141.92\n",
      "[300]\tcv_agg's rmse: 23820.9 + 5046.81\n",
      "[400]\tcv_agg's rmse: 23620.6 + 4977.87\n",
      "[500]\tcv_agg's rmse: 23511.7 + 4871.73\n",
      "[600]\tcv_agg's rmse: 23399.3 + 4860.84\n",
      "[700]\tcv_agg's rmse: 23394.9 + 4789.51\n",
      "[800]\tcv_agg's rmse: 23335.8 + 4734.14\n",
      "[900]\tcv_agg's rmse: 23303.5 + 4721.38\n"
     ]
    },
    {
     "name": "stderr",
     "output_type": "stream",
     "text": [
      "num_leaves, val_score: 21919.465556:  70%|#######   | 14/20 [11:10<03:04, 30.83s/it]\u001b[32m[I 2022-10-31 17:31:34,859]\u001b[0m Trial 20 finished with value: 23271.80865803922 and parameters: {'num_leaves': 3}. Best is trial 17 with value: 22058.177625184944.\u001b[0m\n",
      "num_leaves, val_score: 21919.465556:  70%|#######   | 14/20 [11:10<03:04, 30.83s/it]"
     ]
    },
    {
     "name": "stdout",
     "output_type": "stream",
     "text": [
      "[1000]\tcv_agg's rmse: 23274.6 + 4646.56\n",
      "Did not meet early stopping. Best iteration is:\n",
      "[995]\tcv_agg's rmse: 21919.5 + 4665.02\n",
      "[100]\tcv_agg's rmse: 22436.1 + 4614.33\n",
      "[200]\tcv_agg's rmse: 22379.3 + 4551.13\n",
      "[300]\tcv_agg's rmse: 22388 + 4469.37\n",
      "[400]\tcv_agg's rmse: 22354.1 + 4464.05\n",
      "[500]\tcv_agg's rmse: 22371.2 + 4450.28\n",
      "[600]\tcv_agg's rmse: 22382.7 + 4431.61\n",
      "[700]\tcv_agg's rmse: 22383.2 + 4426.4\n",
      "[800]\tcv_agg's rmse: 22405.7 + 4412.3\n",
      "[900]\tcv_agg's rmse: 22440 + 4400.5\n"
     ]
    },
    {
     "name": "stderr",
     "output_type": "stream",
     "text": [
      "num_leaves, val_score: 21919.465556:  75%|#######5  | 15/20 [11:41<02:34, 30.91s/it]\u001b[32m[I 2022-10-31 17:32:05,966]\u001b[0m Trial 21 finished with value: 22446.431090088416 and parameters: {'num_leaves': 47}. Best is trial 17 with value: 22058.177625184944.\u001b[0m\n",
      "num_leaves, val_score: 21919.465556:  75%|#######5  | 15/20 [11:41<02:34, 30.91s/it]"
     ]
    },
    {
     "name": "stdout",
     "output_type": "stream",
     "text": [
      "[1000]\tcv_agg's rmse: 22447 + 4397.27\n",
      "Did not meet early stopping. Best iteration is:\n",
      "[995]\tcv_agg's rmse: 21919.5 + 4665.02\n",
      "[100]\tcv_agg's rmse: 22284.3 + 5048.57\n",
      "[200]\tcv_agg's rmse: 22316.6 + 4912.38\n",
      "[300]\tcv_agg's rmse: 22323.8 + 4830.68\n",
      "[400]\tcv_agg's rmse: 22314.1 + 4772.14\n",
      "[500]\tcv_agg's rmse: 22344.9 + 4755.81\n",
      "[600]\tcv_agg's rmse: 22366.8 + 4751.52\n",
      "[700]\tcv_agg's rmse: 22361.1 + 4744.81\n",
      "[800]\tcv_agg's rmse: 22371.9 + 4746.78\n",
      "[900]\tcv_agg's rmse: 22372.9 + 4742.33\n"
     ]
    },
    {
     "name": "stderr",
     "output_type": "stream",
     "text": [
      "num_leaves, val_score: 21919.465556:  80%|########  | 16/20 [12:24<02:18, 34.61s/it]\u001b[32m[I 2022-10-31 17:32:49,183]\u001b[0m Trial 22 finished with value: 22382.980342131425 and parameters: {'num_leaves': 83}. Best is trial 17 with value: 22058.177625184944.\u001b[0m\n",
      "num_leaves, val_score: 21919.465556:  80%|########  | 16/20 [12:24<02:18, 34.61s/it]"
     ]
    },
    {
     "name": "stdout",
     "output_type": "stream",
     "text": [
      "[1000]\tcv_agg's rmse: 22383.5 + 4741.48\n",
      "Did not meet early stopping. Best iteration is:\n",
      "[995]\tcv_agg's rmse: 21919.5 + 4665.02\n",
      "[100]\tcv_agg's rmse: 22423 + 4632.45\n",
      "[200]\tcv_agg's rmse: 22332.2 + 4558.13\n",
      "[300]\tcv_agg's rmse: 22341.4 + 4510.07\n",
      "[400]\tcv_agg's rmse: 22295.1 + 4483.9\n",
      "[500]\tcv_agg's rmse: 22299 + 4483.63\n",
      "[600]\tcv_agg's rmse: 22316.2 + 4481.5\n",
      "[700]\tcv_agg's rmse: 22329.7 + 4460.76\n",
      "[800]\tcv_agg's rmse: 22341.4 + 4458.09\n",
      "[900]\tcv_agg's rmse: 22348.4 + 4455.01\n"
     ]
    },
    {
     "name": "stderr",
     "output_type": "stream",
     "text": [
      "num_leaves, val_score: 21919.465556:  85%|########5 | 17/20 [13:00<01:44, 34.94s/it]\u001b[32m[I 2022-10-31 17:33:24,870]\u001b[0m Trial 23 finished with value: 22351.1168950676 and parameters: {'num_leaves': 59}. Best is trial 17 with value: 22058.177625184944.\u001b[0m\n",
      "num_leaves, val_score: 21919.465556:  85%|########5 | 17/20 [13:00<01:44, 34.94s/it]"
     ]
    },
    {
     "name": "stdout",
     "output_type": "stream",
     "text": [
      "[1000]\tcv_agg's rmse: 22350.9 + 4452.99\n",
      "Did not meet early stopping. Best iteration is:\n",
      "[995]\tcv_agg's rmse: 21919.5 + 4665.02\n",
      "[100]\tcv_agg's rmse: 22594 + 4282.51\n",
      "[200]\tcv_agg's rmse: 22330.5 + 4174.59\n",
      "[300]\tcv_agg's rmse: 22207.3 + 4186.68\n",
      "[400]\tcv_agg's rmse: 22105 + 4206.62\n",
      "[500]\tcv_agg's rmse: 22033.8 + 4218.24\n",
      "[600]\tcv_agg's rmse: 22005.3 + 4198.34\n",
      "[700]\tcv_agg's rmse: 21966.1 + 4193.18\n",
      "[800]\tcv_agg's rmse: 21949.7 + 4199.32\n",
      "[900]\tcv_agg's rmse: 21921.4 + 4208.42\n"
     ]
    },
    {
     "name": "stderr",
     "output_type": "stream",
     "text": [
      "num_leaves, val_score: 21899.292918:  90%|######### | 18/20 [13:20<01:00, 30.34s/it]\u001b[32m[I 2022-10-31 17:33:44,506]\u001b[0m Trial 24 finished with value: 21899.292918326486 and parameters: {'num_leaves': 19}. Best is trial 24 with value: 21899.292918326486.\u001b[0m\n",
      "num_leaves, val_score: 21899.292918:  90%|######### | 18/20 [13:20<01:00, 30.34s/it]"
     ]
    },
    {
     "name": "stdout",
     "output_type": "stream",
     "text": [
      "[1000]\tcv_agg's rmse: 21899.3 + 4224.38\n",
      "Did not meet early stopping. Best iteration is:\n",
      "[1000]\tcv_agg's rmse: 21899.3 + 4224.38\n",
      "[100]\tcv_agg's rmse: 22300 + 4642.89\n",
      "[200]\tcv_agg's rmse: 22446.4 + 4519.12\n",
      "[300]\tcv_agg's rmse: 22488.5 + 4508.98\n",
      "[400]\tcv_agg's rmse: 22506.7 + 4513.82\n",
      "[500]\tcv_agg's rmse: 22529.5 + 4521.9\n",
      "[600]\tcv_agg's rmse: 22551.5 + 4499.19\n",
      "[700]\tcv_agg's rmse: 22560.6 + 4501.06\n",
      "[800]\tcv_agg's rmse: 22578.6 + 4491.44\n",
      "[900]\tcv_agg's rmse: 22573.4 + 4498.14\n"
     ]
    },
    {
     "name": "stderr",
     "output_type": "stream",
     "text": [
      "num_leaves, val_score: 21899.292918:  95%|#########5| 19/20 [14:13<00:37, 37.29s/it]\u001b[32m[I 2022-10-31 17:34:37,986]\u001b[0m Trial 25 finished with value: 22588.172264940964 and parameters: {'num_leaves': 114}. Best is trial 24 with value: 21899.292918326486.\u001b[0m\n",
      "num_leaves, val_score: 21899.292918:  95%|#########5| 19/20 [14:13<00:37, 37.29s/it]"
     ]
    },
    {
     "name": "stdout",
     "output_type": "stream",
     "text": [
      "[1000]\tcv_agg's rmse: 22588.2 + 4488.02\n",
      "Did not meet early stopping. Best iteration is:\n",
      "[1000]\tcv_agg's rmse: 21899.3 + 4224.38\n",
      "[100]\tcv_agg's rmse: 22453.9 + 4533\n",
      "[200]\tcv_agg's rmse: 22458.6 + 4440.06\n",
      "[300]\tcv_agg's rmse: 22413.3 + 4389.86\n",
      "[400]\tcv_agg's rmse: 22390.8 + 4359.13\n",
      "[500]\tcv_agg's rmse: 22414.9 + 4342.76\n",
      "[600]\tcv_agg's rmse: 22426.9 + 4331.82\n",
      "[700]\tcv_agg's rmse: 22427.8 + 4330.62\n",
      "[800]\tcv_agg's rmse: 22444.4 + 4325.51\n",
      "[900]\tcv_agg's rmse: 22453.1 + 4320.68\n"
     ]
    },
    {
     "name": "stderr",
     "output_type": "stream",
     "text": [
      "num_leaves, val_score: 21899.292918: 100%|##########| 20/20 [14:50<00:00, 37.11s/it]\u001b[32m[I 2022-10-31 17:35:14,684]\u001b[0m Trial 26 finished with value: 22459.080716846856 and parameters: {'num_leaves': 61}. Best is trial 24 with value: 21899.292918326486.\u001b[0m\n",
      "num_leaves, val_score: 21899.292918: 100%|##########| 20/20 [14:50<00:00, 44.52s/it]\n"
     ]
    },
    {
     "name": "stdout",
     "output_type": "stream",
     "text": [
      "[1000]\tcv_agg's rmse: 22459.1 + 4313.26\n",
      "Did not meet early stopping. Best iteration is:\n",
      "[1000]\tcv_agg's rmse: 21899.3 + 4224.38\n"
     ]
    },
    {
     "name": "stderr",
     "output_type": "stream",
     "text": [
      "bagging, val_score: 21899.292918:   0%|          | 0/10 [00:00<?, ?it/s]"
     ]
    },
    {
     "name": "stdout",
     "output_type": "stream",
     "text": [
      "[100]\tcv_agg's rmse: 22732.9 + 4984.12\n",
      "[200]\tcv_agg's rmse: 22733.2 + 4820.64\n",
      "[300]\tcv_agg's rmse: 22620.8 + 4898.49\n",
      "[400]\tcv_agg's rmse: 22577.4 + 4882.66\n",
      "[500]\tcv_agg's rmse: 22609.2 + 4837.1\n",
      "[600]\tcv_agg's rmse: 22531 + 4894.89\n",
      "[700]\tcv_agg's rmse: 22510.7 + 4909.96\n",
      "[800]\tcv_agg's rmse: 22499.4 + 4951.64\n",
      "[900]\tcv_agg's rmse: 22514.8 + 4978.4\n"
     ]
    },
    {
     "name": "stderr",
     "output_type": "stream",
     "text": [
      "bagging, val_score: 21899.292918:  10%|#         | 1/10 [00:16<02:25, 16.17s/it]\u001b[32m[I 2022-10-31 17:35:30,862]\u001b[0m Trial 27 finished with value: 22520.50345042379 and parameters: {'bagging_fraction': 0.624724071308792, 'bagging_freq': 7}. Best is trial 27 with value: 22520.50345042379.\u001b[0m\n",
      "bagging, val_score: 21899.292918:  10%|#         | 1/10 [00:16<02:25, 16.17s/it]"
     ]
    },
    {
     "name": "stdout",
     "output_type": "stream",
     "text": [
      "[1000]\tcv_agg's rmse: 22520.5 + 4944.48\n",
      "Did not meet early stopping. Best iteration is:\n",
      "[1000]\tcv_agg's rmse: 21899.3 + 4224.38\n",
      "[100]\tcv_agg's rmse: 22802.7 + 4679.45\n",
      "[200]\tcv_agg's rmse: 22625 + 4610.85\n",
      "[300]\tcv_agg's rmse: 22541.5 + 4540.95\n",
      "[400]\tcv_agg's rmse: 22490.9 + 4510.77\n",
      "[500]\tcv_agg's rmse: 22453.9 + 4498.58\n",
      "[600]\tcv_agg's rmse: 22416.6 + 4507.62\n",
      "[700]\tcv_agg's rmse: 22389.1 + 4506.25\n",
      "[800]\tcv_agg's rmse: 22366.2 + 4532.13\n",
      "[900]\tcv_agg's rmse: 22330.8 + 4550.51\n"
     ]
    },
    {
     "name": "stderr",
     "output_type": "stream",
     "text": [
      "bagging, val_score: 21899.292918:  20%|##        | 2/10 [00:33<02:12, 16.60s/it]\u001b[32m[I 2022-10-31 17:35:47,753]\u001b[0m Trial 28 finished with value: 22353.73790306889 and parameters: {'bagging_fraction': 0.8391963650875751, 'bagging_freq': 5}. Best is trial 28 with value: 22353.73790306889.\u001b[0m\n",
      "bagging, val_score: 21899.292918:  20%|##        | 2/10 [00:33<02:12, 16.60s/it]"
     ]
    },
    {
     "name": "stdout",
     "output_type": "stream",
     "text": [
      "[1000]\tcv_agg's rmse: 22353.7 + 4543.66\n",
      "Did not meet early stopping. Best iteration is:\n",
      "[1000]\tcv_agg's rmse: 21899.3 + 4224.38\n",
      "[100]\tcv_agg's rmse: 22844.8 + 5019.24\n",
      "[200]\tcv_agg's rmse: 22661.4 + 4937.22\n",
      "[300]\tcv_agg's rmse: 22800.2 + 4863.12\n",
      "[400]\tcv_agg's rmse: 22780.3 + 4872\n",
      "[500]\tcv_agg's rmse: 22794.4 + 4945.89\n",
      "[600]\tcv_agg's rmse: 22879.3 + 4961.56\n",
      "[700]\tcv_agg's rmse: 22959.8 + 5043.49\n",
      "[800]\tcv_agg's rmse: 22973.5 + 5021.2\n",
      "[900]\tcv_agg's rmse: 22931.2 + 5046.02\n"
     ]
    },
    {
     "name": "stderr",
     "output_type": "stream",
     "text": [
      "bagging, val_score: 21899.292918:  30%|###       | 3/10 [00:57<02:21, 20.19s/it]\u001b[32m[I 2022-10-31 17:36:12,226]\u001b[0m Trial 29 finished with value: 22932.82837391399 and parameters: {'bagging_fraction': 0.49361118426561795, 'bagging_freq': 2}. Best is trial 28 with value: 22353.73790306889.\u001b[0m\n",
      "bagging, val_score: 21899.292918:  30%|###       | 3/10 [00:57<02:21, 20.19s/it]"
     ]
    },
    {
     "name": "stdout",
     "output_type": "stream",
     "text": [
      "[1000]\tcv_agg's rmse: 22932.8 + 5068.92\n",
      "Did not meet early stopping. Best iteration is:\n",
      "[1000]\tcv_agg's rmse: 21899.3 + 4224.38\n",
      "[100]\tcv_agg's rmse: 23181.7 + 4875.1\n",
      "[200]\tcv_agg's rmse: 23149.5 + 4581.72\n",
      "[300]\tcv_agg's rmse: 23086.8 + 4486.65\n",
      "[400]\tcv_agg's rmse: 22997.2 + 4675.71\n",
      "[500]\tcv_agg's rmse: 23182.6 + 4686.52\n",
      "[600]\tcv_agg's rmse: 23078.9 + 4629.77\n",
      "[700]\tcv_agg's rmse: 23157.2 + 4744.29\n",
      "[800]\tcv_agg's rmse: 23202.5 + 4713.2\n",
      "[900]\tcv_agg's rmse: 23244.8 + 4718.06\n"
     ]
    },
    {
     "name": "stderr",
     "output_type": "stream",
     "text": [
      "bagging, val_score: 21899.292918:  40%|####      | 4/10 [01:11<01:47, 17.92s/it]\u001b[32m[I 2022-10-31 17:36:26,673]\u001b[0m Trial 30 finished with value: 23296.38223634143 and parameters: {'bagging_fraction': 0.4348501673009778, 'bagging_freq': 7}. Best is trial 28 with value: 22353.73790306889.\u001b[0m\n",
      "bagging, val_score: 21899.292918:  40%|####      | 4/10 [01:11<01:47, 17.92s/it]"
     ]
    },
    {
     "name": "stdout",
     "output_type": "stream",
     "text": [
      "[1000]\tcv_agg's rmse: 23296.4 + 4701.22\n",
      "Did not meet early stopping. Best iteration is:\n",
      "[1000]\tcv_agg's rmse: 21899.3 + 4224.38\n",
      "[100]\tcv_agg's rmse: 22796.1 + 4839.09\n",
      "[200]\tcv_agg's rmse: 22513.9 + 4630.48\n",
      "[300]\tcv_agg's rmse: 22483.1 + 4544.43\n",
      "[400]\tcv_agg's rmse: 22528.4 + 4617.73\n",
      "[500]\tcv_agg's rmse: 22517.5 + 4648.6\n",
      "[600]\tcv_agg's rmse: 22518.2 + 4637.79\n",
      "[700]\tcv_agg's rmse: 22478.1 + 4629.8\n",
      "[800]\tcv_agg's rmse: 22469.5 + 4658.97\n",
      "[900]\tcv_agg's rmse: 22417.6 + 4679.95\n"
     ]
    },
    {
     "name": "stderr",
     "output_type": "stream",
     "text": [
      "bagging, val_score: 21899.292918:  50%|#####     | 5/10 [01:34<01:37, 19.56s/it]\u001b[32m[I 2022-10-31 17:36:49,133]\u001b[0m Trial 31 finished with value: 22389.23944562061 and parameters: {'bagging_fraction': 0.7606690070465265, 'bagging_freq': 5}. Best is trial 28 with value: 22353.73790306889.\u001b[0m\n",
      "bagging, val_score: 21899.292918:  50%|#####     | 5/10 [01:34<01:37, 19.56s/it]"
     ]
    },
    {
     "name": "stdout",
     "output_type": "stream",
     "text": [
      "[1000]\tcv_agg's rmse: 22389.2 + 4686.03\n",
      "Did not meet early stopping. Best iteration is:\n",
      "[1000]\tcv_agg's rmse: 21899.3 + 4224.38\n",
      "[100]\tcv_agg's rmse: 23413 + 4929.61\n",
      "[200]\tcv_agg's rmse: 23191.8 + 4919.65\n",
      "[300]\tcv_agg's rmse: 22875.3 + 4926.47\n",
      "[400]\tcv_agg's rmse: 22766.4 + 5154.06\n",
      "[500]\tcv_agg's rmse: 22925.7 + 5107.94\n",
      "[600]\tcv_agg's rmse: 22884 + 5123.55\n",
      "[700]\tcv_agg's rmse: 23006.1 + 5220.46\n",
      "[800]\tcv_agg's rmse: 23068.5 + 5206.74\n",
      "[900]\tcv_agg's rmse: 23126.3 + 5118.98\n"
     ]
    },
    {
     "name": "stderr",
     "output_type": "stream",
     "text": [
      "bagging, val_score: 21899.292918:  60%|######    | 6/10 [01:55<01:19, 19.92s/it]\u001b[32m[I 2022-10-31 17:37:09,752]\u001b[0m Trial 32 finished with value: 23178.567487249773 and parameters: {'bagging_fraction': 0.41235069657750206, 'bagging_freq': 7}. Best is trial 28 with value: 22353.73790306889.\u001b[0m\n",
      "bagging, val_score: 21899.292918:  60%|######    | 6/10 [01:55<01:19, 19.92s/it]"
     ]
    },
    {
     "name": "stdout",
     "output_type": "stream",
     "text": [
      "[1000]\tcv_agg's rmse: 23178.6 + 5033.61\n",
      "Did not meet early stopping. Best iteration is:\n",
      "[1000]\tcv_agg's rmse: 21899.3 + 4224.38\n",
      "[100]\tcv_agg's rmse: 22566.5 + 4782.23\n",
      "[200]\tcv_agg's rmse: 22585.9 + 4483.02\n",
      "[300]\tcv_agg's rmse: 22472 + 4500.77\n",
      "[400]\tcv_agg's rmse: 22396.2 + 4522.99\n",
      "[500]\tcv_agg's rmse: 22341.6 + 4514.67\n",
      "[600]\tcv_agg's rmse: 22296.8 + 4500.66\n",
      "[700]\tcv_agg's rmse: 22310.7 + 4494.6\n",
      "[800]\tcv_agg's rmse: 22325.8 + 4490.69\n",
      "[900]\tcv_agg's rmse: 22324.8 + 4475.54\n"
     ]
    },
    {
     "name": "stderr",
     "output_type": "stream",
     "text": [
      "bagging, val_score: 21899.292918:  70%|#######   | 7/10 [02:13<00:58, 19.51s/it]\u001b[32m[I 2022-10-31 17:37:28,426]\u001b[0m Trial 33 finished with value: 22296.690567166745 and parameters: {'bagging_fraction': 0.8994655844810855, 'bagging_freq': 2}. Best is trial 33 with value: 22296.690567166745.\u001b[0m\n",
      "bagging, val_score: 21899.292918:  70%|#######   | 7/10 [02:13<00:58, 19.51s/it]"
     ]
    },
    {
     "name": "stdout",
     "output_type": "stream",
     "text": [
      "[1000]\tcv_agg's rmse: 22296.7 + 4473.27\n",
      "Did not meet early stopping. Best iteration is:\n",
      "[1000]\tcv_agg's rmse: 21899.3 + 4224.38\n",
      "[100]\tcv_agg's rmse: 23060 + 4585.6\n",
      "[200]\tcv_agg's rmse: 22961.6 + 4551.43\n",
      "[300]\tcv_agg's rmse: 23037.7 + 4416.83\n",
      "[400]\tcv_agg's rmse: 23024.1 + 4493.85\n",
      "[500]\tcv_agg's rmse: 22994.6 + 4563.6\n",
      "[600]\tcv_agg's rmse: 23008 + 4538.55\n",
      "[700]\tcv_agg's rmse: 23058.1 + 4640.92\n",
      "[800]\tcv_agg's rmse: 23015.4 + 4610.22\n",
      "[900]\tcv_agg's rmse: 22979.1 + 4607.27\n"
     ]
    },
    {
     "name": "stderr",
     "output_type": "stream",
     "text": [
      "bagging, val_score: 21899.292918:  80%|########  | 8/10 [02:29<00:36, 18.43s/it]\u001b[32m[I 2022-10-31 17:37:44,550]\u001b[0m Trial 34 finished with value: 22936.247912035353 and parameters: {'bagging_fraction': 0.5090949803244422, 'bagging_freq': 2}. Best is trial 33 with value: 22296.690567166745.\u001b[0m\n",
      "bagging, val_score: 21899.292918:  80%|########  | 8/10 [02:29<00:36, 18.43s/it]"
     ]
    },
    {
     "name": "stdout",
     "output_type": "stream",
     "text": [
      "[1000]\tcv_agg's rmse: 22936.2 + 4594.09\n",
      "Did not meet early stopping. Best iteration is:\n",
      "[1000]\tcv_agg's rmse: 21899.3 + 4224.38\n",
      "[100]\tcv_agg's rmse: 22583.3 + 4734.91\n",
      "[200]\tcv_agg's rmse: 22230.4 + 4836.05\n",
      "[300]\tcv_agg's rmse: 22358.2 + 4755.35\n",
      "[400]\tcv_agg's rmse: 22342.7 + 4737.82\n",
      "[500]\tcv_agg's rmse: 22314.1 + 4769.95\n",
      "[600]\tcv_agg's rmse: 22386.9 + 4730.05\n",
      "[700]\tcv_agg's rmse: 22362.5 + 4788.6\n",
      "[800]\tcv_agg's rmse: 22377.3 + 4769.97\n",
      "[900]\tcv_agg's rmse: 22333.9 + 4772.75\n"
     ]
    },
    {
     "name": "stderr",
     "output_type": "stream",
     "text": [
      "bagging, val_score: 21899.292918:  90%|######### | 9/10 [02:53<00:19, 19.96s/it]\u001b[32m[I 2022-10-31 17:38:07,850]\u001b[0m Trial 35 finished with value: 22331.996161878116 and parameters: {'bagging_fraction': 0.5825453457760269, 'bagging_freq': 4}. Best is trial 33 with value: 22296.690567166745.\u001b[0m\n",
      "bagging, val_score: 21899.292918:  90%|######### | 9/10 [02:53<00:19, 19.96s/it]"
     ]
    },
    {
     "name": "stdout",
     "output_type": "stream",
     "text": [
      "[1000]\tcv_agg's rmse: 22332 + 4763.65\n",
      "Did not meet early stopping. Best iteration is:\n",
      "[1000]\tcv_agg's rmse: 21899.3 + 4224.38\n",
      "[100]\tcv_agg's rmse: 22863.3 + 4501.82\n",
      "[200]\tcv_agg's rmse: 22717.7 + 4550.69\n",
      "[300]\tcv_agg's rmse: 22685.8 + 4494.87\n",
      "[400]\tcv_agg's rmse: 22650.9 + 4581.97\n",
      "[500]\tcv_agg's rmse: 22630.9 + 4518.81\n",
      "[600]\tcv_agg's rmse: 22603.8 + 4513.41\n",
      "[700]\tcv_agg's rmse: 22615 + 4523.14\n",
      "[800]\tcv_agg's rmse: 22610.5 + 4496.9\n",
      "[900]\tcv_agg's rmse: 22611.6 + 4514.85\n"
     ]
    },
    {
     "name": "stderr",
     "output_type": "stream",
     "text": [
      "bagging, val_score: 21899.292918: 100%|##########| 10/10 [03:08<00:00, 18.49s/it]\u001b[32m[I 2022-10-31 17:38:23,065]\u001b[0m Trial 36 finished with value: 22632.306817326866 and parameters: {'bagging_fraction': 0.6591670111857015, 'bagging_freq': 3}. Best is trial 33 with value: 22296.690567166745.\u001b[0m\n",
      "bagging, val_score: 21899.292918: 100%|##########| 10/10 [03:08<00:00, 18.84s/it]\n"
     ]
    },
    {
     "name": "stdout",
     "output_type": "stream",
     "text": [
      "[1000]\tcv_agg's rmse: 22632.3 + 4521.9\n",
      "Did not meet early stopping. Best iteration is:\n",
      "[1000]\tcv_agg's rmse: 21899.3 + 4224.38\n"
     ]
    },
    {
     "name": "stderr",
     "output_type": "stream",
     "text": [
      "feature_fraction_stage2, val_score: 21899.292918:   0%|          | 0/6 [00:00<?, ?it/s]"
     ]
    },
    {
     "name": "stdout",
     "output_type": "stream",
     "text": [
      "[100]\tcv_agg's rmse: 22416.3 + 4810.89\n",
      "[200]\tcv_agg's rmse: 22360.1 + 4540.58\n",
      "[300]\tcv_agg's rmse: 22265 + 4541.42\n",
      "[400]\tcv_agg's rmse: 22210.7 + 4541.6\n",
      "[500]\tcv_agg's rmse: 22157.1 + 4550.65\n",
      "[600]\tcv_agg's rmse: 22117.6 + 4560.93\n",
      "[700]\tcv_agg's rmse: 22077.1 + 4553.69\n",
      "[800]\tcv_agg's rmse: 22058.7 + 4552.3\n",
      "[900]\tcv_agg's rmse: 22035.9 + 4561.99\n"
     ]
    },
    {
     "name": "stderr",
     "output_type": "stream",
     "text": [
      "feature_fraction_stage2, val_score: 21899.292918:  17%|#6        | 1/6 [00:15<01:16, 15.30s/it]\u001b[32m[I 2022-10-31 17:38:38,373]\u001b[0m Trial 37 finished with value: 22012.46322576839 and parameters: {'feature_fraction': 0.42}. Best is trial 37 with value: 22012.46322576839.\u001b[0m\n",
      "feature_fraction_stage2, val_score: 21899.292918:  17%|#6        | 1/6 [00:15<01:16, 15.30s/it]"
     ]
    },
    {
     "name": "stdout",
     "output_type": "stream",
     "text": [
      "[1000]\tcv_agg's rmse: 22012.5 + 4559.37\n",
      "Did not meet early stopping. Best iteration is:\n",
      "[1000]\tcv_agg's rmse: 21899.3 + 4224.38\n",
      "[100]\tcv_agg's rmse: 22427.5 + 4626.52\n",
      "[200]\tcv_agg's rmse: 22346.5 + 4519.55\n",
      "[300]\tcv_agg's rmse: 22256.1 + 4492.71\n",
      "[400]\tcv_agg's rmse: 22224.6 + 4485.03\n",
      "[500]\tcv_agg's rmse: 22163.3 + 4489.69\n",
      "[600]\tcv_agg's rmse: 22132.7 + 4510.74\n",
      "[700]\tcv_agg's rmse: 22098.9 + 4538.18\n",
      "[800]\tcv_agg's rmse: 22081.4 + 4540.61\n",
      "[900]\tcv_agg's rmse: 22053.2 + 4532.73\n"
     ]
    },
    {
     "name": "stderr",
     "output_type": "stream",
     "text": [
      "feature_fraction_stage2, val_score: 21899.292918:  33%|###3      | 2/6 [00:29<00:59, 14.84s/it]\u001b[32m[I 2022-10-31 17:38:52,891]\u001b[0m Trial 38 finished with value: 22049.3451501982 and parameters: {'feature_fraction': 0.45199999999999996}. Best is trial 37 with value: 22012.46322576839.\u001b[0m\n",
      "feature_fraction_stage2, val_score: 21899.292918:  33%|###3      | 2/6 [00:29<00:59, 14.84s/it]"
     ]
    },
    {
     "name": "stdout",
     "output_type": "stream",
     "text": [
      "[1000]\tcv_agg's rmse: 22049.3 + 4528.13\n",
      "Did not meet early stopping. Best iteration is:\n",
      "[1000]\tcv_agg's rmse: 21899.3 + 4224.38\n",
      "[100]\tcv_agg's rmse: 22379.7 + 4984.05\n",
      "[200]\tcv_agg's rmse: 22227.1 + 4772.98\n",
      "[300]\tcv_agg's rmse: 22119.6 + 4716.84\n",
      "[400]\tcv_agg's rmse: 22097.5 + 4713.62\n",
      "[500]\tcv_agg's rmse: 22011.9 + 4725.73\n",
      "[600]\tcv_agg's rmse: 22031.4 + 4725.44\n",
      "[700]\tcv_agg's rmse: 21977.2 + 4739\n",
      "[800]\tcv_agg's rmse: 21957.2 + 4726.3\n",
      "[900]\tcv_agg's rmse: 21934.1 + 4725.51\n"
     ]
    },
    {
     "name": "stderr",
     "output_type": "stream",
     "text": [
      "feature_fraction_stage2, val_score: 21899.292918:  50%|#####     | 3/6 [00:50<00:52, 17.46s/it]\u001b[32m[I 2022-10-31 17:39:13,457]\u001b[0m Trial 39 finished with value: 21944.379744669255 and parameters: {'feature_fraction': 0.484}. Best is trial 39 with value: 21944.379744669255.\u001b[0m\n",
      "feature_fraction_stage2, val_score: 21899.292918:  50%|#####     | 3/6 [00:50<00:52, 17.46s/it]"
     ]
    },
    {
     "name": "stdout",
     "output_type": "stream",
     "text": [
      "[1000]\tcv_agg's rmse: 21944.4 + 4713.28\n",
      "Did not meet early stopping. Best iteration is:\n",
      "[1000]\tcv_agg's rmse: 21899.3 + 4224.38\n",
      "[100]\tcv_agg's rmse: 22486.6 + 4385.55\n",
      "[200]\tcv_agg's rmse: 22502 + 4228.71\n",
      "[300]\tcv_agg's rmse: 22407.7 + 4078.28\n",
      "[400]\tcv_agg's rmse: 22345.2 + 4056.7\n",
      "[500]\tcv_agg's rmse: 22311.1 + 4065.41\n",
      "[600]\tcv_agg's rmse: 22345.3 + 4041.58\n",
      "[700]\tcv_agg's rmse: 22324.3 + 4070.32\n",
      "[800]\tcv_agg's rmse: 22309.4 + 4074.62\n",
      "[900]\tcv_agg's rmse: 22291.1 + 4079.76\n"
     ]
    },
    {
     "name": "stderr",
     "output_type": "stream",
     "text": [
      "feature_fraction_stage2, val_score: 21899.292918:  67%|######6   | 4/6 [01:09<00:36, 18.27s/it]\u001b[32m[I 2022-10-31 17:39:32,973]\u001b[0m Trial 40 finished with value: 22276.038273231392 and parameters: {'feature_fraction': 0.5479999999999999}. Best is trial 39 with value: 21944.379744669255.\u001b[0m\n",
      "feature_fraction_stage2, val_score: 21899.292918:  67%|######6   | 4/6 [01:09<00:36, 18.27s/it]"
     ]
    },
    {
     "name": "stdout",
     "output_type": "stream",
     "text": [
      "[1000]\tcv_agg's rmse: 22276 + 4082.48\n",
      "Did not meet early stopping. Best iteration is:\n",
      "[1000]\tcv_agg's rmse: 21899.3 + 4224.38\n",
      "[100]\tcv_agg's rmse: 22778.6 + 4573.3\n",
      "[200]\tcv_agg's rmse: 22577.1 + 4369.31\n",
      "[300]\tcv_agg's rmse: 22410.9 + 4360.95\n",
      "[400]\tcv_agg's rmse: 22349.3 + 4359.46\n",
      "[500]\tcv_agg's rmse: 22269.5 + 4352.4\n",
      "[600]\tcv_agg's rmse: 22235.5 + 4362.48\n",
      "[700]\tcv_agg's rmse: 22211.1 + 4374.7\n",
      "[800]\tcv_agg's rmse: 22191.6 + 4371.39\n",
      "[900]\tcv_agg's rmse: 22163.7 + 4366.75\n"
     ]
    },
    {
     "name": "stderr",
     "output_type": "stream",
     "text": [
      "feature_fraction_stage2, val_score: 21899.292918:  83%|########3 | 5/6 [01:27<00:18, 18.12s/it]\u001b[32m[I 2022-10-31 17:39:50,816]\u001b[0m Trial 41 finished with value: 22147.643544437287 and parameters: {'feature_fraction': 0.58}. Best is trial 39 with value: 21944.379744669255.\u001b[0m\n",
      "feature_fraction_stage2, val_score: 21899.292918:  83%|########3 | 5/6 [01:27<00:18, 18.12s/it]"
     ]
    },
    {
     "name": "stdout",
     "output_type": "stream",
     "text": [
      "[1000]\tcv_agg's rmse: 22147.6 + 4368.47\n",
      "Did not meet early stopping. Best iteration is:\n",
      "[1000]\tcv_agg's rmse: 21899.3 + 4224.38\n",
      "[100]\tcv_agg's rmse: 22379.5 + 4670.25\n",
      "[200]\tcv_agg's rmse: 22241.4 + 4482.75\n",
      "[300]\tcv_agg's rmse: 22084.4 + 4475.58\n",
      "[400]\tcv_agg's rmse: 21957.7 + 4467.06\n",
      "[500]\tcv_agg's rmse: 21921.2 + 4499.77\n",
      "[600]\tcv_agg's rmse: 21876.9 + 4517.43\n",
      "[700]\tcv_agg's rmse: 21842 + 4530.52\n",
      "[800]\tcv_agg's rmse: 21834.6 + 4548.24\n",
      "[900]\tcv_agg's rmse: 21808 + 4573.01\n"
     ]
    },
    {
     "name": "stderr",
     "output_type": "stream",
     "text": [
      "feature_fraction_stage2, val_score: 21787.581110: 100%|##########| 6/6 [01:53<00:00, 20.64s/it]\u001b[32m[I 2022-10-31 17:40:16,348]\u001b[0m Trial 42 finished with value: 21787.58110980044 and parameters: {'feature_fraction': 0.516}. Best is trial 42 with value: 21787.58110980044.\u001b[0m\n",
      "feature_fraction_stage2, val_score: 21787.581110: 100%|##########| 6/6 [01:53<00:00, 18.88s/it]\n"
     ]
    },
    {
     "name": "stdout",
     "output_type": "stream",
     "text": [
      "[1000]\tcv_agg's rmse: 21789.6 + 4579.97\n",
      "Did not meet early stopping. Best iteration is:\n",
      "[989]\tcv_agg's rmse: 21787.6 + 4576.12\n"
     ]
    },
    {
     "name": "stderr",
     "output_type": "stream",
     "text": [
      "regularization_factors, val_score: 21787.581110:   0%|          | 0/20 [00:00<?, ?it/s]"
     ]
    },
    {
     "name": "stdout",
     "output_type": "stream",
     "text": [
      "[100]\tcv_agg's rmse: 22418.8 + 4880.2\n",
      "[200]\tcv_agg's rmse: 22130.5 + 4743.94\n",
      "[300]\tcv_agg's rmse: 22104 + 4683.55\n",
      "[400]\tcv_agg's rmse: 22057.3 + 4693.43\n",
      "[500]\tcv_agg's rmse: 21999.6 + 4725.94\n",
      "[600]\tcv_agg's rmse: 21927.8 + 4736.37\n",
      "[700]\tcv_agg's rmse: 21903.1 + 4747.26\n",
      "[800]\tcv_agg's rmse: 21874.2 + 4766.08\n",
      "[900]\tcv_agg's rmse: 21852.6 + 4764.26\n"
     ]
    },
    {
     "name": "stderr",
     "output_type": "stream",
     "text": [
      "regularization_factors, val_score: 21787.581110:   5%|5         | 1/20 [00:17<05:27, 17.25s/it]\u001b[32m[I 2022-10-31 17:40:33,603]\u001b[0m Trial 43 finished with value: 21829.20423913136 and parameters: {'lambda_l1': 2.348881295853308e-05, 'lambda_l2': 3.6010467344475403}. Best is trial 43 with value: 21829.20423913136.\u001b[0m\n",
      "regularization_factors, val_score: 21787.581110:   5%|5         | 1/20 [00:17<05:27, 17.25s/it]"
     ]
    },
    {
     "name": "stdout",
     "output_type": "stream",
     "text": [
      "[1000]\tcv_agg's rmse: 21829.6 + 4764.7\n",
      "Did not meet early stopping. Best iteration is:\n",
      "[989]\tcv_agg's rmse: 21787.6 + 4576.12\n",
      "[100]\tcv_agg's rmse: 22398.7 + 4652.14\n",
      "[200]\tcv_agg's rmse: 22312 + 4473.44\n",
      "[300]\tcv_agg's rmse: 22165.3 + 4451.18\n",
      "[400]\tcv_agg's rmse: 22106.7 + 4466.21\n",
      "[500]\tcv_agg's rmse: 22033.5 + 4473.13\n",
      "[600]\tcv_agg's rmse: 21992.2 + 4479.92\n",
      "[700]\tcv_agg's rmse: 21977.7 + 4462.56\n",
      "[800]\tcv_agg's rmse: 21953.4 + 4456.12\n",
      "[900]\tcv_agg's rmse: 21935.3 + 4462.51\n"
     ]
    },
    {
     "name": "stderr",
     "output_type": "stream",
     "text": [
      "regularization_factors, val_score: 21787.581110:  10%|#         | 2/20 [00:33<05:03, 16.86s/it]\u001b[32m[I 2022-10-31 17:40:50,190]\u001b[0m Trial 44 finished with value: 21914.261906642376 and parameters: {'lambda_l1': 0.038720902953704193, 'lambda_l2': 0.0024430162614261413}. Best is trial 43 with value: 21829.20423913136.\u001b[0m\n",
      "regularization_factors, val_score: 21787.581110:  10%|#         | 2/20 [00:33<05:03, 16.86s/it]"
     ]
    },
    {
     "name": "stdout",
     "output_type": "stream",
     "text": [
      "[1000]\tcv_agg's rmse: 21915.3 + 4465.93\n",
      "Did not meet early stopping. Best iteration is:\n",
      "[989]\tcv_agg's rmse: 21787.6 + 4576.12\n",
      "[100]\tcv_agg's rmse: 22379.7 + 4670.35\n",
      "[200]\tcv_agg's rmse: 22241.5 + 4482.85\n",
      "[300]\tcv_agg's rmse: 22084.6 + 4475.68\n",
      "[400]\tcv_agg's rmse: 21957.9 + 4467.08\n",
      "[500]\tcv_agg's rmse: 21921.5 + 4499.79\n",
      "[600]\tcv_agg's rmse: 21877.1 + 4517.44\n",
      "[700]\tcv_agg's rmse: 21842.2 + 4530.55\n",
      "[800]\tcv_agg's rmse: 21834.9 + 4548.26\n",
      "[900]\tcv_agg's rmse: 21808.2 + 4573.04\n"
     ]
    },
    {
     "name": "stderr",
     "output_type": "stream",
     "text": [
      "regularization_factors, val_score: 21787.581110:  15%|#5        | 3/20 [01:00<06:03, 21.36s/it]\u001b[32m[I 2022-10-31 17:41:16,902]\u001b[0m Trial 45 finished with value: 21787.81030954916 and parameters: {'lambda_l1': 2.5361081166471375e-07, 'lambda_l2': 2.5348407664333426e-07}. Best is trial 45 with value: 21787.81030954916.\u001b[0m\n",
      "regularization_factors, val_score: 21787.581110:  15%|#5        | 3/20 [01:00<06:03, 21.36s/it]"
     ]
    },
    {
     "name": "stdout",
     "output_type": "stream",
     "text": [
      "[1000]\tcv_agg's rmse: 21789.8 + 4579.99\n",
      "Did not meet early stopping. Best iteration is:\n",
      "[989]\tcv_agg's rmse: 21787.6 + 4576.12\n",
      "[100]\tcv_agg's rmse: 22512.4 + 4620.42\n",
      "[200]\tcv_agg's rmse: 22374.1 + 4487.1\n",
      "[300]\tcv_agg's rmse: 22263.1 + 4480.15\n",
      "[400]\tcv_agg's rmse: 22216.1 + 4456.84\n",
      "[500]\tcv_agg's rmse: 22175.6 + 4443.06\n",
      "[600]\tcv_agg's rmse: 22141.2 + 4419.72\n",
      "[700]\tcv_agg's rmse: 22118 + 4410.67\n",
      "[800]\tcv_agg's rmse: 22087.8 + 4421.03\n",
      "[900]\tcv_agg's rmse: 22060.3 + 4427.37\n"
     ]
    },
    {
     "name": "stderr",
     "output_type": "stream",
     "text": [
      "regularization_factors, val_score: 21787.581110:  20%|##        | 4/20 [01:20<05:35, 20.95s/it]\u001b[32m[I 2022-10-31 17:41:37,213]\u001b[0m Trial 46 finished with value: 22035.281297138557 and parameters: {'lambda_l1': 3.3323645788192616e-08, 'lambda_l2': 0.6245760287469893}. Best is trial 45 with value: 21787.81030954916.\u001b[0m\n",
      "regularization_factors, val_score: 21787.581110:  20%|##        | 4/20 [01:20<05:35, 20.95s/it]"
     ]
    },
    {
     "name": "stdout",
     "output_type": "stream",
     "text": [
      "[1000]\tcv_agg's rmse: 22033.5 + 4435.36\n",
      "Did not meet early stopping. Best iteration is:\n",
      "[989]\tcv_agg's rmse: 21787.6 + 4576.12\n",
      "[100]\tcv_agg's rmse: 22540.7 + 4670.71\n",
      "[200]\tcv_agg's rmse: 22382.5 + 4585.89\n",
      "[300]\tcv_agg's rmse: 22318.3 + 4574.62\n",
      "[400]\tcv_agg's rmse: 22248.7 + 4537.95\n",
      "[500]\tcv_agg's rmse: 22161 + 4508.73\n",
      "[600]\tcv_agg's rmse: 22110 + 4552.33\n",
      "[700]\tcv_agg's rmse: 22089.3 + 4553.08\n",
      "[800]\tcv_agg's rmse: 22078.5 + 4547.81\n",
      "[900]\tcv_agg's rmse: 22061.9 + 4546.77\n"
     ]
    },
    {
     "name": "stderr",
     "output_type": "stream",
     "text": [
      "regularization_factors, val_score: 21787.581110:  25%|##5       | 5/20 [01:38<04:53, 19.58s/it]\u001b[32m[I 2022-10-31 17:41:54,360]\u001b[0m Trial 47 finished with value: 22046.31682264148 and parameters: {'lambda_l1': 0.002570603566117598, 'lambda_l2': 0.023585940584142682}. Best is trial 45 with value: 21787.81030954916.\u001b[0m\n",
      "regularization_factors, val_score: 21787.581110:  25%|##5       | 5/20 [01:38<04:53, 19.58s/it]"
     ]
    },
    {
     "name": "stdout",
     "output_type": "stream",
     "text": [
      "[1000]\tcv_agg's rmse: 22045.5 + 4547.65\n",
      "Did not meet early stopping. Best iteration is:\n",
      "[989]\tcv_agg's rmse: 21787.6 + 4576.12\n",
      "[100]\tcv_agg's rmse: 22688.2 + 4656.26\n",
      "[200]\tcv_agg's rmse: 22414.3 + 4528.43\n",
      "[300]\tcv_agg's rmse: 22291.4 + 4442.92\n",
      "[400]\tcv_agg's rmse: 22230.2 + 4431.14\n",
      "[500]\tcv_agg's rmse: 22194.5 + 4436.73\n",
      "[600]\tcv_agg's rmse: 22174.1 + 4451.26\n",
      "[700]\tcv_agg's rmse: 22140.5 + 4470.9\n",
      "[800]\tcv_agg's rmse: 22110.3 + 4487.84\n",
      "[900]\tcv_agg's rmse: 22108.7 + 4497.85\n"
     ]
    },
    {
     "name": "stderr",
     "output_type": "stream",
     "text": [
      "regularization_factors, val_score: 21787.581110:  30%|###       | 6/20 [02:03<05:00, 21.45s/it]\u001b[32m[I 2022-10-31 17:42:19,441]\u001b[0m Trial 48 finished with value: 22106.933939218365 and parameters: {'lambda_l1': 1.5320059381854043e-08, 'lambda_l2': 5.360294728728285}. Best is trial 45 with value: 21787.81030954916.\u001b[0m\n",
      "regularization_factors, val_score: 21787.581110:  30%|###       | 6/20 [02:03<05:00, 21.45s/it]"
     ]
    },
    {
     "name": "stdout",
     "output_type": "stream",
     "text": [
      "[1000]\tcv_agg's rmse: 22104.2 + 4498.92\n",
      "Did not meet early stopping. Best iteration is:\n",
      "[989]\tcv_agg's rmse: 21787.6 + 4576.12\n",
      "[100]\tcv_agg's rmse: 22379.5 + 4670.22\n",
      "[200]\tcv_agg's rmse: 22241.3 + 4482.69\n",
      "[300]\tcv_agg's rmse: 22084.4 + 4475.53\n",
      "[400]\tcv_agg's rmse: 21957.4 + 4467.21\n",
      "[500]\tcv_agg's rmse: 21921 + 4499.92\n",
      "[600]\tcv_agg's rmse: 21871.2 + 4513.7\n",
      "[700]\tcv_agg's rmse: 21840.4 + 4529.74\n",
      "[800]\tcv_agg's rmse: 21818.3 + 4532.99\n",
      "[900]\tcv_agg's rmse: 21778.4 + 4546.11\n"
     ]
    },
    {
     "name": "stderr",
     "output_type": "stream",
     "text": [
      "regularization_factors, val_score: 21762.442412:  35%|###5      | 7/20 [02:22<04:29, 20.73s/it]\u001b[32m[I 2022-10-31 17:42:38,690]\u001b[0m Trial 49 finished with value: 21762.442412328885 and parameters: {'lambda_l1': 0.31044435499483225, 'lambda_l2': 8.148018307012941e-07}. Best is trial 49 with value: 21762.442412328885.\u001b[0m\n",
      "regularization_factors, val_score: 21762.442412:  35%|###5      | 7/20 [02:22<04:29, 20.73s/it]"
     ]
    },
    {
     "name": "stdout",
     "output_type": "stream",
     "text": [
      "[1000]\tcv_agg's rmse: 21762.4 + 4541.84\n",
      "Did not meet early stopping. Best iteration is:\n",
      "[1000]\tcv_agg's rmse: 21762.4 + 4541.84\n",
      "[100]\tcv_agg's rmse: 22379.5 + 4670.22\n",
      "[200]\tcv_agg's rmse: 22241.3 + 4482.73\n",
      "[300]\tcv_agg's rmse: 22084.4 + 4475.57\n",
      "[400]\tcv_agg's rmse: 21957.8 + 4466.96\n",
      "[500]\tcv_agg's rmse: 21921.3 + 4499.66\n",
      "[600]\tcv_agg's rmse: 21877 + 4517.33\n",
      "[700]\tcv_agg's rmse: 21842.1 + 4530.42\n",
      "[800]\tcv_agg's rmse: 21834.7 + 4548.14\n",
      "[900]\tcv_agg's rmse: 21808 + 4572.91\n"
     ]
    },
    {
     "name": "stderr",
     "output_type": "stream",
     "text": [
      "regularization_factors, val_score: 21762.442412:  40%|####      | 8/20 [02:46<04:20, 21.69s/it]\u001b[32m[I 2022-10-31 17:43:02,444]\u001b[0m Trial 50 finished with value: 21789.642066538705 and parameters: {'lambda_l1': 4.329370014459266e-07, 'lambda_l2': 4.4734294104626844e-07}. Best is trial 49 with value: 21762.442412328885.\u001b[0m\n",
      "regularization_factors, val_score: 21762.442412:  40%|####      | 8/20 [02:46<04:20, 21.69s/it]"
     ]
    },
    {
     "name": "stdout",
     "output_type": "stream",
     "text": [
      "[1000]\tcv_agg's rmse: 21789.6 + 4579.88\n",
      "Did not meet early stopping. Best iteration is:\n",
      "[1000]\tcv_agg's rmse: 21762.4 + 4541.84\n",
      "[100]\tcv_agg's rmse: 22379.5 + 4670.24\n",
      "[200]\tcv_agg's rmse: 22241.3 + 4482.74\n",
      "[300]\tcv_agg's rmse: 22084.4 + 4475.58\n",
      "[400]\tcv_agg's rmse: 21950.5 + 4473.66\n",
      "[500]\tcv_agg's rmse: 21908.6 + 4511.13\n",
      "[600]\tcv_agg's rmse: 21879.4 + 4533.77\n",
      "[700]\tcv_agg's rmse: 21860 + 4530.3\n",
      "[800]\tcv_agg's rmse: 21848.6 + 4531.85\n",
      "[900]\tcv_agg's rmse: 21838.7 + 4541.94\n"
     ]
    },
    {
     "name": "stderr",
     "output_type": "stream",
     "text": [
      "regularization_factors, val_score: 21762.442412:  45%|####5     | 9/20 [03:03<03:43, 20.29s/it]\u001b[32m[I 2022-10-31 17:43:19,658]\u001b[0m Trial 51 finished with value: 21821.318276552 and parameters: {'lambda_l1': 5.472429642032198e-06, 'lambda_l2': 0.00052821153945323}. Best is trial 49 with value: 21762.442412328885.\u001b[0m\n",
      "regularization_factors, val_score: 21762.442412:  45%|####5     | 9/20 [03:03<03:43, 20.29s/it]"
     ]
    },
    {
     "name": "stdout",
     "output_type": "stream",
     "text": [
      "[1000]\tcv_agg's rmse: 21821.3 + 4534.62\n",
      "Did not meet early stopping. Best iteration is:\n",
      "[1000]\tcv_agg's rmse: 21762.4 + 4541.84\n",
      "[100]\tcv_agg's rmse: 22379.5 + 4670.22\n",
      "[200]\tcv_agg's rmse: 22241.3 + 4482.73\n",
      "[300]\tcv_agg's rmse: 22084.4 + 4475.57\n",
      "[400]\tcv_agg's rmse: 21957.5 + 4467.25\n",
      "[500]\tcv_agg's rmse: 21921 + 4499.92\n",
      "[600]\tcv_agg's rmse: 21876.7 + 4517.58\n",
      "[700]\tcv_agg's rmse: 21841.8 + 4530.68\n",
      "[800]\tcv_agg's rmse: 21834.4 + 4548.4\n",
      "[900]\tcv_agg's rmse: 21807.8 + 4573.17\n"
     ]
    },
    {
     "name": "stderr",
     "output_type": "stream",
     "text": [
      "regularization_factors, val_score: 21762.442412:  50%|#####     | 10/20 [03:20<03:14, 19.42s/it]\u001b[32m[I 2022-10-31 17:43:37,139]\u001b[0m Trial 52 finished with value: 21789.364437095723 and parameters: {'lambda_l1': 7.71800699380605e-05, 'lambda_l2': 4.17890272377219e-06}. Best is trial 49 with value: 21762.442412328885.\u001b[0m\n",
      "regularization_factors, val_score: 21762.442412:  50%|#####     | 10/20 [03:20<03:14, 19.42s/it]"
     ]
    },
    {
     "name": "stdout",
     "output_type": "stream",
     "text": [
      "[1000]\tcv_agg's rmse: 21789.4 + 4580.13\n",
      "Did not meet early stopping. Best iteration is:\n",
      "[1000]\tcv_agg's rmse: 21762.4 + 4541.84\n",
      "[100]\tcv_agg's rmse: 22379.5 + 4670.25\n",
      "[200]\tcv_agg's rmse: 22241.4 + 4482.75\n",
      "[300]\tcv_agg's rmse: 22084.4 + 4475.59\n",
      "[400]\tcv_agg's rmse: 21972.9 + 4453.24\n",
      "[500]\tcv_agg's rmse: 21905.3 + 4477.69\n",
      "[600]\tcv_agg's rmse: 21878.2 + 4444.73\n",
      "[700]\tcv_agg's rmse: 21857.3 + 4468.21\n",
      "[800]\tcv_agg's rmse: 21827.6 + 4464.42\n",
      "[900]\tcv_agg's rmse: 21803.8 + 4468.78\n"
     ]
    },
    {
     "name": "stderr",
     "output_type": "stream",
     "text": [
      "regularization_factors, val_score: 21762.442412:  55%|#####5    | 11/20 [03:42<03:00, 20.06s/it]\u001b[32m[I 2022-10-31 17:43:58,639]\u001b[0m Trial 53 finished with value: 21785.346605787658 and parameters: {'lambda_l1': 6.338181430721366, 'lambda_l2': 1.1323342574942026e-08}. Best is trial 49 with value: 21762.442412328885.\u001b[0m\n",
      "regularization_factors, val_score: 21762.442412:  55%|#####5    | 11/20 [03:42<03:00, 20.06s/it]"
     ]
    },
    {
     "name": "stdout",
     "output_type": "stream",
     "text": [
      "[1000]\tcv_agg's rmse: 21785.3 + 4460.92\n",
      "Did not meet early stopping. Best iteration is:\n",
      "[1000]\tcv_agg's rmse: 21762.4 + 4541.84\n",
      "[100]\tcv_agg's rmse: 22379.5 + 4670.25\n",
      "[200]\tcv_agg's rmse: 22241.4 + 4482.75\n",
      "[300]\tcv_agg's rmse: 22084.4 + 4475.59\n",
      "[400]\tcv_agg's rmse: 21959.2 + 4465.68\n",
      "[500]\tcv_agg's rmse: 21888.9 + 4492.44\n",
      "[600]\tcv_agg's rmse: 21859 + 4462.12\n",
      "[700]\tcv_agg's rmse: 21836.1 + 4487.31\n",
      "[800]\tcv_agg's rmse: 21799.7 + 4489.68\n",
      "[900]\tcv_agg's rmse: 21781.4 + 4488.99\n"
     ]
    },
    {
     "name": "stderr",
     "output_type": "stream",
     "text": [
      "regularization_factors, val_score: 21762.442412:  60%|######    | 12/20 [04:05<02:48, 21.02s/it]\u001b[32m[I 2022-10-31 17:44:21,843]\u001b[0m Trial 54 finished with value: 21762.57121577566 and parameters: {'lambda_l1': 5.319049072944695, 'lambda_l2': 1.1160254214745964e-08}. Best is trial 49 with value: 21762.442412328885.\u001b[0m\n",
      "regularization_factors, val_score: 21762.442412:  60%|######    | 12/20 [04:05<02:48, 21.02s/it]"
     ]
    },
    {
     "name": "stdout",
     "output_type": "stream",
     "text": [
      "[1000]\tcv_agg's rmse: 21762.6 + 4481.43\n",
      "Did not meet early stopping. Best iteration is:\n",
      "[1000]\tcv_agg's rmse: 21762.4 + 4541.84\n",
      "[100]\tcv_agg's rmse: 22379.5 + 4670.25\n",
      "[200]\tcv_agg's rmse: 22241.4 + 4482.75\n",
      "[300]\tcv_agg's rmse: 22084.4 + 4475.59\n",
      "[400]\tcv_agg's rmse: 21950.5 + 4473.66\n",
      "[500]\tcv_agg's rmse: 21885.3 + 4495.79\n",
      "[600]\tcv_agg's rmse: 21857 + 4463.89\n",
      "[700]\tcv_agg's rmse: 21831.2 + 4491.77\n",
      "[800]\tcv_agg's rmse: 21806 + 4483.91\n",
      "[900]\tcv_agg's rmse: 21781.6 + 4488.78\n"
     ]
    },
    {
     "name": "stderr",
     "output_type": "stream",
     "text": [
      "regularization_factors, val_score: 21761.023175:  65%|######5   | 13/20 [04:33<02:41, 23.08s/it]\u001b[32m[I 2022-10-31 17:44:49,658]\u001b[0m Trial 55 finished with value: 21761.023175071048 and parameters: {'lambda_l1': 6.984886757774584, 'lambda_l2': 1.2439642430435591e-05}. Best is trial 55 with value: 21761.023175071048.\u001b[0m\n",
      "regularization_factors, val_score: 21761.023175:  65%|######5   | 13/20 [04:33<02:41, 23.08s/it]"
     ]
    },
    {
     "name": "stdout",
     "output_type": "stream",
     "text": [
      "[1000]\tcv_agg's rmse: 21761 + 4482.86\n",
      "Did not meet early stopping. Best iteration is:\n",
      "[1000]\tcv_agg's rmse: 21761 + 4482.86\n",
      "[100]\tcv_agg's rmse: 22379.5 + 4670.22\n",
      "[200]\tcv_agg's rmse: 22241.3 + 4482.73\n",
      "[300]\tcv_agg's rmse: 22084.4 + 4475.57\n",
      "[400]\tcv_agg's rmse: 21957.8 + 4466.96\n",
      "[500]\tcv_agg's rmse: 21921.3 + 4499.66\n",
      "[600]\tcv_agg's rmse: 21871.5 + 4513.45\n",
      "[700]\tcv_agg's rmse: 21840.7 + 4529.48\n",
      "[800]\tcv_agg's rmse: 21818.6 + 4532.74\n",
      "[900]\tcv_agg's rmse: 21778.7 + 4545.86\n"
     ]
    },
    {
     "name": "stderr",
     "output_type": "stream",
     "text": [
      "regularization_factors, val_score: 21761.023175:  70%|#######   | 14/20 [04:57<02:21, 23.52s/it]\u001b[32m[I 2022-10-31 17:45:14,199]\u001b[0m Trial 56 finished with value: 21762.771136785934 and parameters: {'lambda_l1': 0.2358485506193096, 'lambda_l2': 1.2773361933433981e-05}. Best is trial 55 with value: 21761.023175071048.\u001b[0m\n",
      "regularization_factors, val_score: 21761.023175:  70%|#######   | 14/20 [04:57<02:21, 23.52s/it]"
     ]
    },
    {
     "name": "stdout",
     "output_type": "stream",
     "text": [
      "[1000]\tcv_agg's rmse: 21762.8 + 4541.58\n",
      "Did not meet early stopping. Best iteration is:\n",
      "[1000]\tcv_agg's rmse: 21761 + 4482.86\n",
      "[100]\tcv_agg's rmse: 22379.5 + 4670.22\n",
      "[200]\tcv_agg's rmse: 22241.3 + 4482.73\n",
      "[300]\tcv_agg's rmse: 22084.4 + 4475.57\n",
      "[400]\tcv_agg's rmse: 21957.8 + 4466.96\n",
      "[500]\tcv_agg's rmse: 21921.3 + 4499.66\n",
      "[600]\tcv_agg's rmse: 21877 + 4517.32\n",
      "[700]\tcv_agg's rmse: 21842.1 + 4530.41\n",
      "[800]\tcv_agg's rmse: 21822.5 + 4535.49\n",
      "[900]\tcv_agg's rmse: 21792.6 + 4555.68\n"
     ]
    },
    {
     "name": "stderr",
     "output_type": "stream",
     "text": [
      "regularization_factors, val_score: 21761.023175:  75%|#######5  | 15/20 [05:16<01:50, 22.04s/it]\u001b[32m[I 2022-10-31 17:45:32,799]\u001b[0m Trial 57 finished with value: 21774.14423859935 and parameters: {'lambda_l1': 0.17001035935397768, 'lambda_l2': 2.759927278210861e-05}. Best is trial 55 with value: 21761.023175071048.\u001b[0m\n",
      "regularization_factors, val_score: 21761.023175:  75%|#######5  | 15/20 [05:16<01:50, 22.04s/it]"
     ]
    },
    {
     "name": "stdout",
     "output_type": "stream",
     "text": [
      "[1000]\tcv_agg's rmse: 21774.1 + 4549.59\n",
      "Did not meet early stopping. Best iteration is:\n",
      "[1000]\tcv_agg's rmse: 21761 + 4482.86\n",
      "[100]\tcv_agg's rmse: 22379.5 + 4670.25\n",
      "[200]\tcv_agg's rmse: 22241.4 + 4482.75\n",
      "[300]\tcv_agg's rmse: 22084.4 + 4475.58\n",
      "[400]\tcv_agg's rmse: 21957.8 + 4466.98\n",
      "[500]\tcv_agg's rmse: 21921.3 + 4499.69\n",
      "[600]\tcv_agg's rmse: 21877 + 4517.35\n",
      "[700]\tcv_agg's rmse: 21842.1 + 4530.44\n",
      "[800]\tcv_agg's rmse: 21834.7 + 4548.16\n",
      "[900]\tcv_agg's rmse: 21808.1 + 4572.94\n"
     ]
    },
    {
     "name": "stderr",
     "output_type": "stream",
     "text": [
      "regularization_factors, val_score: 21761.023175:  80%|########  | 16/20 [05:36<01:25, 21.34s/it]\u001b[32m[I 2022-10-31 17:45:52,518]\u001b[0m Trial 58 finished with value: 21789.67087336485 and parameters: {'lambda_l1': 0.0040737145906599905, 'lambda_l2': 9.542581745366943e-07}. Best is trial 55 with value: 21761.023175071048.\u001b[0m\n",
      "regularization_factors, val_score: 21761.023175:  80%|########  | 16/20 [05:36<01:25, 21.34s/it]"
     ]
    },
    {
     "name": "stdout",
     "output_type": "stream",
     "text": [
      "[1000]\tcv_agg's rmse: 21789.7 + 4579.9\n",
      "Did not meet early stopping. Best iteration is:\n",
      "[1000]\tcv_agg's rmse: 21761 + 4482.86\n",
      "[100]\tcv_agg's rmse: 22379.5 + 4670.25\n",
      "[200]\tcv_agg's rmse: 22241.4 + 4482.75\n",
      "[300]\tcv_agg's rmse: 22084.4 + 4475.59\n",
      "[400]\tcv_agg's rmse: 21957.7 + 4467.06\n",
      "[500]\tcv_agg's rmse: 21921.2 + 4499.77\n",
      "[600]\tcv_agg's rmse: 21871.5 + 4513.56\n",
      "[700]\tcv_agg's rmse: 21840.7 + 4529.59\n",
      "[800]\tcv_agg's rmse: 21818.6 + 4532.84\n",
      "[900]\tcv_agg's rmse: 21778.6 + 4545.96\n"
     ]
    },
    {
     "name": "stderr",
     "output_type": "stream",
     "text": [
      "regularization_factors, val_score: 21761.023175:  85%|########5 | 17/20 [06:03<01:09, 23.21s/it]\u001b[32m[I 2022-10-31 17:46:20,093]\u001b[0m Trial 59 finished with value: 21762.725395038076 and parameters: {'lambda_l1': 0.8067237689726944, 'lambda_l2': 8.113466471626518e-05}. Best is trial 55 with value: 21761.023175071048.\u001b[0m\n",
      "regularization_factors, val_score: 21761.023175:  85%|########5 | 17/20 [06:03<01:09, 23.21s/it]"
     ]
    },
    {
     "name": "stdout",
     "output_type": "stream",
     "text": [
      "[1000]\tcv_agg's rmse: 21762.7 + 4541.69\n",
      "Did not meet early stopping. Best iteration is:\n",
      "[1000]\tcv_agg's rmse: 21761 + 4482.86\n",
      "[100]\tcv_agg's rmse: 22550 + 4560.68\n",
      "[200]\tcv_agg's rmse: 22313.4 + 4415.26\n",
      "[300]\tcv_agg's rmse: 22210.2 + 4378.02\n",
      "[400]\tcv_agg's rmse: 22158.4 + 4343.41\n",
      "[500]\tcv_agg's rmse: 22120.7 + 4338.16\n",
      "[600]\tcv_agg's rmse: 22080.8 + 4351.93\n",
      "[700]\tcv_agg's rmse: 22048.8 + 4352.95\n",
      "[800]\tcv_agg's rmse: 22024.9 + 4355.55\n",
      "[900]\tcv_agg's rmse: 22011.8 + 4362.05\n"
     ]
    },
    {
     "name": "stderr",
     "output_type": "stream",
     "text": [
      "regularization_factors, val_score: 21761.023175:  90%|######### | 18/20 [06:21<00:43, 21.71s/it]\u001b[32m[I 2022-10-31 17:46:38,315]\u001b[0m Trial 60 finished with value: 22007.579395843735 and parameters: {'lambda_l1': 0.00671765369259358, 'lambda_l2': 0.005982243046474453}. Best is trial 55 with value: 21761.023175071048.\u001b[0m\n",
      "regularization_factors, val_score: 21761.023175:  90%|######### | 18/20 [06:21<00:43, 21.71s/it]"
     ]
    },
    {
     "name": "stdout",
     "output_type": "stream",
     "text": [
      "[1000]\tcv_agg's rmse: 22007.6 + 4352.07\n",
      "Did not meet early stopping. Best iteration is:\n",
      "[1000]\tcv_agg's rmse: 21761 + 4482.86\n",
      "[100]\tcv_agg's rmse: 22379.5 + 4670.25\n",
      "[200]\tcv_agg's rmse: 22241.4 + 4482.75\n",
      "[300]\tcv_agg's rmse: 22084.4 + 4475.59\n",
      "[400]\tcv_agg's rmse: 21950.8 + 4473.39\n",
      "[500]\tcv_agg's rmse: 21894.2 + 4487.69\n",
      "[600]\tcv_agg's rmse: 21873.9 + 4448.6\n",
      "[700]\tcv_agg's rmse: 21853.5 + 4471.71\n",
      "[800]\tcv_agg's rmse: 21825.1 + 4466.78\n",
      "[900]\tcv_agg's rmse: 21804.2 + 4469.23\n"
     ]
    },
    {
     "name": "stderr",
     "output_type": "stream",
     "text": [
      "regularization_factors, val_score: 21761.023175:  95%|#########5| 19/20 [06:46<00:22, 22.57s/it]\u001b[32m[I 2022-10-31 17:47:02,893]\u001b[0m Trial 61 finished with value: 21795.413076711582 and parameters: {'lambda_l1': 9.011893813996108, 'lambda_l2': 9.685854676171804e-08}. Best is trial 55 with value: 21761.023175071048.\u001b[0m\n",
      "regularization_factors, val_score: 21761.023175:  95%|#########5| 19/20 [06:46<00:22, 22.57s/it]"
     ]
    },
    {
     "name": "stdout",
     "output_type": "stream",
     "text": [
      "[1000]\tcv_agg's rmse: 21795.4 + 4455.46\n",
      "Did not meet early stopping. Best iteration is:\n",
      "[1000]\tcv_agg's rmse: 21761 + 4482.86\n",
      "[100]\tcv_agg's rmse: 22379.5 + 4670.23\n",
      "[200]\tcv_agg's rmse: 22241.3 + 4482.76\n",
      "[300]\tcv_agg's rmse: 22084.4 + 4475.59\n",
      "[400]\tcv_agg's rmse: 21957.5 + 4467.27\n",
      "[500]\tcv_agg's rmse: 21921 + 4499.98\n",
      "[600]\tcv_agg's rmse: 21878.6 + 4525.73\n",
      "[700]\tcv_agg's rmse: 21846.8 + 4540.13\n",
      "[800]\tcv_agg's rmse: 21826.6 + 4546.48\n",
      "[900]\tcv_agg's rmse: 21787.8 + 4561.48\n"
     ]
    },
    {
     "name": "stderr",
     "output_type": "stream",
     "text": [
      "regularization_factors, val_score: 21761.023175: 100%|##########| 20/20 [07:10<00:00, 23.10s/it]\u001b[32m[I 2022-10-31 17:47:27,220]\u001b[0m Trial 62 finished with value: 21770.016414384456 and parameters: {'lambda_l1': 0.9478184390242392, 'lambda_l2': 0.00023429258038973983}. Best is trial 55 with value: 21761.023175071048.\u001b[0m\n",
      "regularization_factors, val_score: 21761.023175: 100%|##########| 20/20 [07:10<00:00, 21.54s/it]\n"
     ]
    },
    {
     "name": "stdout",
     "output_type": "stream",
     "text": [
      "[1000]\tcv_agg's rmse: 21770 + 4559.41\n",
      "Did not meet early stopping. Best iteration is:\n",
      "[1000]\tcv_agg's rmse: 21761 + 4482.86\n"
     ]
    },
    {
     "name": "stderr",
     "output_type": "stream",
     "text": [
      "min_data_in_leaf, val_score: 21761.023175:   0%|          | 0/5 [00:00<?, ?it/s]"
     ]
    },
    {
     "name": "stdout",
     "output_type": "stream",
     "text": [
      "[100]\tcv_agg's rmse: 22325.6 + 4684.02\n",
      "[200]\tcv_agg's rmse: 22147 + 4655.53\n",
      "[300]\tcv_agg's rmse: 22095.3 + 4706.63\n",
      "[400]\tcv_agg's rmse: 22056.5 + 4707.09\n",
      "[500]\tcv_agg's rmse: 22009.5 + 4725.28\n",
      "[600]\tcv_agg's rmse: 21965.6 + 4722.71\n",
      "[700]\tcv_agg's rmse: 21948.4 + 4722.01\n",
      "[800]\tcv_agg's rmse: 21924.4 + 4723.61\n",
      "[900]\tcv_agg's rmse: 21928.2 + 4723.98\n"
     ]
    },
    {
     "name": "stderr",
     "output_type": "stream",
     "text": [
      "min_data_in_leaf, val_score: 21761.023175:  20%|##        | 1/5 [00:21<01:25, 21.31s/it]\u001b[32m[I 2022-10-31 17:47:48,533]\u001b[0m Trial 63 finished with value: 21926.178143372155 and parameters: {'min_child_samples': 10}. Best is trial 63 with value: 21926.178143372155.\u001b[0m\n",
      "min_data_in_leaf, val_score: 21761.023175:  20%|##        | 1/5 [00:21<01:25, 21.31s/it]"
     ]
    },
    {
     "name": "stdout",
     "output_type": "stream",
     "text": [
      "[1000]\tcv_agg's rmse: 21926.2 + 4736.4\n",
      "Did not meet early stopping. Best iteration is:\n",
      "[1000]\tcv_agg's rmse: 21761 + 4482.86\n",
      "[100]\tcv_agg's rmse: 24523.6 + 5746.18\n",
      "[200]\tcv_agg's rmse: 23780.8 + 5407.25\n",
      "[300]\tcv_agg's rmse: 23588.3 + 5343.87\n",
      "[400]\tcv_agg's rmse: 23432.1 + 5204.7\n",
      "[500]\tcv_agg's rmse: 23316 + 5116.64\n",
      "[600]\tcv_agg's rmse: 23280.8 + 5072.05\n",
      "[700]\tcv_agg's rmse: 23233.2 + 5046.08\n",
      "[800]\tcv_agg's rmse: 23225.7 + 5017.39\n",
      "[900]\tcv_agg's rmse: 23197.9 + 4988.15\n"
     ]
    },
    {
     "name": "stderr",
     "output_type": "stream",
     "text": [
      "min_data_in_leaf, val_score: 21761.023175:  40%|####      | 2/5 [00:46<01:10, 23.53s/it]\u001b[32m[I 2022-10-31 17:48:13,625]\u001b[0m Trial 64 finished with value: 23184.954166268428 and parameters: {'min_child_samples': 100}. Best is trial 63 with value: 21926.178143372155.\u001b[0m\n",
      "min_data_in_leaf, val_score: 21761.023175:  40%|####      | 2/5 [00:46<01:10, 23.53s/it]"
     ]
    },
    {
     "name": "stdout",
     "output_type": "stream",
     "text": [
      "[1000]\tcv_agg's rmse: 23185 + 4954.76\n",
      "Did not meet early stopping. Best iteration is:\n",
      "[1000]\tcv_agg's rmse: 21761 + 4482.86\n",
      "[100]\tcv_agg's rmse: 23319.8 + 4993.39\n",
      "[200]\tcv_agg's rmse: 22857.6 + 4835.37\n",
      "[300]\tcv_agg's rmse: 22670.5 + 4737.38\n",
      "[400]\tcv_agg's rmse: 22576.5 + 4678.78\n",
      "[500]\tcv_agg's rmse: 22543.4 + 4638.16\n",
      "[600]\tcv_agg's rmse: 22539.1 + 4653.81\n",
      "[700]\tcv_agg's rmse: 22565.6 + 4729.45\n",
      "[800]\tcv_agg's rmse: 22541.8 + 4749.59\n",
      "[900]\tcv_agg's rmse: 22539.9 + 4765.88\n"
     ]
    },
    {
     "name": "stderr",
     "output_type": "stream",
     "text": [
      "min_data_in_leaf, val_score: 21761.023175:  60%|######    | 3/5 [01:07<00:45, 22.64s/it]\u001b[32m[I 2022-10-31 17:48:35,194]\u001b[0m Trial 65 finished with value: 22552.59101262074 and parameters: {'min_child_samples': 50}. Best is trial 63 with value: 21926.178143372155.\u001b[0m\n",
      "min_data_in_leaf, val_score: 21761.023175:  60%|######    | 3/5 [01:07<00:45, 22.64s/it]"
     ]
    },
    {
     "name": "stdout",
     "output_type": "stream",
     "text": [
      "[1000]\tcv_agg's rmse: 22552.6 + 4776.66\n",
      "Did not meet early stopping. Best iteration is:\n",
      "[1000]\tcv_agg's rmse: 21761 + 4482.86\n",
      "[100]\tcv_agg's rmse: 22744.5 + 4513.4\n",
      "[200]\tcv_agg's rmse: 22529.1 + 4471.17\n",
      "[300]\tcv_agg's rmse: 22474.3 + 4385.51\n",
      "[400]\tcv_agg's rmse: 22400.7 + 4401.28\n",
      "[500]\tcv_agg's rmse: 22382.6 + 4423.19\n",
      "[600]\tcv_agg's rmse: 22340.2 + 4418.03\n",
      "[700]\tcv_agg's rmse: 22300 + 4441.29\n",
      "[800]\tcv_agg's rmse: 22277.9 + 4467.28\n",
      "[900]\tcv_agg's rmse: 22262.7 + 4473.1\n"
     ]
    },
    {
     "name": "stderr",
     "output_type": "stream",
     "text": [
      "min_data_in_leaf, val_score: 21761.023175:  80%|########  | 4/5 [01:36<00:24, 24.86s/it]\u001b[32m[I 2022-10-31 17:49:03,465]\u001b[0m Trial 66 finished with value: 22249.089257183317 and parameters: {'min_child_samples': 25}. Best is trial 63 with value: 21926.178143372155.\u001b[0m\n",
      "min_data_in_leaf, val_score: 21761.023175:  80%|########  | 4/5 [01:36<00:24, 24.86s/it]"
     ]
    },
    {
     "name": "stdout",
     "output_type": "stream",
     "text": [
      "[1000]\tcv_agg's rmse: 22249.1 + 4473.53\n",
      "Did not meet early stopping. Best iteration is:\n",
      "[1000]\tcv_agg's rmse: 21761 + 4482.86\n",
      "[100]\tcv_agg's rmse: 22699.4 + 4562.23\n",
      "[200]\tcv_agg's rmse: 22547.7 + 4477.5\n",
      "[300]\tcv_agg's rmse: 22474.4 + 4512.21\n",
      "[400]\tcv_agg's rmse: 22405.7 + 4540.26\n",
      "[500]\tcv_agg's rmse: 22371.9 + 4553.64\n",
      "[600]\tcv_agg's rmse: 22357 + 4552.52\n",
      "[700]\tcv_agg's rmse: 22344 + 4561.06\n",
      "[800]\tcv_agg's rmse: 22319 + 4564.53\n",
      "[900]\tcv_agg's rmse: 22294.1 + 4562.54\n"
     ]
    },
    {
     "name": "stderr",
     "output_type": "stream",
     "text": [
      "min_data_in_leaf, val_score: 21761.023175: 100%|##########| 5/5 [01:54<00:00, 22.59s/it]\u001b[32m[I 2022-10-31 17:49:22,038]\u001b[0m Trial 67 finished with value: 22280.278010186823 and parameters: {'min_child_samples': 5}. Best is trial 63 with value: 21926.178143372155.\u001b[0m\n",
      "min_data_in_leaf, val_score: 21761.023175: 100%|##########| 5/5 [01:54<00:00, 22.96s/it]"
     ]
    },
    {
     "name": "stdout",
     "output_type": "stream",
     "text": [
      "[1000]\tcv_agg's rmse: 22280.3 + 4562.67\n",
      "Did not meet early stopping. Best iteration is:\n",
      "[1000]\tcv_agg's rmse: 21761 + 4482.86\n"
     ]
    },
    {
     "name": "stderr",
     "output_type": "stream",
     "text": [
      "\n"
     ]
    }
   ],
   "source": [
    "import optuna.integration.lightgbm as lgb\n",
    "\n",
    "from lightgbm import early_stopping\n",
    "from lightgbm import log_evaluation\n",
    "import sklearn.datasets\n",
    "from sklearn.model_selection import KFold, StratifiedKFold\n",
    "import pandas as pd\n",
    "import numpy as np\n",
    "\n",
    "\n",
    "train = pd.read_csv(\"data/train_processed_add_geocoding_meshcode_crime_landprice.csv\")\n",
    "train = pd.read_csv(\"data/train_processed_add_geocoding_meshcode_crime_landprice_log_groupby.csv\")\n",
    "train = pd.read_csv(\"data/train_processed_add_geocoding_meshcode_crime_landprice_ladmark_log_groupby.csv\")\n",
    "\n",
    "exclusion = [\"所在地\", \"アクセス\", \"番地\", \"tokens\", \"丁目\"]\n",
    "train = train.drop(exclusion, axis=1)\n",
    "\n",
    "# 目的変数\n",
    "train_y = np.array(train['賃料'])\n",
    "# idは特徴量には使えないので切り出しておく\n",
    "train_ids = np.array(train['id'])\n",
    "# idと賃料以外が特徴量になる\n",
    "feats = [col for col in train.columns if col not in ['id','賃料']]\n",
    "data = train[feats]\n",
    "target = train_y\n",
    "dtrain = lgb.Dataset(data, label=target)\n",
    "\n",
    "params = {\n",
    "    'objective': \"regression\",\n",
    "    'metric':\"rmse\",\n",
    "    \"verbosity\": -1,\n",
    "    \"boosting_type\": \"gbdt\",\n",
    "}\n",
    "\n",
    "tuner = lgb.LightGBMTunerCV(\n",
    "    params,\n",
    "    dtrain,\n",
    "    folds=KFold(n_splits=5),\n",
    "    callbacks=[early_stopping(100), log_evaluation(100)],\n",
    "    optuna_seed=42,\n",
    ")\n",
    "\n",
    "tuner.run()"
   ]
  },
  {
   "cell_type": "code",
   "execution_count": 2,
   "id": "cf0323c5",
   "metadata": {},
   "outputs": [
    {
     "name": "stdout",
     "output_type": "stream",
     "text": [
      "Best score: 21761.023175071048\n",
      "Best params: {'objective': 'regression', 'metric': 'rmse', 'verbosity': -1, 'boosting_type': 'gbdt', 'feature_pre_filter': False, 'lambda_l1': 6.984886757774584, 'lambda_l2': 1.2439642430435591e-05, 'num_leaves': 19, 'feature_fraction': 0.516, 'bagging_fraction': 1.0, 'bagging_freq': 0, 'min_child_samples': 20}\n",
      "  Params: \n",
      "    objective: regression\n",
      "    metric: rmse\n",
      "    verbosity: -1\n",
      "    boosting_type: gbdt\n",
      "    feature_pre_filter: False\n",
      "    lambda_l1: 6.984886757774584\n",
      "    lambda_l2: 1.2439642430435591e-05\n",
      "    num_leaves: 19\n",
      "    feature_fraction: 0.516\n",
      "    bagging_fraction: 1.0\n",
      "    bagging_freq: 0\n",
      "    min_child_samples: 20\n"
     ]
    }
   ],
   "source": [
    "print(\"Best score:\", tuner.best_score)\n",
    "best_params = tuner.best_params\n",
    "print(\"Best params:\", best_params)\n",
    "print(\"  Params: \")\n",
    "for key, value in best_params.items():\n",
    "    print(\"    {}: {}\".format(key, value))"
   ]
  },
  {
   "cell_type": "code",
   "execution_count": 3,
   "id": "6f89e3c7",
   "metadata": {},
   "outputs": [
    {
     "data": {
      "text/plain": [
       "{'objective': 'regression',\n",
       " 'metric': 'rmse',\n",
       " 'verbosity': -1,\n",
       " 'boosting_type': 'gbdt',\n",
       " 'feature_pre_filter': False,\n",
       " 'lambda_l1': 6.984886757774584,\n",
       " 'lambda_l2': 1.2439642430435591e-05,\n",
       " 'num_leaves': 19,\n",
       " 'feature_fraction': 0.516,\n",
       " 'bagging_fraction': 1.0,\n",
       " 'bagging_freq': 0,\n",
       " 'min_child_samples': 20}"
      ]
     },
     "execution_count": 3,
     "metadata": {},
     "output_type": "execute_result"
    }
   ],
   "source": [
    "best_params"
   ]
  },
  {
   "cell_type": "code",
   "execution_count": null,
   "id": "7a52c03b",
   "metadata": {},
   "outputs": [],
   "source": []
  },
  {
   "cell_type": "code",
   "execution_count": null,
   "id": "47c3cfba",
   "metadata": {},
   "outputs": [],
   "source": []
  },
  {
   "cell_type": "code",
   "execution_count": 4,
   "id": "fac4031f",
   "metadata": {},
   "outputs": [],
   "source": [
    "train = train[train[\"賃料\"] < 500000]"
   ]
  },
  {
   "cell_type": "code",
   "execution_count": 5,
   "id": "c8d5e753",
   "metadata": {},
   "outputs": [
    {
     "name": "stderr",
     "output_type": "stream",
     "text": [
      "\u001b[32m[I 2022-10-31 17:49:22,123]\u001b[0m A new study created in memory with name: no-name-7800153d-a6b4-4f1c-9e98-bebf42c3a80b\u001b[0m\n",
      "feature_fraction, val_score: inf:   0%|          | 0/7 [00:00<?, ?it/s]"
     ]
    },
    {
     "name": "stdout",
     "output_type": "stream",
     "text": [
      "Training until validation scores don't improve for 100 rounds\n",
      "[100]\tcv_agg's rmse: 14832.7 + 661.271\n",
      "[200]\tcv_agg's rmse: 14583.6 + 684.774\n",
      "[300]\tcv_agg's rmse: 14567.8 + 723.172\n",
      "[400]\tcv_agg's rmse: 14516.7 + 723.753\n",
      "[500]\tcv_agg's rmse: 14492.5 + 723.874\n",
      "[600]\tcv_agg's rmse: 14474.3 + 735.621\n",
      "[700]\tcv_agg's rmse: 14466.1 + 739.87\n"
     ]
    },
    {
     "name": "stderr",
     "output_type": "stream",
     "text": [
      "feature_fraction, val_score: 14463.814305:  14%|#4        | 1/7 [00:24<02:29, 24.96s/it]\u001b[32m[I 2022-10-31 17:49:47,090]\u001b[0m Trial 0 finished with value: 14463.814305487502 and parameters: {'feature_fraction': 0.8}. Best is trial 0 with value: 14463.814305487502.\u001b[0m\n",
      "feature_fraction, val_score: 14463.814305:  14%|#4        | 1/7 [00:24<02:29, 24.96s/it]"
     ]
    },
    {
     "name": "stdout",
     "output_type": "stream",
     "text": [
      "Early stopping, best iteration is:\n",
      "[633]\tcv_agg's rmse: 14463.8 + 735.592\n",
      "[100]\tcv_agg's rmse: 14996 + 783.215\n",
      "[200]\tcv_agg's rmse: 14757.5 + 892.093\n",
      "[300]\tcv_agg's rmse: 14646.1 + 909.859\n",
      "[400]\tcv_agg's rmse: 14608.1 + 935.591\n",
      "[500]\tcv_agg's rmse: 14575.8 + 935.049\n",
      "[600]\tcv_agg's rmse: 14551.1 + 944.435\n",
      "[700]\tcv_agg's rmse: 14535.2 + 947.949\n"
     ]
    },
    {
     "name": "stderr",
     "output_type": "stream",
     "text": [
      "feature_fraction, val_score: 14463.814305:  29%|##8       | 2/7 [00:46<01:55, 23.09s/it]\u001b[32m[I 2022-10-31 17:50:08,869]\u001b[0m Trial 1 finished with value: 14547.703134243668 and parameters: {'feature_fraction': 0.5}. Best is trial 0 with value: 14463.814305487502.\u001b[0m\n",
      "feature_fraction, val_score: 14463.814305:  29%|##8       | 2/7 [00:46<01:55, 23.09s/it]"
     ]
    },
    {
     "name": "stdout",
     "output_type": "stream",
     "text": [
      "Early stopping, best iteration is:\n",
      "[633]\tcv_agg's rmse: 14463.8 + 735.592\n",
      "[100]\tcv_agg's rmse: 14830 + 572.841\n",
      "[200]\tcv_agg's rmse: 14587.4 + 574.762\n",
      "[300]\tcv_agg's rmse: 14491.9 + 559.007\n",
      "[400]\tcv_agg's rmse: 14426.4 + 563.763\n",
      "[500]\tcv_agg's rmse: 14390.3 + 587.033\n",
      "[600]\tcv_agg's rmse: 14366.4 + 581.324\n",
      "[700]\tcv_agg's rmse: 14342.3 + 576.34\n",
      "[800]\tcv_agg's rmse: 14325.9 + 570.89\n",
      "[900]\tcv_agg's rmse: 14314.5 + 568.877\n"
     ]
    },
    {
     "name": "stderr",
     "output_type": "stream",
     "text": [
      "feature_fraction, val_score: 14306.248774:  43%|####2     | 3/7 [01:15<01:43, 25.86s/it]\u001b[32m[I 2022-10-31 17:50:38,022]\u001b[0m Trial 2 finished with value: 14306.248773816356 and parameters: {'feature_fraction': 0.8999999999999999}. Best is trial 2 with value: 14306.248773816356.\u001b[0m\n",
      "feature_fraction, val_score: 14306.248774:  43%|####2     | 3/7 [01:15<01:43, 25.86s/it]"
     ]
    },
    {
     "name": "stdout",
     "output_type": "stream",
     "text": [
      "[1000]\tcv_agg's rmse: 14306.2 + 571.39\n",
      "Did not meet early stopping. Best iteration is:\n",
      "[1000]\tcv_agg's rmse: 14306.2 + 571.39\n",
      "[100]\tcv_agg's rmse: 15006.4 + 718.136\n",
      "[200]\tcv_agg's rmse: 14780.3 + 817.522\n",
      "[300]\tcv_agg's rmse: 14689.1 + 844.889\n",
      "[400]\tcv_agg's rmse: 14638.1 + 830.38\n",
      "[500]\tcv_agg's rmse: 14617.8 + 827.51\n",
      "[600]\tcv_agg's rmse: 14591.3 + 820.712\n",
      "[700]\tcv_agg's rmse: 14564.2 + 818.039\n",
      "[800]\tcv_agg's rmse: 14556.5 + 816.785\n",
      "[900]\tcv_agg's rmse: 14542 + 809.046\n"
     ]
    },
    {
     "name": "stderr",
     "output_type": "stream",
     "text": [
      "feature_fraction, val_score: 14306.248774:  57%|#####7    | 4/7 [01:43<01:19, 26.47s/it]\u001b[32m[I 2022-10-31 17:51:05,432]\u001b[0m Trial 3 finished with value: 14537.969873160622 and parameters: {'feature_fraction': 0.6}. Best is trial 2 with value: 14306.248773816356.\u001b[0m\n",
      "feature_fraction, val_score: 14306.248774:  57%|#####7    | 4/7 [01:43<01:19, 26.47s/it]"
     ]
    },
    {
     "name": "stdout",
     "output_type": "stream",
     "text": [
      "[1000]\tcv_agg's rmse: 14538 + 809.199\n",
      "Did not meet early stopping. Best iteration is:\n",
      "[1000]\tcv_agg's rmse: 14306.2 + 571.39\n",
      "[100]\tcv_agg's rmse: 14833 + 712.557\n",
      "[200]\tcv_agg's rmse: 14633 + 739.592\n",
      "[300]\tcv_agg's rmse: 14566.1 + 757.887\n",
      "[400]\tcv_agg's rmse: 14532.6 + 786.287\n",
      "[500]\tcv_agg's rmse: 14526.4 + 809.793\n",
      "[600]\tcv_agg's rmse: 14508.4 + 803.557\n",
      "[700]\tcv_agg's rmse: 14486.9 + 795.703\n",
      "[800]\tcv_agg's rmse: 14481.2 + 799.25\n",
      "[900]\tcv_agg's rmse: 14467.3 + 799.978\n"
     ]
    },
    {
     "name": "stderr",
     "output_type": "stream",
     "text": [
      "feature_fraction, val_score: 14306.248774:  71%|#######1  | 5/7 [02:16<00:57, 28.80s/it]\u001b[32m[I 2022-10-31 17:51:38,366]\u001b[0m Trial 4 finished with value: 14457.49675157546 and parameters: {'feature_fraction': 1.0}. Best is trial 2 with value: 14306.248773816356.\u001b[0m\n",
      "feature_fraction, val_score: 14306.248774:  71%|#######1  | 5/7 [02:16<00:57, 28.80s/it]"
     ]
    },
    {
     "name": "stdout",
     "output_type": "stream",
     "text": [
      "[1000]\tcv_agg's rmse: 14457.5 + 795.645\n",
      "Did not meet early stopping. Best iteration is:\n",
      "[1000]\tcv_agg's rmse: 14306.2 + 571.39\n",
      "[100]\tcv_agg's rmse: 14835.6 + 635.528\n",
      "[200]\tcv_agg's rmse: 14581.7 + 633.773\n",
      "[300]\tcv_agg's rmse: 14479.9 + 631.438\n",
      "[400]\tcv_agg's rmse: 14416.4 + 618.283\n",
      "[500]\tcv_agg's rmse: 14381.3 + 630.121\n",
      "[600]\tcv_agg's rmse: 14357.9 + 624.209\n",
      "[700]\tcv_agg's rmse: 14340.6 + 606.405\n",
      "[800]\tcv_agg's rmse: 14326.8 + 606.715\n",
      "[900]\tcv_agg's rmse: 14309.9 + 605.645\n"
     ]
    },
    {
     "name": "stderr",
     "output_type": "stream",
     "text": [
      "feature_fraction, val_score: 14305.571629:  86%|########5 | 6/7 [02:45<00:29, 29.00s/it]\u001b[32m[I 2022-10-31 17:52:07,756]\u001b[0m Trial 5 finished with value: 14305.571629416687 and parameters: {'feature_fraction': 0.7}. Best is trial 5 with value: 14305.571629416687.\u001b[0m\n",
      "feature_fraction, val_score: 14305.571629:  86%|########5 | 6/7 [02:45<00:29, 29.00s/it]"
     ]
    },
    {
     "name": "stdout",
     "output_type": "stream",
     "text": [
      "[1000]\tcv_agg's rmse: 14305.6 + 598.738\n",
      "Did not meet early stopping. Best iteration is:\n",
      "[1000]\tcv_agg's rmse: 14305.6 + 598.738\n",
      "[100]\tcv_agg's rmse: 14956.6 + 644.717\n",
      "[200]\tcv_agg's rmse: 14708.6 + 729.716\n",
      "[300]\tcv_agg's rmse: 14645.2 + 734.751\n",
      "[400]\tcv_agg's rmse: 14583.1 + 720.15\n",
      "[500]\tcv_agg's rmse: 14549.6 + 717.45\n",
      "[600]\tcv_agg's rmse: 14520.2 + 743.495\n",
      "[700]\tcv_agg's rmse: 14505.8 + 741.759\n",
      "[800]\tcv_agg's rmse: 14491.4 + 738.144\n",
      "[900]\tcv_agg's rmse: 14483.3 + 739.718\n"
     ]
    },
    {
     "name": "stderr",
     "output_type": "stream",
     "text": [
      "feature_fraction, val_score: 14305.571629: 100%|##########| 7/7 [03:03<00:00, 25.33s/it]\u001b[32m[I 2022-10-31 17:52:25,515]\u001b[0m Trial 6 finished with value: 14471.974387034174 and parameters: {'feature_fraction': 0.4}. Best is trial 5 with value: 14305.571629416687.\u001b[0m\n",
      "feature_fraction, val_score: 14305.571629: 100%|##########| 7/7 [03:03<00:00, 26.20s/it]\n"
     ]
    },
    {
     "name": "stdout",
     "output_type": "stream",
     "text": [
      "[1000]\tcv_agg's rmse: 14472 + 744.586\n",
      "Did not meet early stopping. Best iteration is:\n",
      "[1000]\tcv_agg's rmse: 14305.6 + 598.738\n"
     ]
    },
    {
     "name": "stderr",
     "output_type": "stream",
     "text": [
      "num_leaves, val_score: 14305.571629:   0%|          | 0/20 [00:00<?, ?it/s]"
     ]
    },
    {
     "name": "stdout",
     "output_type": "stream",
     "text": [
      "[100]\tcv_agg's rmse: 14724.1 + 638.805\n",
      "[200]\tcv_agg's rmse: 14625.5 + 638.275\n",
      "[300]\tcv_agg's rmse: 14588.9 + 631.502\n",
      "[400]\tcv_agg's rmse: 14572.2 + 622.852\n",
      "[500]\tcv_agg's rmse: 14565.8 + 626.281\n",
      "[600]\tcv_agg's rmse: 14563.4 + 625.372\n",
      "[700]\tcv_agg's rmse: 14559.5 + 624.847\n",
      "[800]\tcv_agg's rmse: 14558.9 + 625.45\n",
      "[900]\tcv_agg's rmse: 14559.3 + 625.346\n"
     ]
    },
    {
     "name": "stderr",
     "output_type": "stream",
     "text": [
      "num_leaves, val_score: 14305.571629:   5%|5         | 1/20 [01:00<19:07, 60.40s/it]\u001b[32m[I 2022-10-31 17:53:25,915]\u001b[0m Trial 7 finished with value: 14560.141454576762 and parameters: {'num_leaves': 97}. Best is trial 7 with value: 14560.141454576762.\u001b[0m\n",
      "num_leaves, val_score: 14305.571629:   5%|5         | 1/20 [01:00<19:07, 60.40s/it]"
     ]
    },
    {
     "name": "stdout",
     "output_type": "stream",
     "text": [
      "[1000]\tcv_agg's rmse: 14560.1 + 625.737\n",
      "Did not meet early stopping. Best iteration is:\n",
      "[1000]\tcv_agg's rmse: 14305.6 + 598.738\n",
      "[100]\tcv_agg's rmse: 14874.2 + 643.4\n",
      "[200]\tcv_agg's rmse: 14824.7 + 628.512\n",
      "[300]\tcv_agg's rmse: 14816.2 + 625.188\n",
      "[400]\tcv_agg's rmse: 14819.8 + 621.618\n",
      "[500]\tcv_agg's rmse: 14825.5 + 623.057\n",
      "[600]\tcv_agg's rmse: 14830.9 + 623.156\n",
      "[700]\tcv_agg's rmse: 14836.5 + 622.874\n",
      "[800]\tcv_agg's rmse: 14839.2 + 623.068\n",
      "[900]\tcv_agg's rmse: 14840 + 625.653\n"
     ]
    },
    {
     "name": "stderr",
     "output_type": "stream",
     "text": [
      "num_leaves, val_score: 14305.571629:  10%|#         | 2/20 [03:01<28:46, 95.90s/it]\u001b[32m[I 2022-10-31 17:55:26,666]\u001b[0m Trial 8 finished with value: 14839.164372025038 and parameters: {'num_leaves': 244}. Best is trial 7 with value: 14560.141454576762.\u001b[0m\n",
      "num_leaves, val_score: 14305.571629:  10%|#         | 2/20 [03:01<28:46, 95.90s/it]"
     ]
    },
    {
     "name": "stdout",
     "output_type": "stream",
     "text": [
      "[1000]\tcv_agg's rmse: 14839.2 + 629\n",
      "Did not meet early stopping. Best iteration is:\n",
      "[1000]\tcv_agg's rmse: 14305.6 + 598.738\n",
      "[100]\tcv_agg's rmse: 14784.3 + 619.366\n",
      "[200]\tcv_agg's rmse: 14723.9 + 606.356\n",
      "[300]\tcv_agg's rmse: 14715.5 + 599.328\n",
      "[400]\tcv_agg's rmse: 14713.9 + 595.144\n",
      "[500]\tcv_agg's rmse: 14716.7 + 598.184\n",
      "[600]\tcv_agg's rmse: 14718.2 + 596.784\n",
      "[700]\tcv_agg's rmse: 14720 + 597.124\n",
      "[800]\tcv_agg's rmse: 14724.5 + 597.763\n",
      "[900]\tcv_agg's rmse: 14725.4 + 596.979\n"
     ]
    },
    {
     "name": "stderr",
     "output_type": "stream",
     "text": [
      "num_leaves, val_score: 14305.571629:  15%|#5        | 3/20 [04:37<27:15, 96.21s/it]\u001b[32m[I 2022-10-31 17:57:03,254]\u001b[0m Trial 9 finished with value: 14726.874833289161 and parameters: {'num_leaves': 188}. Best is trial 7 with value: 14560.141454576762.\u001b[0m\n",
      "num_leaves, val_score: 14305.571629:  15%|#5        | 3/20 [04:37<27:15, 96.21s/it]"
     ]
    },
    {
     "name": "stdout",
     "output_type": "stream",
     "text": [
      "[1000]\tcv_agg's rmse: 14726.9 + 600.108\n",
      "Did not meet early stopping. Best iteration is:\n",
      "[1000]\tcv_agg's rmse: 14305.6 + 598.738\n",
      "[100]\tcv_agg's rmse: 14887.4 + 558.309\n",
      "[200]\tcv_agg's rmse: 14822.5 + 550.654\n",
      "[300]\tcv_agg's rmse: 14804.9 + 551.158\n",
      "[400]\tcv_agg's rmse: 14801 + 547.146\n",
      "[500]\tcv_agg's rmse: 14796.4 + 543.055\n",
      "[600]\tcv_agg's rmse: 14796.4 + 540.806\n",
      "[700]\tcv_agg's rmse: 14796.7 + 540.287\n",
      "[800]\tcv_agg's rmse: 14795.9 + 539.273\n",
      "[900]\tcv_agg's rmse: 14792.8 + 540.639\n"
     ]
    },
    {
     "name": "stderr",
     "output_type": "stream",
     "text": [
      "num_leaves, val_score: 14305.571629:  20%|##        | 4/20 [06:01<24:19, 91.19s/it]\u001b[32m[I 2022-10-31 17:58:26,742]\u001b[0m Trial 10 finished with value: 14792.557668204186 and parameters: {'num_leaves': 154}. Best is trial 7 with value: 14560.141454576762.\u001b[0m\n",
      "num_leaves, val_score: 14305.571629:  20%|##        | 4/20 [06:01<24:19, 91.19s/it]"
     ]
    },
    {
     "name": "stdout",
     "output_type": "stream",
     "text": [
      "[1000]\tcv_agg's rmse: 14792.6 + 542.112\n",
      "Did not meet early stopping. Best iteration is:\n",
      "[1000]\tcv_agg's rmse: 14305.6 + 598.738\n",
      "[100]\tcv_agg's rmse: 14832.4 + 575.099\n",
      "[200]\tcv_agg's rmse: 14608.8 + 565.946\n",
      "[300]\tcv_agg's rmse: 14566 + 586.594\n",
      "[400]\tcv_agg's rmse: 14517.1 + 574.408\n",
      "[500]\tcv_agg's rmse: 14504.8 + 570.802\n",
      "[600]\tcv_agg's rmse: 14497.1 + 570.714\n",
      "[700]\tcv_agg's rmse: 14485 + 572.537\n",
      "[800]\tcv_agg's rmse: 14479.1 + 566.55\n",
      "[900]\tcv_agg's rmse: 14472.6 + 561.188\n"
     ]
    },
    {
     "name": "stderr",
     "output_type": "stream",
     "text": [
      "num_leaves, val_score: 14305.571629:  25%|##5       | 5/20 [06:41<18:11, 72.74s/it]\u001b[32m[I 2022-10-31 17:59:06,772]\u001b[0m Trial 11 finished with value: 14463.196314540453 and parameters: {'num_leaves': 41}. Best is trial 11 with value: 14463.196314540453.\u001b[0m\n",
      "num_leaves, val_score: 14305.571629:  25%|##5       | 5/20 [06:41<18:11, 72.74s/it]"
     ]
    },
    {
     "name": "stdout",
     "output_type": "stream",
     "text": [
      "[1000]\tcv_agg's rmse: 14463.2 + 560.641\n",
      "Did not meet early stopping. Best iteration is:\n",
      "[1000]\tcv_agg's rmse: 14305.6 + 598.738\n",
      "[100]\tcv_agg's rmse: 14832.4 + 575.099\n",
      "[200]\tcv_agg's rmse: 14608.8 + 565.946\n",
      "[300]\tcv_agg's rmse: 14566 + 586.594\n",
      "[400]\tcv_agg's rmse: 14517.1 + 574.408\n",
      "[500]\tcv_agg's rmse: 14504.8 + 570.802\n",
      "[600]\tcv_agg's rmse: 14497.1 + 570.714\n",
      "[700]\tcv_agg's rmse: 14485 + 572.537\n",
      "[800]\tcv_agg's rmse: 14479.1 + 566.55\n",
      "[900]\tcv_agg's rmse: 14472.6 + 561.188\n"
     ]
    },
    {
     "name": "stderr",
     "output_type": "stream",
     "text": [
      "num_leaves, val_score: 14305.571629:  30%|###       | 6/20 [07:13<13:47, 59.09s/it]\u001b[32m[I 2022-10-31 17:59:39,374]\u001b[0m Trial 12 finished with value: 14463.196314540453 and parameters: {'num_leaves': 41}. Best is trial 11 with value: 14463.196314540453.\u001b[0m\n",
      "num_leaves, val_score: 14305.571629:  30%|###       | 6/20 [07:13<13:47, 59.09s/it]"
     ]
    },
    {
     "name": "stdout",
     "output_type": "stream",
     "text": [
      "[1000]\tcv_agg's rmse: 14463.2 + 560.641\n",
      "Did not meet early stopping. Best iteration is:\n",
      "[1000]\tcv_agg's rmse: 14305.6 + 598.738\n",
      "[100]\tcv_agg's rmse: 15459.2 + 782.667\n",
      "[200]\tcv_agg's rmse: 15184.4 + 890.311\n",
      "[300]\tcv_agg's rmse: 15056.3 + 922.124\n",
      "[400]\tcv_agg's rmse: 15005.8 + 967.833\n",
      "[500]\tcv_agg's rmse: 14955.6 + 983.207\n",
      "[600]\tcv_agg's rmse: 14909.5 + 975.867\n",
      "[700]\tcv_agg's rmse: 14884.3 + 978.895\n",
      "[800]\tcv_agg's rmse: 14855.2 + 977.18\n",
      "[900]\tcv_agg's rmse: 14844.7 + 981.201\n"
     ]
    },
    {
     "name": "stderr",
     "output_type": "stream",
     "text": [
      "num_leaves, val_score: 14305.571629:  35%|###5      | 7/20 [07:36<10:12, 47.11s/it]\u001b[32m[I 2022-10-31 18:00:01,806]\u001b[0m Trial 13 finished with value: 14823.268956292497 and parameters: {'num_leaves': 16}. Best is trial 11 with value: 14463.196314540453.\u001b[0m\n",
      "num_leaves, val_score: 14305.571629:  35%|###5      | 7/20 [07:36<10:12, 47.11s/it]"
     ]
    },
    {
     "name": "stdout",
     "output_type": "stream",
     "text": [
      "[1000]\tcv_agg's rmse: 14823.3 + 982.344\n",
      "Did not meet early stopping. Best iteration is:\n",
      "[1000]\tcv_agg's rmse: 14305.6 + 598.738\n",
      "[100]\tcv_agg's rmse: 14863.7 + 667.234\n",
      "[200]\tcv_agg's rmse: 14797.2 + 654.734\n",
      "[300]\tcv_agg's rmse: 14790 + 653.118\n",
      "[400]\tcv_agg's rmse: 14791.4 + 652.822\n",
      "[500]\tcv_agg's rmse: 14792.6 + 653.16\n",
      "[600]\tcv_agg's rmse: 14795.4 + 653.051\n",
      "[700]\tcv_agg's rmse: 14795.3 + 654.186\n",
      "[800]\tcv_agg's rmse: 14797.7 + 654.488\n",
      "[900]\tcv_agg's rmse: 14797.2 + 655.271\n"
     ]
    },
    {
     "name": "stderr",
     "output_type": "stream",
     "text": [
      "num_leaves, val_score: 14305.571629:  40%|####      | 8/20 [09:24<13:20, 66.69s/it]\u001b[32m[I 2022-10-31 18:01:50,425]\u001b[0m Trial 14 finished with value: 14797.527992952882 and parameters: {'num_leaves': 222}. Best is trial 11 with value: 14463.196314540453.\u001b[0m\n",
      "num_leaves, val_score: 14305.571629:  40%|####      | 8/20 [09:24<13:20, 66.69s/it]"
     ]
    },
    {
     "name": "stdout",
     "output_type": "stream",
     "text": [
      "[1000]\tcv_agg's rmse: 14797.5 + 656.742\n",
      "Did not meet early stopping. Best iteration is:\n",
      "[1000]\tcv_agg's rmse: 14305.6 + 598.738\n",
      "[100]\tcv_agg's rmse: 15008.5 + 475.866\n",
      "[200]\tcv_agg's rmse: 14930.5 + 468.301\n",
      "[300]\tcv_agg's rmse: 14911.4 + 470.843\n",
      "[400]\tcv_agg's rmse: 14903 + 472.398\n",
      "[500]\tcv_agg's rmse: 14906.5 + 470.313\n",
      "[600]\tcv_agg's rmse: 14906.8 + 467.226\n",
      "[700]\tcv_agg's rmse: 14906.9 + 466.83\n",
      "[800]\tcv_agg's rmse: 14906.4 + 467.131\n",
      "[900]\tcv_agg's rmse: 14907.8 + 468.117\n"
     ]
    },
    {
     "name": "stderr",
     "output_type": "stream",
     "text": [
      "num_leaves, val_score: 14305.571629:  45%|####5     | 9/20 [10:50<13:18, 72.59s/it]\u001b[32m[I 2022-10-31 18:03:15,975]\u001b[0m Trial 15 finished with value: 14907.626621484354 and parameters: {'num_leaves': 155}. Best is trial 11 with value: 14463.196314540453.\u001b[0m\n",
      "num_leaves, val_score: 14305.571629:  45%|####5     | 9/20 [10:50<13:18, 72.59s/it]"
     ]
    },
    {
     "name": "stdout",
     "output_type": "stream",
     "text": [
      "[1000]\tcv_agg's rmse: 14907.6 + 469.716\n",
      "Did not meet early stopping. Best iteration is:\n",
      "[1000]\tcv_agg's rmse: 14305.6 + 598.738\n",
      "[100]\tcv_agg's rmse: 14777 + 603.475\n",
      "[200]\tcv_agg's rmse: 14701.5 + 600.452\n",
      "[300]\tcv_agg's rmse: 14685.4 + 596.955\n",
      "[400]\tcv_agg's rmse: 14688 + 595.862\n",
      "[500]\tcv_agg's rmse: 14685.4 + 592.434\n",
      "[600]\tcv_agg's rmse: 14685.9 + 590.706\n",
      "[700]\tcv_agg's rmse: 14689.2 + 589.673\n",
      "[800]\tcv_agg's rmse: 14691.7 + 593.147\n",
      "[900]\tcv_agg's rmse: 14691.9 + 595.254\n"
     ]
    },
    {
     "name": "stderr",
     "output_type": "stream",
     "text": [
      "num_leaves, val_score: 14305.571629:  50%|#####     | 10/20 [12:16<12:46, 76.68s/it]\u001b[32m[I 2022-10-31 18:04:41,822]\u001b[0m Trial 16 finished with value: 14691.962065708849 and parameters: {'num_leaves': 182}. Best is trial 11 with value: 14463.196314540453.\u001b[0m\n",
      "num_leaves, val_score: 14305.571629:  50%|#####     | 10/20 [12:16<12:46, 76.68s/it]"
     ]
    },
    {
     "name": "stdout",
     "output_type": "stream",
     "text": [
      "[1000]\tcv_agg's rmse: 14692 + 597.083\n",
      "Did not meet early stopping. Best iteration is:\n",
      "[1000]\tcv_agg's rmse: 14305.6 + 598.738\n",
      "[100]\tcv_agg's rmse: 14809.2 + 554.6\n",
      "[200]\tcv_agg's rmse: 14674.7 + 571.428\n",
      "[300]\tcv_agg's rmse: 14642.8 + 567.749\n",
      "[400]\tcv_agg's rmse: 14617 + 570.666\n",
      "[500]\tcv_agg's rmse: 14606.1 + 581.55\n",
      "[600]\tcv_agg's rmse: 14599.1 + 580.014\n",
      "[700]\tcv_agg's rmse: 14600.4 + 587.223\n",
      "[800]\tcv_agg's rmse: 14605.1 + 589.157\n",
      "[900]\tcv_agg's rmse: 14606.1 + 588.473\n"
     ]
    },
    {
     "name": "stderr",
     "output_type": "stream",
     "text": [
      "num_leaves, val_score: 14305.571629:  55%|#####5    | 11/20 [13:11<10:30, 70.05s/it]\u001b[32m[I 2022-10-31 18:05:36,847]\u001b[0m Trial 17 finished with value: 14606.816329069072 and parameters: {'num_leaves': 81}. Best is trial 11 with value: 14463.196314540453.\u001b[0m\n",
      "num_leaves, val_score: 14305.571629:  55%|#####5    | 11/20 [13:11<10:30, 70.05s/it]"
     ]
    },
    {
     "name": "stdout",
     "output_type": "stream",
     "text": [
      "[1000]\tcv_agg's rmse: 14606.8 + 589.937\n",
      "Did not meet early stopping. Best iteration is:\n",
      "[1000]\tcv_agg's rmse: 14305.6 + 598.738\n",
      "[100]\tcv_agg's rmse: 22331.2 + 1896.77\n",
      "[200]\tcv_agg's rmse: 19679.9 + 1459.93\n",
      "[300]\tcv_agg's rmse: 18778.3 + 1232.78\n",
      "[400]\tcv_agg's rmse: 18335 + 1093.5\n",
      "[500]\tcv_agg's rmse: 18046.5 + 1034.81\n",
      "[600]\tcv_agg's rmse: 17832.3 + 987.498\n",
      "[700]\tcv_agg's rmse: 17674.1 + 959.465\n",
      "[800]\tcv_agg's rmse: 17544.8 + 944.689\n",
      "[900]\tcv_agg's rmse: 17441 + 924.589\n"
     ]
    },
    {
     "name": "stderr",
     "output_type": "stream",
     "text": [
      "num_leaves, val_score: 14305.571629:  60%|######    | 12/20 [13:19<06:48, 51.09s/it]\u001b[32m[I 2022-10-31 18:05:44,572]\u001b[0m Trial 18 finished with value: 17355.395561718775 and parameters: {'num_leaves': 2}. Best is trial 11 with value: 14463.196314540453.\u001b[0m\n",
      "num_leaves, val_score: 14305.571629:  60%|######    | 12/20 [13:19<06:48, 51.09s/it]"
     ]
    },
    {
     "name": "stdout",
     "output_type": "stream",
     "text": [
      "[1000]\tcv_agg's rmse: 17355.4 + 909.119\n",
      "Did not meet early stopping. Best iteration is:\n",
      "[1000]\tcv_agg's rmse: 14305.6 + 598.738\n",
      "[100]\tcv_agg's rmse: 14800.3 + 642.89\n",
      "[200]\tcv_agg's rmse: 14686.6 + 670.4\n",
      "[300]\tcv_agg's rmse: 14637.3 + 673.22\n",
      "[400]\tcv_agg's rmse: 14599.1 + 672.674\n",
      "[500]\tcv_agg's rmse: 14584.6 + 679.29\n",
      "[600]\tcv_agg's rmse: 14578.9 + 678.287\n",
      "[700]\tcv_agg's rmse: 14578.5 + 686.169\n",
      "[800]\tcv_agg's rmse: 14574.3 + 688.489\n",
      "[900]\tcv_agg's rmse: 14571 + 690.715\n"
     ]
    },
    {
     "name": "stderr",
     "output_type": "stream",
     "text": [
      "num_leaves, val_score: 14305.571629:  65%|######5   | 13/20 [13:57<05:31, 47.31s/it]\u001b[32m[I 2022-10-31 18:06:23,167]\u001b[0m Trial 19 finished with value: 14565.84361766559 and parameters: {'num_leaves': 56}. Best is trial 11 with value: 14463.196314540453.\u001b[0m\n",
      "num_leaves, val_score: 14305.571629:  65%|######5   | 13/20 [13:57<05:31, 47.31s/it]"
     ]
    },
    {
     "name": "stdout",
     "output_type": "stream",
     "text": [
      "[1000]\tcv_agg's rmse: 14565.8 + 692.411\n",
      "Did not meet early stopping. Best iteration is:\n",
      "[1000]\tcv_agg's rmse: 14305.6 + 598.738\n",
      "[100]\tcv_agg's rmse: 14832.4 + 575.099\n",
      "[200]\tcv_agg's rmse: 14608.8 + 565.946\n",
      "[300]\tcv_agg's rmse: 14566 + 586.594\n",
      "[400]\tcv_agg's rmse: 14517.1 + 574.408\n",
      "[500]\tcv_agg's rmse: 14504.8 + 570.802\n",
      "[600]\tcv_agg's rmse: 14497.1 + 570.714\n",
      "[700]\tcv_agg's rmse: 14485 + 572.537\n",
      "[800]\tcv_agg's rmse: 14479.1 + 566.55\n",
      "[900]\tcv_agg's rmse: 14472.6 + 561.188\n"
     ]
    },
    {
     "name": "stderr",
     "output_type": "stream",
     "text": [
      "num_leaves, val_score: 14305.571629:  70%|#######   | 14/20 [14:35<04:26, 44.35s/it]\u001b[32m[I 2022-10-31 18:07:00,681]\u001b[0m Trial 20 finished with value: 14463.196314540453 and parameters: {'num_leaves': 41}. Best is trial 11 with value: 14463.196314540453.\u001b[0m\n",
      "num_leaves, val_score: 14305.571629:  70%|#######   | 14/20 [14:35<04:26, 44.35s/it]"
     ]
    },
    {
     "name": "stdout",
     "output_type": "stream",
     "text": [
      "[1000]\tcv_agg's rmse: 14463.2 + 560.641\n",
      "Did not meet early stopping. Best iteration is:\n",
      "[1000]\tcv_agg's rmse: 14305.6 + 598.738\n",
      "[100]\tcv_agg's rmse: 14678.5 + 621.067\n",
      "[200]\tcv_agg's rmse: 14601 + 625.698\n",
      "[300]\tcv_agg's rmse: 14565 + 622.157\n",
      "[400]\tcv_agg's rmse: 14550.1 + 623.713\n",
      "[500]\tcv_agg's rmse: 14538.7 + 623.77\n",
      "[600]\tcv_agg's rmse: 14541 + 622.891\n",
      "[700]\tcv_agg's rmse: 14539.5 + 623.786\n",
      "[800]\tcv_agg's rmse: 14538.8 + 624.401\n",
      "[900]\tcv_agg's rmse: 14538.3 + 626.41\n"
     ]
    },
    {
     "name": "stderr",
     "output_type": "stream",
     "text": [
      "num_leaves, val_score: 14305.571629:  75%|#######5  | 15/20 [15:40<04:12, 50.59s/it]\u001b[32m[I 2022-10-31 18:08:05,721]\u001b[0m Trial 21 finished with value: 14536.098403143998 and parameters: {'num_leaves': 103}. Best is trial 11 with value: 14463.196314540453.\u001b[0m\n",
      "num_leaves, val_score: 14305.571629:  75%|#######5  | 15/20 [15:40<04:12, 50.59s/it]"
     ]
    },
    {
     "name": "stdout",
     "output_type": "stream",
     "text": [
      "[1000]\tcv_agg's rmse: 14536.1 + 627.773\n",
      "Did not meet early stopping. Best iteration is:\n",
      "[1000]\tcv_agg's rmse: 14305.6 + 598.738\n",
      "[100]\tcv_agg's rmse: 14795.3 + 651.11\n",
      "[200]\tcv_agg's rmse: 14611.1 + 669.931\n",
      "[300]\tcv_agg's rmse: 14551.4 + 672.299\n",
      "[400]\tcv_agg's rmse: 14519.7 + 665.137\n",
      "[500]\tcv_agg's rmse: 14491.1 + 666.062\n",
      "[600]\tcv_agg's rmse: 14477.1 + 663.426\n",
      "[700]\tcv_agg's rmse: 14465.8 + 659.15\n",
      "[800]\tcv_agg's rmse: 14447.9 + 654.583\n",
      "[900]\tcv_agg's rmse: 14442.1 + 651.255\n"
     ]
    },
    {
     "name": "stderr",
     "output_type": "stream",
     "text": [
      "num_leaves, val_score: 14305.571629:  80%|########  | 16/20 [16:08<02:55, 44.00s/it]\u001b[32m[I 2022-10-31 18:08:34,422]\u001b[0m Trial 22 finished with value: 14434.73566464379 and parameters: {'num_leaves': 46}. Best is trial 22 with value: 14434.73566464379.\u001b[0m\n",
      "num_leaves, val_score: 14305.571629:  80%|########  | 16/20 [16:08<02:55, 44.00s/it]"
     ]
    },
    {
     "name": "stdout",
     "output_type": "stream",
     "text": [
      "[1000]\tcv_agg's rmse: 14434.7 + 649.431\n",
      "Did not meet early stopping. Best iteration is:\n",
      "[1000]\tcv_agg's rmse: 14305.6 + 598.738\n",
      "[100]\tcv_agg's rmse: 14775.8 + 559.635\n",
      "[200]\tcv_agg's rmse: 14640.5 + 554.68\n",
      "[300]\tcv_agg's rmse: 14593.8 + 545.973\n",
      "[400]\tcv_agg's rmse: 14578.7 + 552.489\n",
      "[500]\tcv_agg's rmse: 14553.1 + 543.687\n",
      "[600]\tcv_agg's rmse: 14541.7 + 544.889\n",
      "[700]\tcv_agg's rmse: 14535.5 + 546.919\n",
      "[800]\tcv_agg's rmse: 14528.3 + 548.589\n",
      "[900]\tcv_agg's rmse: 14531.3 + 550.345\n"
     ]
    },
    {
     "name": "stderr",
     "output_type": "stream",
     "text": [
      "num_leaves, val_score: 14305.571629:  85%|########5 | 17/20 [16:50<02:09, 43.32s/it]\u001b[32m[I 2022-10-31 18:09:16,152]\u001b[0m Trial 23 finished with value: 14529.74677034188 and parameters: {'num_leaves': 67}. Best is trial 22 with value: 14434.73566464379.\u001b[0m\n",
      "num_leaves, val_score: 14305.571629:  85%|########5 | 17/20 [16:50<02:09, 43.32s/it]"
     ]
    },
    {
     "name": "stdout",
     "output_type": "stream",
     "text": [
      "[1000]\tcv_agg's rmse: 14529.7 + 546.775\n",
      "Did not meet early stopping. Best iteration is:\n",
      "[1000]\tcv_agg's rmse: 14305.6 + 598.738\n",
      "[100]\tcv_agg's rmse: 14855.8 + 606.383\n",
      "[200]\tcv_agg's rmse: 14763 + 597.265\n",
      "[300]\tcv_agg's rmse: 14728.5 + 594.771\n",
      "[400]\tcv_agg's rmse: 14705.9 + 594.177\n",
      "[500]\tcv_agg's rmse: 14704 + 593.917\n",
      "[600]\tcv_agg's rmse: 14704 + 596.234\n",
      "[700]\tcv_agg's rmse: 14701.2 + 597.805\n",
      "[800]\tcv_agg's rmse: 14703.1 + 597.132\n",
      "[900]\tcv_agg's rmse: 14704 + 596.752\n"
     ]
    },
    {
     "name": "stderr",
     "output_type": "stream",
     "text": [
      "num_leaves, val_score: 14305.571629:  90%|######### | 18/20 [17:48<01:35, 47.76s/it]\u001b[32m[I 2022-10-31 18:10:14,262]\u001b[0m Trial 24 finished with value: 14703.772486956736 and parameters: {'num_leaves': 111}. Best is trial 22 with value: 14434.73566464379.\u001b[0m\n",
      "num_leaves, val_score: 14305.571629:  90%|######### | 18/20 [17:48<01:35, 47.76s/it]"
     ]
    },
    {
     "name": "stdout",
     "output_type": "stream",
     "text": [
      "[1000]\tcv_agg's rmse: 14703.8 + 597.618\n",
      "Did not meet early stopping. Best iteration is:\n",
      "[1000]\tcv_agg's rmse: 14305.6 + 598.738\n",
      "[100]\tcv_agg's rmse: 14912.4 + 654.24\n",
      "[200]\tcv_agg's rmse: 14651.9 + 655.661\n",
      "[300]\tcv_agg's rmse: 14561.1 + 665.048\n",
      "[400]\tcv_agg's rmse: 14497.6 + 660.826\n",
      "[500]\tcv_agg's rmse: 14463.1 + 643.569\n",
      "[600]\tcv_agg's rmse: 14445.5 + 644.147\n",
      "[700]\tcv_agg's rmse: 14413.1 + 640.133\n",
      "[800]\tcv_agg's rmse: 14392.6 + 640.131\n",
      "[900]\tcv_agg's rmse: 14387 + 639.542\n"
     ]
    },
    {
     "name": "stderr",
     "output_type": "stream",
     "text": [
      "num_leaves, val_score: 14305.571629:  95%|#########5| 19/20 [18:09<00:39, 39.75s/it]\u001b[32m[I 2022-10-31 18:10:35,353]\u001b[0m Trial 25 finished with value: 14373.99712292571 and parameters: {'num_leaves': 26}. Best is trial 25 with value: 14373.99712292571.\u001b[0m\n",
      "num_leaves, val_score: 14305.571629:  95%|#########5| 19/20 [18:09<00:39, 39.75s/it]"
     ]
    },
    {
     "name": "stdout",
     "output_type": "stream",
     "text": [
      "[1000]\tcv_agg's rmse: 14374 + 641.311\n",
      "Did not meet early stopping. Best iteration is:\n",
      "[1000]\tcv_agg's rmse: 14305.6 + 598.738\n",
      "[100]\tcv_agg's rmse: 14974.3 + 601.981\n",
      "[200]\tcv_agg's rmse: 14724.9 + 654.269\n",
      "[300]\tcv_agg's rmse: 14598.2 + 662.925\n",
      "[400]\tcv_agg's rmse: 14528.4 + 673.261\n",
      "[500]\tcv_agg's rmse: 14474.3 + 668.956\n",
      "[600]\tcv_agg's rmse: 14454.2 + 671.761\n",
      "[700]\tcv_agg's rmse: 14423.9 + 675.435\n",
      "[800]\tcv_agg's rmse: 14406.1 + 669.098\n",
      "[900]\tcv_agg's rmse: 14395.6 + 673.735\n"
     ]
    },
    {
     "name": "stderr",
     "output_type": "stream",
     "text": [
      "num_leaves, val_score: 14305.571629: 100%|##########| 20/20 [18:28<00:00, 33.33s/it]\u001b[32m[I 2022-10-31 18:10:53,706]\u001b[0m Trial 26 finished with value: 14382.744853332002 and parameters: {'num_leaves': 20}. Best is trial 25 with value: 14373.99712292571.\u001b[0m\n",
      "num_leaves, val_score: 14305.571629: 100%|##########| 20/20 [18:28<00:00, 55.41s/it]\n"
     ]
    },
    {
     "name": "stdout",
     "output_type": "stream",
     "text": [
      "[1000]\tcv_agg's rmse: 14382.7 + 674.075\n",
      "Did not meet early stopping. Best iteration is:\n",
      "[1000]\tcv_agg's rmse: 14305.6 + 598.738\n"
     ]
    },
    {
     "name": "stderr",
     "output_type": "stream",
     "text": [
      "bagging, val_score: 14305.571629:   0%|          | 0/10 [00:00<?, ?it/s]"
     ]
    },
    {
     "name": "stdout",
     "output_type": "stream",
     "text": [
      "[100]\tcv_agg's rmse: 14800 + 711.981\n",
      "[200]\tcv_agg's rmse: 14549.7 + 713.435\n",
      "[300]\tcv_agg's rmse: 14497.5 + 721.37\n",
      "[400]\tcv_agg's rmse: 14468.2 + 708.177\n",
      "[500]\tcv_agg's rmse: 14437.8 + 710.106\n",
      "[600]\tcv_agg's rmse: 14415.2 + 706.718\n",
      "[700]\tcv_agg's rmse: 14398.7 + 688.447\n",
      "[800]\tcv_agg's rmse: 14399.6 + 686.223\n",
      "[900]\tcv_agg's rmse: 14400.2 + 684.602\n"
     ]
    },
    {
     "name": "stderr",
     "output_type": "stream",
     "text": [
      "bagging, val_score: 14305.571629:  10%|#         | 1/10 [00:27<04:06, 27.34s/it]\u001b[32m[I 2022-10-31 18:11:21,051]\u001b[0m Trial 27 finished with value: 14394.812801300508 and parameters: {'bagging_fraction': 0.624724071308792, 'bagging_freq': 7}. Best is trial 27 with value: 14394.812801300508.\u001b[0m\n",
      "bagging, val_score: 14305.571629:  10%|#         | 1/10 [00:27<04:06, 27.34s/it]"
     ]
    },
    {
     "name": "stdout",
     "output_type": "stream",
     "text": [
      "[1000]\tcv_agg's rmse: 14394.8 + 682.151\n",
      "Did not meet early stopping. Best iteration is:\n",
      "[1000]\tcv_agg's rmse: 14305.6 + 598.738\n",
      "[100]\tcv_agg's rmse: 15008 + 685.346\n",
      "[200]\tcv_agg's rmse: 14757.5 + 718.592\n",
      "[300]\tcv_agg's rmse: 14670.1 + 731.806\n",
      "[400]\tcv_agg's rmse: 14628 + 740.56\n",
      "[500]\tcv_agg's rmse: 14581.1 + 749.346\n",
      "[600]\tcv_agg's rmse: 14564.3 + 746.734\n",
      "[700]\tcv_agg's rmse: 14558.5 + 753.018\n",
      "[800]\tcv_agg's rmse: 14541.7 + 740.648\n",
      "[900]\tcv_agg's rmse: 14544.9 + 746.421\n"
     ]
    },
    {
     "name": "stderr",
     "output_type": "stream",
     "text": [
      "bagging, val_score: 14305.571629:  20%|##        | 2/10 [00:52<03:29, 26.13s/it]\u001b[32m[I 2022-10-31 18:11:46,340]\u001b[0m Trial 28 finished with value: 14542.89740052296 and parameters: {'bagging_fraction': 0.8391963650875751, 'bagging_freq': 5}. Best is trial 27 with value: 14394.812801300508.\u001b[0m\n",
      "bagging, val_score: 14305.571629:  20%|##        | 2/10 [00:52<03:29, 26.13s/it]"
     ]
    },
    {
     "name": "stdout",
     "output_type": "stream",
     "text": [
      "[1000]\tcv_agg's rmse: 14542.9 + 756.734\n",
      "Did not meet early stopping. Best iteration is:\n",
      "[1000]\tcv_agg's rmse: 14305.6 + 598.738\n",
      "[100]\tcv_agg's rmse: 14825.3 + 591.121\n",
      "[200]\tcv_agg's rmse: 14541.4 + 601.23\n",
      "[300]\tcv_agg's rmse: 14488.1 + 598.995\n",
      "[400]\tcv_agg's rmse: 14439.9 + 592.325\n",
      "[500]\tcv_agg's rmse: 14431.8 + 624.128\n",
      "[600]\tcv_agg's rmse: 14439.2 + 629.34\n",
      "[700]\tcv_agg's rmse: 14419.1 + 630.866\n",
      "[800]\tcv_agg's rmse: 14418.9 + 628.134\n",
      "[900]\tcv_agg's rmse: 14416.3 + 636.853\n"
     ]
    },
    {
     "name": "stderr",
     "output_type": "stream",
     "text": [
      "bagging, val_score: 14305.571629:  30%|###       | 3/10 [01:19<03:03, 26.28s/it]\u001b[32m[I 2022-10-31 18:12:12,799]\u001b[0m Trial 29 finished with value: 14413.994123798486 and parameters: {'bagging_fraction': 0.49361118426561795, 'bagging_freq': 2}. Best is trial 27 with value: 14394.812801300508.\u001b[0m\n",
      "bagging, val_score: 14305.571629:  30%|###       | 3/10 [01:19<03:03, 26.28s/it]"
     ]
    },
    {
     "name": "stdout",
     "output_type": "stream",
     "text": [
      "[1000]\tcv_agg's rmse: 14414 + 630.815\n",
      "Did not meet early stopping. Best iteration is:\n",
      "[1000]\tcv_agg's rmse: 14305.6 + 598.738\n",
      "[100]\tcv_agg's rmse: 14955.8 + 802.787\n",
      "[200]\tcv_agg's rmse: 14716.7 + 821.594\n",
      "[300]\tcv_agg's rmse: 14673.9 + 857.304\n",
      "[400]\tcv_agg's rmse: 14644.4 + 844.9\n",
      "[500]\tcv_agg's rmse: 14613.2 + 840.227\n",
      "[600]\tcv_agg's rmse: 14581.5 + 858.11\n",
      "[700]\tcv_agg's rmse: 14581.8 + 868.529\n",
      "[800]\tcv_agg's rmse: 14572.6 + 870.335\n",
      "[900]\tcv_agg's rmse: 14570.9 + 873.345\n"
     ]
    },
    {
     "name": "stderr",
     "output_type": "stream",
     "text": [
      "bagging, val_score: 14305.571629:  40%|####      | 4/10 [01:39<02:24, 24.02s/it]\u001b[32m[I 2022-10-31 18:12:33,350]\u001b[0m Trial 30 finished with value: 14563.014809073105 and parameters: {'bagging_fraction': 0.4348501673009778, 'bagging_freq': 7}. Best is trial 27 with value: 14394.812801300508.\u001b[0m\n",
      "bagging, val_score: 14305.571629:  40%|####      | 4/10 [01:39<02:24, 24.02s/it]"
     ]
    },
    {
     "name": "stdout",
     "output_type": "stream",
     "text": [
      "[1000]\tcv_agg's rmse: 14563 + 867.487\n",
      "Did not meet early stopping. Best iteration is:\n",
      "[1000]\tcv_agg's rmse: 14305.6 + 598.738\n",
      "[100]\tcv_agg's rmse: 14856.1 + 714.535\n",
      "[200]\tcv_agg's rmse: 14617.3 + 704.314\n",
      "[300]\tcv_agg's rmse: 14504.8 + 692.206\n",
      "[400]\tcv_agg's rmse: 14453.2 + 696.174\n",
      "[500]\tcv_agg's rmse: 14426.9 + 695.331\n",
      "[600]\tcv_agg's rmse: 14411 + 700.948\n",
      "[700]\tcv_agg's rmse: 14387.3 + 689.709\n",
      "[800]\tcv_agg's rmse: 14375.2 + 696.865\n",
      "[900]\tcv_agg's rmse: 14369.9 + 698.212\n"
     ]
    },
    {
     "name": "stderr",
     "output_type": "stream",
     "text": [
      "bagging, val_score: 14305.571629:  50%|#####     | 5/10 [02:08<02:08, 25.77s/it]\u001b[32m[I 2022-10-31 18:13:02,211]\u001b[0m Trial 31 finished with value: 14359.783860632248 and parameters: {'bagging_fraction': 0.7606690070465265, 'bagging_freq': 5}. Best is trial 31 with value: 14359.783860632248.\u001b[0m\n",
      "bagging, val_score: 14305.571629:  50%|#####     | 5/10 [02:08<02:08, 25.77s/it]"
     ]
    },
    {
     "name": "stdout",
     "output_type": "stream",
     "text": [
      "[1000]\tcv_agg's rmse: 14359.8 + 699.69\n",
      "Did not meet early stopping. Best iteration is:\n",
      "[1000]\tcv_agg's rmse: 14305.6 + 598.738\n",
      "[100]\tcv_agg's rmse: 14941.5 + 720.279\n",
      "[200]\tcv_agg's rmse: 14786.9 + 764.049\n",
      "[300]\tcv_agg's rmse: 14811.1 + 845.018\n",
      "[400]\tcv_agg's rmse: 14755.7 + 853.405\n",
      "[500]\tcv_agg's rmse: 14754.6 + 871.414\n",
      "[600]\tcv_agg's rmse: 14748.9 + 869.975\n",
      "[700]\tcv_agg's rmse: 14754.3 + 886.494\n",
      "[800]\tcv_agg's rmse: 14770.1 + 892.473\n",
      "[900]\tcv_agg's rmse: 14769.6 + 913.619\n"
     ]
    },
    {
     "name": "stderr",
     "output_type": "stream",
     "text": [
      "bagging, val_score: 14305.571629:  60%|######    | 6/10 [02:28<01:34, 23.69s/it]\u001b[32m[I 2022-10-31 18:13:21,866]\u001b[0m Trial 32 finished with value: 14743.830783150985 and parameters: {'bagging_fraction': 0.41235069657750206, 'bagging_freq': 7}. Best is trial 31 with value: 14359.783860632248.\u001b[0m\n",
      "bagging, val_score: 14305.571629:  60%|######    | 6/10 [02:28<01:34, 23.69s/it]"
     ]
    },
    {
     "name": "stdout",
     "output_type": "stream",
     "text": [
      "[1000]\tcv_agg's rmse: 14743.8 + 918.292\n",
      "Did not meet early stopping. Best iteration is:\n",
      "[1000]\tcv_agg's rmse: 14305.6 + 598.738\n",
      "[100]\tcv_agg's rmse: 14826.5 + 536.486\n",
      "[200]\tcv_agg's rmse: 14559.3 + 567.453\n",
      "[300]\tcv_agg's rmse: 14484.2 + 567.738\n",
      "[400]\tcv_agg's rmse: 14445.7 + 569.42\n",
      "[500]\tcv_agg's rmse: 14417.1 + 555.781\n",
      "[600]\tcv_agg's rmse: 14391 + 560.605\n",
      "[700]\tcv_agg's rmse: 14366.8 + 560.744\n",
      "[800]\tcv_agg's rmse: 14359.4 + 565.474\n",
      "[900]\tcv_agg's rmse: 14351 + 568.424\n"
     ]
    },
    {
     "name": "stderr",
     "output_type": "stream",
     "text": [
      "bagging, val_score: 14305.571629:  70%|#######   | 7/10 [02:53<01:12, 24.10s/it]\u001b[32m[I 2022-10-31 18:13:46,807]\u001b[0m Trial 33 finished with value: 14343.118657499497 and parameters: {'bagging_fraction': 0.8994655844810855, 'bagging_freq': 2}. Best is trial 33 with value: 14343.118657499497.\u001b[0m\n",
      "bagging, val_score: 14305.571629:  70%|#######   | 7/10 [02:53<01:12, 24.10s/it]"
     ]
    },
    {
     "name": "stdout",
     "output_type": "stream",
     "text": [
      "[1000]\tcv_agg's rmse: 14343.1 + 567.234\n",
      "Did not meet early stopping. Best iteration is:\n",
      "[1000]\tcv_agg's rmse: 14305.6 + 598.738\n",
      "[100]\tcv_agg's rmse: 14763.5 + 753.507\n",
      "[200]\tcv_agg's rmse: 14535 + 753.793\n",
      "[300]\tcv_agg's rmse: 14469.5 + 791.26\n",
      "[400]\tcv_agg's rmse: 14423.1 + 781.789\n",
      "[500]\tcv_agg's rmse: 14399.2 + 777.406\n",
      "[600]\tcv_agg's rmse: 14394.7 + 762.501\n",
      "[700]\tcv_agg's rmse: 14398.3 + 774.483\n",
      "[800]\tcv_agg's rmse: 14386.2 + 758.236\n",
      "[900]\tcv_agg's rmse: 14374.1 + 752.773\n"
     ]
    },
    {
     "name": "stderr",
     "output_type": "stream",
     "text": [
      "bagging, val_score: 14305.571629:  80%|########  | 8/10 [03:22<00:51, 25.70s/it]\u001b[32m[I 2022-10-31 18:14:15,951]\u001b[0m Trial 34 finished with value: 14365.3367217452 and parameters: {'bagging_fraction': 0.5090949803244422, 'bagging_freq': 2}. Best is trial 33 with value: 14343.118657499497.\u001b[0m\n",
      "bagging, val_score: 14305.571629:  80%|########  | 8/10 [03:22<00:51, 25.70s/it]"
     ]
    },
    {
     "name": "stdout",
     "output_type": "stream",
     "text": [
      "[1000]\tcv_agg's rmse: 14365.3 + 756.086\n",
      "Did not meet early stopping. Best iteration is:\n",
      "[1000]\tcv_agg's rmse: 14305.6 + 598.738\n",
      "[100]\tcv_agg's rmse: 15002.9 + 790.042\n",
      "[200]\tcv_agg's rmse: 14823.7 + 899.788\n",
      "[300]\tcv_agg's rmse: 14706.6 + 918.112\n",
      "[400]\tcv_agg's rmse: 14705.5 + 916.774\n",
      "[500]\tcv_agg's rmse: 14687 + 926.061\n",
      "[600]\tcv_agg's rmse: 14671.3 + 909.185\n",
      "[700]\tcv_agg's rmse: 14663.3 + 911.917\n",
      "[800]\tcv_agg's rmse: 14663.7 + 911.603\n",
      "[900]\tcv_agg's rmse: 14667.6 + 929.771\n"
     ]
    },
    {
     "name": "stderr",
     "output_type": "stream",
     "text": [
      "bagging, val_score: 14305.571629:  90%|######### | 9/10 [03:46<00:25, 25.12s/it]\u001b[32m[I 2022-10-31 18:14:39,791]\u001b[0m Trial 35 finished with value: 14669.165713015327 and parameters: {'bagging_fraction': 0.5825453457760269, 'bagging_freq': 4}. Best is trial 33 with value: 14343.118657499497.\u001b[0m\n",
      "bagging, val_score: 14305.571629:  90%|######### | 9/10 [03:46<00:25, 25.12s/it]"
     ]
    },
    {
     "name": "stdout",
     "output_type": "stream",
     "text": [
      "[1000]\tcv_agg's rmse: 14669.2 + 934.584\n",
      "Did not meet early stopping. Best iteration is:\n",
      "[1000]\tcv_agg's rmse: 14305.6 + 598.738\n",
      "[100]\tcv_agg's rmse: 14719.3 + 508.541\n",
      "[200]\tcv_agg's rmse: 14452.1 + 519.108\n",
      "[300]\tcv_agg's rmse: 14379.3 + 489.331\n",
      "[400]\tcv_agg's rmse: 14351.7 + 510.102\n",
      "[500]\tcv_agg's rmse: 14322.8 + 503.75\n",
      "[600]\tcv_agg's rmse: 14299.9 + 495.449\n",
      "[700]\tcv_agg's rmse: 14291.5 + 491.098\n",
      "[800]\tcv_agg's rmse: 14287.9 + 478.6\n"
     ]
    },
    {
     "name": "stderr",
     "output_type": "stream",
     "text": [
      "bagging, val_score: 14283.222723: 100%|##########| 10/10 [04:14<00:00, 26.19s/it]\u001b[32m[I 2022-10-31 18:15:08,367]\u001b[0m Trial 36 finished with value: 14283.222723377305 and parameters: {'bagging_fraction': 0.6591670111857015, 'bagging_freq': 3}. Best is trial 36 with value: 14283.222723377305.\u001b[0m\n",
      "bagging, val_score: 14283.222723: 100%|##########| 10/10 [04:14<00:00, 25.47s/it]\n"
     ]
    },
    {
     "name": "stdout",
     "output_type": "stream",
     "text": [
      "Early stopping, best iteration is:\n",
      "[735]\tcv_agg's rmse: 14283.2 + 485.62\n"
     ]
    },
    {
     "name": "stderr",
     "output_type": "stream",
     "text": [
      "feature_fraction_stage2, val_score: 14283.222723:   0%|          | 0/6 [00:00<?, ?it/s]"
     ]
    },
    {
     "name": "stdout",
     "output_type": "stream",
     "text": [
      "[100]\tcv_agg's rmse: 14786 + 558.035\n",
      "[200]\tcv_agg's rmse: 14585.1 + 581.263\n",
      "[300]\tcv_agg's rmse: 14476 + 576.466\n",
      "[400]\tcv_agg's rmse: 14415.7 + 587.333\n",
      "[500]\tcv_agg's rmse: 14387.8 + 602.8\n",
      "[600]\tcv_agg's rmse: 14364.3 + 610.587\n",
      "[700]\tcv_agg's rmse: 14352.2 + 619.183\n",
      "[800]\tcv_agg's rmse: 14341 + 624.949\n"
     ]
    },
    {
     "name": "stderr",
     "output_type": "stream",
     "text": [
      "feature_fraction_stage2, val_score: 14283.222723:  17%|#6        | 1/6 [00:18<01:34, 18.89s/it]\u001b[32m[I 2022-10-31 18:15:27,263]\u001b[0m Trial 37 finished with value: 14345.097511672011 and parameters: {'feature_fraction': 0.6839999999999999}. Best is trial 37 with value: 14345.097511672011.\u001b[0m\n",
      "feature_fraction_stage2, val_score: 14283.222723:  17%|#6        | 1/6 [00:18<01:34, 18.89s/it]"
     ]
    },
    {
     "name": "stdout",
     "output_type": "stream",
     "text": [
      "Early stopping, best iteration is:\n",
      "[735]\tcv_agg's rmse: 14283.2 + 485.62\n",
      "[100]\tcv_agg's rmse: 14733 + 524.994\n",
      "[200]\tcv_agg's rmse: 14581.2 + 563.19\n",
      "[300]\tcv_agg's rmse: 14483.8 + 565.596\n",
      "[400]\tcv_agg's rmse: 14439 + 577.891\n",
      "[500]\tcv_agg's rmse: 14421.4 + 571.882\n",
      "[600]\tcv_agg's rmse: 14411.3 + 576.328\n",
      "[700]\tcv_agg's rmse: 14399.3 + 562.811\n",
      "[800]\tcv_agg's rmse: 14403.6 + 553.967\n"
     ]
    },
    {
     "name": "stderr",
     "output_type": "stream",
     "text": [
      "feature_fraction_stage2, val_score: 14283.222723:  33%|###3      | 2/6 [00:36<01:13, 18.32s/it]\u001b[32m[I 2022-10-31 18:15:45,182]\u001b[0m Trial 38 finished with value: 14400.26261492314 and parameters: {'feature_fraction': 0.62}. Best is trial 37 with value: 14345.097511672011.\u001b[0m\n",
      "feature_fraction_stage2, val_score: 14283.222723:  33%|###3      | 2/6 [00:36<01:13, 18.32s/it]"
     ]
    },
    {
     "name": "stdout",
     "output_type": "stream",
     "text": [
      "Early stopping, best iteration is:\n",
      "[735]\tcv_agg's rmse: 14283.2 + 485.62\n",
      "[100]\tcv_agg's rmse: 14948.3 + 468.484\n",
      "[200]\tcv_agg's rmse: 14801 + 636.718\n",
      "[300]\tcv_agg's rmse: 14691.2 + 612.641\n",
      "[400]\tcv_agg's rmse: 14654.6 + 616.805\n",
      "[500]\tcv_agg's rmse: 14648.8 + 632.737\n",
      "[600]\tcv_agg's rmse: 14632.7 + 649.867\n",
      "[700]\tcv_agg's rmse: 14616.9 + 637.637\n",
      "[800]\tcv_agg's rmse: 14610.6 + 636.409\n"
     ]
    },
    {
     "name": "stderr",
     "output_type": "stream",
     "text": [
      "feature_fraction_stage2, val_score: 14283.222723:  50%|#####     | 3/6 [01:00<01:02, 20.95s/it]\u001b[32m[I 2022-10-31 18:16:09,256]\u001b[0m Trial 39 finished with value: 14615.021593274414 and parameters: {'feature_fraction': 0.652}. Best is trial 37 with value: 14345.097511672011.\u001b[0m\n",
      "feature_fraction_stage2, val_score: 14283.222723:  50%|#####     | 3/6 [01:00<01:02, 20.95s/it]"
     ]
    },
    {
     "name": "stdout",
     "output_type": "stream",
     "text": [
      "Early stopping, best iteration is:\n",
      "[735]\tcv_agg's rmse: 14283.2 + 485.62\n",
      "[100]\tcv_agg's rmse: 14848.6 + 540.501\n",
      "[200]\tcv_agg's rmse: 14622.9 + 608.678\n",
      "[300]\tcv_agg's rmse: 14515.1 + 583.874\n",
      "[400]\tcv_agg's rmse: 14493 + 574.538\n",
      "[500]\tcv_agg's rmse: 14459.8 + 575.933\n",
      "[600]\tcv_agg's rmse: 14446.9 + 582.05\n",
      "[700]\tcv_agg's rmse: 14440.2 + 583.06\n",
      "[800]\tcv_agg's rmse: 14434.3 + 580.644\n"
     ]
    },
    {
     "name": "stderr",
     "output_type": "stream",
     "text": [
      "feature_fraction_stage2, val_score: 14283.222723:  67%|######6   | 4/6 [01:20<00:40, 20.49s/it]\u001b[32m[I 2022-10-31 18:16:29,052]\u001b[0m Trial 40 finished with value: 14435.113199077703 and parameters: {'feature_fraction': 0.748}. Best is trial 37 with value: 14345.097511672011.\u001b[0m\n",
      "feature_fraction_stage2, val_score: 14283.222723:  67%|######6   | 4/6 [01:20<00:40, 20.49s/it]"
     ]
    },
    {
     "name": "stdout",
     "output_type": "stream",
     "text": [
      "Early stopping, best iteration is:\n",
      "[735]\tcv_agg's rmse: 14283.2 + 485.62\n",
      "[100]\tcv_agg's rmse: 14794.4 + 563.441\n",
      "[200]\tcv_agg's rmse: 14623.1 + 664.959\n",
      "[300]\tcv_agg's rmse: 14515.5 + 685.226\n",
      "[400]\tcv_agg's rmse: 14495.1 + 679.533\n",
      "[500]\tcv_agg's rmse: 14481.7 + 679.061\n",
      "[600]\tcv_agg's rmse: 14459.5 + 691.242\n",
      "[700]\tcv_agg's rmse: 14450.1 + 684.147\n",
      "[800]\tcv_agg's rmse: 14447.1 + 678.688\n"
     ]
    },
    {
     "name": "stderr",
     "output_type": "stream",
     "text": [
      "feature_fraction_stage2, val_score: 14283.222723:  83%|########3 | 5/6 [01:40<00:20, 20.13s/it]\u001b[32m[I 2022-10-31 18:16:48,545]\u001b[0m Trial 41 finished with value: 14453.065514281177 and parameters: {'feature_fraction': 0.716}. Best is trial 37 with value: 14345.097511672011.\u001b[0m\n",
      "feature_fraction_stage2, val_score: 14283.222723:  83%|########3 | 5/6 [01:40<00:20, 20.13s/it]"
     ]
    },
    {
     "name": "stdout",
     "output_type": "stream",
     "text": [
      "Early stopping, best iteration is:\n",
      "[735]\tcv_agg's rmse: 14283.2 + 485.62\n",
      "[100]\tcv_agg's rmse: 15148.5 + 883.863\n",
      "[200]\tcv_agg's rmse: 15005.3 + 1159.7\n",
      "[300]\tcv_agg's rmse: 14895.5 + 1163.49\n",
      "[400]\tcv_agg's rmse: 14836.8 + 1177.86\n",
      "[500]\tcv_agg's rmse: 14817.8 + 1161.2\n",
      "[600]\tcv_agg's rmse: 14805.5 + 1166.66\n",
      "[700]\tcv_agg's rmse: 14786.3 + 1174.44\n",
      "[800]\tcv_agg's rmse: 14780.3 + 1179.17\n"
     ]
    },
    {
     "name": "stderr",
     "output_type": "stream",
     "text": [
      "feature_fraction_stage2, val_score: 14283.222723: 100%|##########| 6/6 [02:06<00:00, 22.20s/it]\u001b[32m[I 2022-10-31 18:17:14,762]\u001b[0m Trial 42 finished with value: 14785.17493882996 and parameters: {'feature_fraction': 0.7799999999999999}. Best is trial 37 with value: 14345.097511672011.\u001b[0m\n",
      "feature_fraction_stage2, val_score: 14283.222723: 100%|##########| 6/6 [02:06<00:00, 21.07s/it]\n"
     ]
    },
    {
     "name": "stdout",
     "output_type": "stream",
     "text": [
      "Early stopping, best iteration is:\n",
      "[735]\tcv_agg's rmse: 14283.2 + 485.62\n"
     ]
    },
    {
     "name": "stderr",
     "output_type": "stream",
     "text": [
      "regularization_factors, val_score: 14283.222723:   0%|          | 0/20 [00:00<?, ?it/s]"
     ]
    },
    {
     "name": "stdout",
     "output_type": "stream",
     "text": [
      "[100]\tcv_agg's rmse: 15044.1 + 705.048\n",
      "[200]\tcv_agg's rmse: 14884.7 + 862.803\n",
      "[300]\tcv_agg's rmse: 14738 + 821.224\n",
      "[400]\tcv_agg's rmse: 14700.7 + 819.875\n",
      "[500]\tcv_agg's rmse: 14691.8 + 850.609\n",
      "[600]\tcv_agg's rmse: 14689.8 + 857.487\n",
      "[700]\tcv_agg's rmse: 14668.7 + 873.579\n",
      "[800]\tcv_agg's rmse: 14666.6 + 870.862\n"
     ]
    },
    {
     "name": "stderr",
     "output_type": "stream",
     "text": [
      "regularization_factors, val_score: 14283.222723:   5%|5         | 1/20 [00:21<06:51, 21.67s/it]\u001b[32m[I 2022-10-31 18:17:36,441]\u001b[0m Trial 43 finished with value: 14664.12888777559 and parameters: {'lambda_l1': 2.348881295853308e-05, 'lambda_l2': 3.6010467344475403}. Best is trial 43 with value: 14664.12888777559.\u001b[0m\n",
      "regularization_factors, val_score: 14283.222723:   5%|5         | 1/20 [00:21<06:51, 21.67s/it]"
     ]
    },
    {
     "name": "stdout",
     "output_type": "stream",
     "text": [
      "Early stopping, best iteration is:\n",
      "[735]\tcv_agg's rmse: 14283.2 + 485.62\n",
      "[100]\tcv_agg's rmse: 14759.7 + 484.144\n",
      "[200]\tcv_agg's rmse: 14534.7 + 515.296\n",
      "[300]\tcv_agg's rmse: 14436.4 + 475.566\n",
      "[400]\tcv_agg's rmse: 14402.9 + 463.55\n",
      "[500]\tcv_agg's rmse: 14382.1 + 481.352\n",
      "[600]\tcv_agg's rmse: 14361.9 + 487.708\n",
      "[700]\tcv_agg's rmse: 14373.7 + 509.631\n",
      "[800]\tcv_agg's rmse: 14376 + 511.31\n"
     ]
    },
    {
     "name": "stderr",
     "output_type": "stream",
     "text": [
      "regularization_factors, val_score: 14283.222723:  10%|#         | 2/20 [00:47<07:18, 24.38s/it]\u001b[32m[I 2022-10-31 18:18:02,717]\u001b[0m Trial 44 finished with value: 14375.880286679923 and parameters: {'lambda_l1': 0.038720902953704193, 'lambda_l2': 0.0024430162614261413}. Best is trial 44 with value: 14375.880286679923.\u001b[0m\n",
      "regularization_factors, val_score: 14283.222723:  10%|#         | 2/20 [00:47<07:18, 24.38s/it]"
     ]
    },
    {
     "name": "stdout",
     "output_type": "stream",
     "text": [
      "Early stopping, best iteration is:\n",
      "[735]\tcv_agg's rmse: 14283.2 + 485.62\n",
      "[100]\tcv_agg's rmse: 14719.3 + 508.541\n",
      "[200]\tcv_agg's rmse: 14452 + 519.164\n",
      "[300]\tcv_agg's rmse: 14379.3 + 489.38\n",
      "[400]\tcv_agg's rmse: 14356.3 + 508.997\n",
      "[500]\tcv_agg's rmse: 14349.9 + 505.116\n",
      "[600]\tcv_agg's rmse: 14323.4 + 496.501\n",
      "[700]\tcv_agg's rmse: 14330.3 + 498.415\n",
      "[800]\tcv_agg's rmse: 14326.3 + 499.763\n"
     ]
    },
    {
     "name": "stderr",
     "output_type": "stream",
     "text": [
      "regularization_factors, val_score: 14283.222723:  15%|#5        | 3/20 [01:08<06:24, 22.62s/it]\u001b[32m[I 2022-10-31 18:18:23,250]\u001b[0m Trial 45 finished with value: 14323.27096718652 and parameters: {'lambda_l1': 2.5361081166471375e-07, 'lambda_l2': 2.5348407664333426e-07}. Best is trial 45 with value: 14323.27096718652.\u001b[0m\n",
      "regularization_factors, val_score: 14283.222723:  15%|#5        | 3/20 [01:08<06:24, 22.62s/it]"
     ]
    },
    {
     "name": "stdout",
     "output_type": "stream",
     "text": [
      "Early stopping, best iteration is:\n",
      "[735]\tcv_agg's rmse: 14283.2 + 485.62\n",
      "[100]\tcv_agg's rmse: 14891.5 + 572.922\n",
      "[200]\tcv_agg's rmse: 14637.9 + 634.349\n",
      "[300]\tcv_agg's rmse: 14529.8 + 643.18\n",
      "[400]\tcv_agg's rmse: 14495.3 + 655.304\n",
      "[500]\tcv_agg's rmse: 14463.1 + 683.602\n",
      "[600]\tcv_agg's rmse: 14445.1 + 689.053\n",
      "[700]\tcv_agg's rmse: 14441.4 + 674.056\n",
      "[800]\tcv_agg's rmse: 14428.8 + 677.701\n"
     ]
    },
    {
     "name": "stderr",
     "output_type": "stream",
     "text": [
      "regularization_factors, val_score: 14283.222723:  20%|##        | 4/20 [01:29<05:51, 21.97s/it]\u001b[32m[I 2022-10-31 18:18:44,227]\u001b[0m Trial 46 finished with value: 14431.701138464725 and parameters: {'lambda_l1': 3.3323645788192616e-08, 'lambda_l2': 0.6245760287469893}. Best is trial 45 with value: 14323.27096718652.\u001b[0m\n",
      "regularization_factors, val_score: 14283.222723:  20%|##        | 4/20 [01:29<05:51, 21.97s/it]"
     ]
    },
    {
     "name": "stdout",
     "output_type": "stream",
     "text": [
      "Early stopping, best iteration is:\n",
      "[735]\tcv_agg's rmse: 14283.2 + 485.62\n",
      "[100]\tcv_agg's rmse: 14822.3 + 527.281\n",
      "[200]\tcv_agg's rmse: 14648.5 + 569.362\n",
      "[300]\tcv_agg's rmse: 14567 + 567.249\n",
      "[400]\tcv_agg's rmse: 14519.7 + 545.807\n",
      "[500]\tcv_agg's rmse: 14477.7 + 533.411\n",
      "[600]\tcv_agg's rmse: 14461.9 + 539.814\n",
      "[700]\tcv_agg's rmse: 14442.6 + 544.114\n",
      "[800]\tcv_agg's rmse: 14449.4 + 555.537\n"
     ]
    },
    {
     "name": "stderr",
     "output_type": "stream",
     "text": [
      "regularization_factors, val_score: 14283.222723:  25%|##5       | 5/20 [01:55<05:52, 23.47s/it]\u001b[32m[I 2022-10-31 18:19:10,353]\u001b[0m Trial 47 finished with value: 14443.73020679397 and parameters: {'lambda_l1': 0.002570603566117598, 'lambda_l2': 0.023585940584142682}. Best is trial 45 with value: 14323.27096718652.\u001b[0m\n",
      "regularization_factors, val_score: 14283.222723:  25%|##5       | 5/20 [01:55<05:52, 23.47s/it]"
     ]
    },
    {
     "name": "stdout",
     "output_type": "stream",
     "text": [
      "Early stopping, best iteration is:\n",
      "[735]\tcv_agg's rmse: 14283.2 + 485.62\n",
      "[100]\tcv_agg's rmse: 14845.9 + 679.239\n",
      "[200]\tcv_agg's rmse: 14576.4 + 673.171\n",
      "[300]\tcv_agg's rmse: 14446.4 + 675.857\n",
      "[400]\tcv_agg's rmse: 14388.5 + 650.044\n",
      "[500]\tcv_agg's rmse: 14357 + 635.351\n",
      "[600]\tcv_agg's rmse: 14353.5 + 647.148\n",
      "[700]\tcv_agg's rmse: 14347.7 + 633.467\n",
      "[800]\tcv_agg's rmse: 14339.1 + 621.245\n"
     ]
    },
    {
     "name": "stderr",
     "output_type": "stream",
     "text": [
      "regularization_factors, val_score: 14283.222723:  30%|###       | 6/20 [02:17<05:19, 22.85s/it]\u001b[32m[I 2022-10-31 18:19:31,989]\u001b[0m Trial 48 finished with value: 14349.788750944852 and parameters: {'lambda_l1': 1.5320059381854043e-08, 'lambda_l2': 5.360294728728285}. Best is trial 45 with value: 14323.27096718652.\u001b[0m\n",
      "regularization_factors, val_score: 14283.222723:  30%|###       | 6/20 [02:17<05:19, 22.85s/it]"
     ]
    },
    {
     "name": "stdout",
     "output_type": "stream",
     "text": [
      "Early stopping, best iteration is:\n",
      "[735]\tcv_agg's rmse: 14283.2 + 485.62\n",
      "[100]\tcv_agg's rmse: 14719.3 + 508.548\n",
      "[200]\tcv_agg's rmse: 14453.8 + 520.692\n",
      "[300]\tcv_agg's rmse: 14362.4 + 509.308\n",
      "[400]\tcv_agg's rmse: 14325.1 + 514.101\n",
      "[500]\tcv_agg's rmse: 14302.6 + 508.808\n",
      "[600]\tcv_agg's rmse: 14282.2 + 516.121\n",
      "[700]\tcv_agg's rmse: 14277.4 + 514.01\n"
     ]
    },
    {
     "name": "stderr",
     "output_type": "stream",
     "text": [
      "regularization_factors, val_score: 14272.183390:  35%|###5      | 7/20 [02:35<04:38, 21.45s/it]\u001b[32m[I 2022-10-31 18:19:50,564]\u001b[0m Trial 49 finished with value: 14272.183389522223 and parameters: {'lambda_l1': 0.31044435499483225, 'lambda_l2': 8.148018307012941e-07}. Best is trial 49 with value: 14272.183389522223.\u001b[0m\n",
      "regularization_factors, val_score: 14272.183390:  35%|###5      | 7/20 [02:35<04:38, 21.45s/it]"
     ]
    },
    {
     "name": "stdout",
     "output_type": "stream",
     "text": [
      "Early stopping, best iteration is:\n",
      "[653]\tcv_agg's rmse: 14272.2 + 514.702\n",
      "[100]\tcv_agg's rmse: 14719.3 + 508.548\n",
      "[200]\tcv_agg's rmse: 14452.1 + 519.119\n",
      "[300]\tcv_agg's rmse: 14378.8 + 489.792\n",
      "[400]\tcv_agg's rmse: 14338.1 + 489.391\n",
      "[500]\tcv_agg's rmse: 14315.6 + 487.426\n",
      "[600]\tcv_agg's rmse: 14284.5 + 482.27\n",
      "[700]\tcv_agg's rmse: 14276.9 + 472.646\n",
      "[800]\tcv_agg's rmse: 14261.1 + 456.15\n",
      "[900]\tcv_agg's rmse: 14251.6 + 452.607\n"
     ]
    },
    {
     "name": "stderr",
     "output_type": "stream",
     "text": [
      "regularization_factors, val_score: 14239.737236:  40%|####      | 8/20 [03:05<04:49, 24.12s/it]\u001b[32m[I 2022-10-31 18:20:20,410]\u001b[0m Trial 50 finished with value: 14239.737235840905 and parameters: {'lambda_l1': 4.329370014459266e-07, 'lambda_l2': 4.4734294104626844e-07}. Best is trial 50 with value: 14239.737235840905.\u001b[0m\n",
      "regularization_factors, val_score: 14239.737236:  40%|####      | 8/20 [03:05<04:49, 24.12s/it]"
     ]
    },
    {
     "name": "stdout",
     "output_type": "stream",
     "text": [
      "[1000]\tcv_agg's rmse: 14241.4 + 460.312\n",
      "Did not meet early stopping. Best iteration is:\n",
      "[995]\tcv_agg's rmse: 14239.7 + 458.752\n",
      "[100]\tcv_agg's rmse: 14740.9 + 512.976\n",
      "[200]\tcv_agg's rmse: 14531.8 + 497.012\n",
      "[300]\tcv_agg's rmse: 14461.7 + 465.235\n",
      "[400]\tcv_agg's rmse: 14411.3 + 476.047\n",
      "[500]\tcv_agg's rmse: 14381.1 + 488.119\n",
      "[600]\tcv_agg's rmse: 14368.4 + 489.748\n",
      "[700]\tcv_agg's rmse: 14358.9 + 495.286\n",
      "[800]\tcv_agg's rmse: 14364.7 + 507.579\n",
      "[900]\tcv_agg's rmse: 14359.1 + 510.059\n"
     ]
    },
    {
     "name": "stderr",
     "output_type": "stream",
     "text": [
      "regularization_factors, val_score: 14239.737236:  45%|####5     | 9/20 [03:30<04:26, 24.27s/it]\u001b[32m[I 2022-10-31 18:20:44,990]\u001b[0m Trial 51 finished with value: 14359.984143805184 and parameters: {'lambda_l1': 5.472429642032198e-06, 'lambda_l2': 0.00052821153945323}. Best is trial 50 with value: 14239.737235840905.\u001b[0m\n",
      "regularization_factors, val_score: 14239.737236:  45%|####5     | 9/20 [03:30<04:26, 24.27s/it]"
     ]
    },
    {
     "name": "stdout",
     "output_type": "stream",
     "text": [
      "[1000]\tcv_agg's rmse: 14359.5 + 500.577\n",
      "Did not meet early stopping. Best iteration is:\n",
      "[995]\tcv_agg's rmse: 14239.7 + 458.752\n",
      "[100]\tcv_agg's rmse: 14719.3 + 508.541\n",
      "[200]\tcv_agg's rmse: 14452.1 + 519.108\n",
      "[300]\tcv_agg's rmse: 14378.3 + 489.011\n",
      "[400]\tcv_agg's rmse: 14340.3 + 507.103\n",
      "[500]\tcv_agg's rmse: 14317.8 + 493.957\n",
      "[600]\tcv_agg's rmse: 14293.5 + 486.321\n",
      "[700]\tcv_agg's rmse: 14280.4 + 477.475\n",
      "[800]\tcv_agg's rmse: 14268.3 + 482\n",
      "[900]\tcv_agg's rmse: 14262.1 + 486.72\n"
     ]
    },
    {
     "name": "stderr",
     "output_type": "stream",
     "text": [
      "regularization_factors, val_score: 14239.737236:  50%|#####     | 10/20 [03:59<04:19, 25.97s/it]\u001b[32m[I 2022-10-31 18:21:14,766]\u001b[0m Trial 52 finished with value: 14259.112094948683 and parameters: {'lambda_l1': 7.71800699380605e-05, 'lambda_l2': 4.17890272377219e-06}. Best is trial 50 with value: 14239.737235840905.\u001b[0m\n",
      "regularization_factors, val_score: 14239.737236:  50%|#####     | 10/20 [04:00<04:19, 25.97s/it]"
     ]
    },
    {
     "name": "stdout",
     "output_type": "stream",
     "text": [
      "[1000]\tcv_agg's rmse: 14258.2 + 490.62\n",
      "Did not meet early stopping. Best iteration is:\n",
      "[995]\tcv_agg's rmse: 14239.7 + 458.752\n",
      "[100]\tcv_agg's rmse: 14719.3 + 508.541\n",
      "[200]\tcv_agg's rmse: 14452.1 + 519.108\n",
      "[300]\tcv_agg's rmse: 14379.3 + 489.33\n",
      "[400]\tcv_agg's rmse: 14351.7 + 510.102\n",
      "[500]\tcv_agg's rmse: 14315.6 + 491.807\n",
      "[600]\tcv_agg's rmse: 14292.1 + 480.479\n",
      "[700]\tcv_agg's rmse: 14280.1 + 476.1\n",
      "[800]\tcv_agg's rmse: 14269.1 + 465.389\n",
      "[900]\tcv_agg's rmse: 14268.7 + 464.355\n"
     ]
    },
    {
     "name": "stderr",
     "output_type": "stream",
     "text": [
      "regularization_factors, val_score: 14239.737236:  55%|#####5    | 11/20 [04:25<03:53, 25.97s/it]\u001b[32m[I 2022-10-31 18:21:40,748]\u001b[0m Trial 53 finished with value: 14280.080845916242 and parameters: {'lambda_l1': 7.388726219576186e-07, 'lambda_l2': 1.1323342574942026e-08}. Best is trial 50 with value: 14239.737235840905.\u001b[0m\n",
      "regularization_factors, val_score: 14239.737236:  55%|#####5    | 11/20 [04:25<03:53, 25.97s/it]"
     ]
    },
    {
     "name": "stdout",
     "output_type": "stream",
     "text": [
      "[1000]\tcv_agg's rmse: 14279.8 + 470.735\n",
      "Did not meet early stopping. Best iteration is:\n",
      "[995]\tcv_agg's rmse: 14239.7 + 458.752\n",
      "[100]\tcv_agg's rmse: 14719.3 + 508.541\n",
      "[200]\tcv_agg's rmse: 14446.3 + 516.844\n",
      "[300]\tcv_agg's rmse: 14365.2 + 485.609\n",
      "[400]\tcv_agg's rmse: 14333.7 + 504.993\n",
      "[500]\tcv_agg's rmse: 14307.6 + 499.036\n",
      "[600]\tcv_agg's rmse: 14281.7 + 493.534\n",
      "[700]\tcv_agg's rmse: 14272.6 + 492.049\n",
      "[800]\tcv_agg's rmse: 14266.5 + 488.899\n",
      "[900]\tcv_agg's rmse: 14276.6 + 484.659\n"
     ]
    },
    {
     "name": "stderr",
     "output_type": "stream",
     "text": [
      "regularization_factors, val_score: 14239.737236:  60%|######    | 12/20 [04:59<03:45, 28.21s/it]\u001b[32m[I 2022-10-31 18:22:14,068]\u001b[0m Trial 54 finished with value: 14275.749095870731 and parameters: {'lambda_l1': 0.0002993855030464691, 'lambda_l2': 1.3232991168593264e-05}. Best is trial 50 with value: 14239.737235840905.\u001b[0m\n",
      "regularization_factors, val_score: 14239.737236:  60%|######    | 12/20 [04:59<03:45, 28.21s/it]"
     ]
    },
    {
     "name": "stdout",
     "output_type": "stream",
     "text": [
      "[1000]\tcv_agg's rmse: 14274.1 + 487.001\n",
      "Did not meet early stopping. Best iteration is:\n",
      "[995]\tcv_agg's rmse: 14239.7 + 458.752\n",
      "[100]\tcv_agg's rmse: 14719.3 + 508.541\n",
      "[200]\tcv_agg's rmse: 14453.4 + 519.644\n",
      "[300]\tcv_agg's rmse: 14379.8 + 489.4\n",
      "[400]\tcv_agg's rmse: 14338 + 506.531\n",
      "[500]\tcv_agg's rmse: 14321.4 + 498.72\n",
      "[600]\tcv_agg's rmse: 14306.3 + 486.421\n",
      "[700]\tcv_agg's rmse: 14295.8 + 488.709\n",
      "[800]\tcv_agg's rmse: 14287 + 490.963\n",
      "[900]\tcv_agg's rmse: 14286 + 495.923\n"
     ]
    },
    {
     "name": "stderr",
     "output_type": "stream",
     "text": [
      "regularization_factors, val_score: 14239.737236:  65%|######5   | 13/20 [05:23<03:09, 27.03s/it]\u001b[32m[I 2022-10-31 18:22:38,401]\u001b[0m Trial 55 finished with value: 14283.584523890302 and parameters: {'lambda_l1': 9.721261446112004e-05, 'lambda_l2': 1.2439642430435591e-05}. Best is trial 50 with value: 14239.737235840905.\u001b[0m\n",
      "regularization_factors, val_score: 14239.737236:  65%|######5   | 13/20 [05:23<03:09, 27.03s/it]"
     ]
    },
    {
     "name": "stdout",
     "output_type": "stream",
     "text": [
      "[1000]\tcv_agg's rmse: 14282.4 + 497.218\n",
      "Did not meet early stopping. Best iteration is:\n",
      "[995]\tcv_agg's rmse: 14239.7 + 458.752\n",
      "[100]\tcv_agg's rmse: 14719.3 + 508.541\n",
      "[200]\tcv_agg's rmse: 14452 + 519.077\n",
      "[300]\tcv_agg's rmse: 14379.2 + 489.31\n",
      "[400]\tcv_agg's rmse: 14351.6 + 510.08\n",
      "[500]\tcv_agg's rmse: 14320.5 + 490.648\n",
      "[600]\tcv_agg's rmse: 14301.3 + 480.829\n",
      "[700]\tcv_agg's rmse: 14288 + 478.672\n",
      "[800]\tcv_agg's rmse: 14275.6 + 481.87\n",
      "[900]\tcv_agg's rmse: 14277 + 480.348\n"
     ]
    },
    {
     "name": "stderr",
     "output_type": "stream",
     "text": [
      "regularization_factors, val_score: 14239.737236:  70%|#######   | 14/20 [05:53<02:47, 27.84s/it]\u001b[32m[I 2022-10-31 18:23:08,097]\u001b[0m Trial 56 finished with value: 14273.679193671773 and parameters: {'lambda_l1': 0.005155025038628585, 'lambda_l2': 8.47695703064452e-06}. Best is trial 50 with value: 14239.737235840905.\u001b[0m\n",
      "regularization_factors, val_score: 14239.737236:  70%|#######   | 14/20 [05:53<02:47, 27.84s/it]"
     ]
    },
    {
     "name": "stdout",
     "output_type": "stream",
     "text": [
      "[1000]\tcv_agg's rmse: 14272.4 + 487.932\n",
      "Did not meet early stopping. Best iteration is:\n",
      "[995]\tcv_agg's rmse: 14239.7 + 458.752\n",
      "[100]\tcv_agg's rmse: 14733 + 515.255\n",
      "[200]\tcv_agg's rmse: 14482.3 + 530.108\n",
      "[300]\tcv_agg's rmse: 14386.2 + 525.495\n",
      "[400]\tcv_agg's rmse: 14336.1 + 541.439\n",
      "[500]\tcv_agg's rmse: 14308.1 + 545.559\n",
      "[600]\tcv_agg's rmse: 14280.3 + 558.442\n",
      "[700]\tcv_agg's rmse: 14262.4 + 567.006\n",
      "[800]\tcv_agg's rmse: 14266.5 + 571.743\n",
      "[900]\tcv_agg's rmse: 14250.1 + 569.757\n"
     ]
    },
    {
     "name": "stderr",
     "output_type": "stream",
     "text": [
      "regularization_factors, val_score: 14239.737236:  75%|#######5  | 15/20 [06:17<02:14, 26.86s/it]\u001b[32m[I 2022-10-31 18:23:32,685]\u001b[0m Trial 57 finished with value: 14245.188214016413 and parameters: {'lambda_l1': 3.3316309468938448, 'lambda_l2': 1.2808886981851412e-08}. Best is trial 50 with value: 14239.737235840905.\u001b[0m\n",
      "regularization_factors, val_score: 14239.737236:  75%|#######5  | 15/20 [06:17<02:14, 26.86s/it]"
     ]
    },
    {
     "name": "stdout",
     "output_type": "stream",
     "text": [
      "[1000]\tcv_agg's rmse: 14245.7 + 564.726\n",
      "Did not meet early stopping. Best iteration is:\n",
      "[995]\tcv_agg's rmse: 14239.7 + 458.752\n",
      "[100]\tcv_agg's rmse: 14729.6 + 513.261\n",
      "[200]\tcv_agg's rmse: 14472.1 + 511.117\n",
      "[300]\tcv_agg's rmse: 14351.1 + 500.435\n",
      "[400]\tcv_agg's rmse: 14306.4 + 504.542\n",
      "[500]\tcv_agg's rmse: 14290.8 + 503.614\n",
      "[600]\tcv_agg's rmse: 14286.6 + 498.352\n",
      "[700]\tcv_agg's rmse: 14266.2 + 498.793\n",
      "[800]\tcv_agg's rmse: 14263 + 502.761\n",
      "[900]\tcv_agg's rmse: 14253.7 + 505.262\n"
     ]
    },
    {
     "name": "stderr",
     "output_type": "stream",
     "text": [
      "regularization_factors, val_score: 14239.737236:  80%|########  | 16/20 [06:47<01:50, 27.74s/it]\u001b[32m[I 2022-10-31 18:24:02,484]\u001b[0m Trial 58 finished with value: 14253.74593024253 and parameters: {'lambda_l1': 8.54211018433732, 'lambda_l2': 1.2142088484920534e-08}. Best is trial 50 with value: 14239.737235840905.\u001b[0m\n",
      "regularization_factors, val_score: 14239.737236:  80%|########  | 16/20 [06:47<01:50, 27.74s/it]"
     ]
    },
    {
     "name": "stdout",
     "output_type": "stream",
     "text": [
      "[1000]\tcv_agg's rmse: 14254.3 + 511.888\n",
      "Did not meet early stopping. Best iteration is:\n",
      "[995]\tcv_agg's rmse: 14239.7 + 458.752\n",
      "[100]\tcv_agg's rmse: 14732.9 + 515.016\n",
      "[200]\tcv_agg's rmse: 14477.9 + 534.269\n",
      "[300]\tcv_agg's rmse: 14394.7 + 500.756\n",
      "[400]\tcv_agg's rmse: 14340.1 + 527.53\n",
      "[500]\tcv_agg's rmse: 14306.1 + 521.28\n",
      "[600]\tcv_agg's rmse: 14279.7 + 521.783\n",
      "[700]\tcv_agg's rmse: 14270.5 + 541.219\n",
      "[800]\tcv_agg's rmse: 14279 + 543.909\n",
      "[900]\tcv_agg's rmse: 14267.1 + 527.126\n"
     ]
    },
    {
     "name": "stderr",
     "output_type": "stream",
     "text": [
      "regularization_factors, val_score: 14239.737236:  85%|########5 | 17/20 [07:11<01:19, 26.66s/it]\u001b[32m[I 2022-10-31 18:24:26,637]\u001b[0m Trial 59 finished with value: 14259.06613461798 and parameters: {'lambda_l1': 3.765983506774739, 'lambda_l2': 1.2403094551229955e-07}. Best is trial 50 with value: 14239.737235840905.\u001b[0m\n",
      "regularization_factors, val_score: 14239.737236:  85%|########5 | 17/20 [07:11<01:19, 26.66s/it]"
     ]
    },
    {
     "name": "stdout",
     "output_type": "stream",
     "text": [
      "[1000]\tcv_agg's rmse: 14257.3 + 520.615\n",
      "Did not meet early stopping. Best iteration is:\n",
      "[995]\tcv_agg's rmse: 14239.7 + 458.752\n",
      "[100]\tcv_agg's rmse: 14719.3 + 508.54\n",
      "[200]\tcv_agg's rmse: 14449.3 + 524.474\n",
      "[300]\tcv_agg's rmse: 14378.1 + 496.882\n",
      "[400]\tcv_agg's rmse: 14343.8 + 505.735\n",
      "[500]\tcv_agg's rmse: 14322.3 + 507.406\n",
      "[600]\tcv_agg's rmse: 14296 + 502.752\n",
      "[700]\tcv_agg's rmse: 14277.9 + 494.557\n",
      "[800]\tcv_agg's rmse: 14271.4 + 500.799\n",
      "[900]\tcv_agg's rmse: 14268.3 + 495.033\n"
     ]
    },
    {
     "name": "stderr",
     "output_type": "stream",
     "text": [
      "regularization_factors, val_score: 14239.737236:  90%|######### | 18/20 [07:36<00:51, 25.98s/it]\u001b[32m[I 2022-10-31 18:24:51,015]\u001b[0m Trial 60 finished with value: 14266.829855145537 and parameters: {'lambda_l1': 0.35543774015898516, 'lambda_l2': 6.092593320927108e-08}. Best is trial 50 with value: 14239.737235840905.\u001b[0m\n",
      "regularization_factors, val_score: 14239.737236:  90%|######### | 18/20 [07:36<00:51, 25.98s/it]"
     ]
    },
    {
     "name": "stdout",
     "output_type": "stream",
     "text": [
      "[1000]\tcv_agg's rmse: 14265.5 + 502.47\n",
      "Did not meet early stopping. Best iteration is:\n",
      "[995]\tcv_agg's rmse: 14239.7 + 458.752\n",
      "[100]\tcv_agg's rmse: 14719.3 + 508.546\n",
      "[200]\tcv_agg's rmse: 14453.3 + 519.685\n",
      "[300]\tcv_agg's rmse: 14379.1 + 489.905\n",
      "[400]\tcv_agg's rmse: 14337.1 + 507.2\n",
      "[500]\tcv_agg's rmse: 14310.9 + 487.526\n",
      "[600]\tcv_agg's rmse: 14282.3 + 496.833\n",
      "[700]\tcv_agg's rmse: 14267.3 + 487.582\n",
      "[800]\tcv_agg's rmse: 14274.5 + 474.91\n",
      "[900]\tcv_agg's rmse: 14275.4 + 468.266\n"
     ]
    },
    {
     "name": "stderr",
     "output_type": "stream",
     "text": [
      "regularization_factors, val_score: 14239.737236:  95%|#########5| 19/20 [08:06<00:27, 27.13s/it]\u001b[32m[I 2022-10-31 18:25:20,848]\u001b[0m Trial 61 finished with value: 14268.470149253717 and parameters: {'lambda_l1': 2.4820030639174603e-06, 'lambda_l2': 9.134446879231326e-07}. Best is trial 50 with value: 14239.737235840905.\u001b[0m\n",
      "regularization_factors, val_score: 14239.737236:  95%|#########5| 19/20 [08:06<00:27, 27.13s/it]"
     ]
    },
    {
     "name": "stdout",
     "output_type": "stream",
     "text": [
      "[1000]\tcv_agg's rmse: 14267.5 + 475.028\n",
      "Did not meet early stopping. Best iteration is:\n",
      "[995]\tcv_agg's rmse: 14239.7 + 458.752\n",
      "[100]\tcv_agg's rmse: 14719.3 + 508.541\n",
      "[200]\tcv_agg's rmse: 14446.3 + 516.844\n",
      "[300]\tcv_agg's rmse: 14365.2 + 485.61\n",
      "[400]\tcv_agg's rmse: 14326.1 + 498.429\n",
      "[500]\tcv_agg's rmse: 14306.5 + 483.253\n",
      "[600]\tcv_agg's rmse: 14276.3 + 484.569\n",
      "[700]\tcv_agg's rmse: 14261.9 + 481.504\n",
      "[800]\tcv_agg's rmse: 14246.9 + 488.329\n",
      "[900]\tcv_agg's rmse: 14243.6 + 487.173\n"
     ]
    },
    {
     "name": "stderr",
     "output_type": "stream",
     "text": [
      "regularization_factors, val_score: 14237.546493: 100%|##########| 20/20 [08:30<00:00, 26.33s/it]\u001b[32m[I 2022-10-31 18:25:45,312]\u001b[0m Trial 62 finished with value: 14237.546492546808 and parameters: {'lambda_l1': 0.0015287350854341264, 'lambda_l2': 8.582661621678263e-05}. Best is trial 62 with value: 14237.546492546808.\u001b[0m\n",
      "regularization_factors, val_score: 14237.546493: 100%|##########| 20/20 [08:30<00:00, 25.53s/it]\n"
     ]
    },
    {
     "name": "stdout",
     "output_type": "stream",
     "text": [
      "[1000]\tcv_agg's rmse: 14243.9 + 494.833\n",
      "Did not meet early stopping. Best iteration is:\n",
      "[934]\tcv_agg's rmse: 14237.5 + 489.32\n"
     ]
    },
    {
     "name": "stderr",
     "output_type": "stream",
     "text": [
      "min_data_in_leaf, val_score: 14237.546493:   0%|          | 0/5 [00:00<?, ?it/s]"
     ]
    },
    {
     "name": "stdout",
     "output_type": "stream",
     "text": [
      "[100]\tcv_agg's rmse: 14883.8 + 729.518\n",
      "[200]\tcv_agg's rmse: 14605.4 + 721.015\n",
      "[300]\tcv_agg's rmse: 14551.2 + 748.22\n",
      "[400]\tcv_agg's rmse: 14528.5 + 758.414\n",
      "[500]\tcv_agg's rmse: 14529.6 + 779.772\n",
      "[600]\tcv_agg's rmse: 14518.1 + 784.028\n",
      "[700]\tcv_agg's rmse: 14516.3 + 779.912\n",
      "[800]\tcv_agg's rmse: 14520.4 + 775.125\n",
      "[900]\tcv_agg's rmse: 14519.6 + 779.346\n"
     ]
    },
    {
     "name": "stderr",
     "output_type": "stream",
     "text": [
      "min_data_in_leaf, val_score: 14237.546493:  20%|##        | 1/5 [00:29<01:59, 29.84s/it]\u001b[32m[I 2022-10-31 18:26:15,156]\u001b[0m Trial 63 finished with value: 14520.98406629322 and parameters: {'min_child_samples': 50}. Best is trial 63 with value: 14520.98406629322.\u001b[0m\n",
      "min_data_in_leaf, val_score: 14237.546493:  20%|##        | 1/5 [00:29<01:59, 29.84s/it]"
     ]
    },
    {
     "name": "stdout",
     "output_type": "stream",
     "text": [
      "[1000]\tcv_agg's rmse: 14519.7 + 784.996\n",
      "Did not meet early stopping. Best iteration is:\n",
      "[934]\tcv_agg's rmse: 14237.5 + 489.32\n",
      "[100]\tcv_agg's rmse: 14974.4 + 874.247\n",
      "[200]\tcv_agg's rmse: 14686.8 + 859.524\n",
      "[300]\tcv_agg's rmse: 14590.5 + 859.303\n",
      "[400]\tcv_agg's rmse: 14542.2 + 855.571\n",
      "[500]\tcv_agg's rmse: 14523 + 848.582\n",
      "[600]\tcv_agg's rmse: 14489.8 + 847.827\n",
      "[700]\tcv_agg's rmse: 14481.1 + 852.878\n",
      "[800]\tcv_agg's rmse: 14494.7 + 848.234\n",
      "[900]\tcv_agg's rmse: 14488.7 + 846.909\n"
     ]
    },
    {
     "name": "stderr",
     "output_type": "stream",
     "text": [
      "min_data_in_leaf, val_score: 14237.546493:  40%|####      | 2/5 [00:54<01:20, 26.92s/it]\u001b[32m[I 2022-10-31 18:26:40,035]\u001b[0m Trial 64 finished with value: 14484.265649749112 and parameters: {'min_child_samples': 100}. Best is trial 64 with value: 14484.265649749112.\u001b[0m\n",
      "min_data_in_leaf, val_score: 14237.546493:  40%|####      | 2/5 [00:54<01:20, 26.92s/it]"
     ]
    },
    {
     "name": "stdout",
     "output_type": "stream",
     "text": [
      "[1000]\tcv_agg's rmse: 14483.8 + 847.888\n",
      "Did not meet early stopping. Best iteration is:\n",
      "[934]\tcv_agg's rmse: 14237.5 + 489.32\n",
      "[100]\tcv_agg's rmse: 14804.2 + 569.143\n",
      "[200]\tcv_agg's rmse: 14597.2 + 595.405\n",
      "[300]\tcv_agg's rmse: 14498.3 + 576.515\n",
      "[400]\tcv_agg's rmse: 14456.5 + 566.587\n",
      "[500]\tcv_agg's rmse: 14406.8 + 569.902\n",
      "[600]\tcv_agg's rmse: 14400.1 + 574.678\n",
      "[700]\tcv_agg's rmse: 14386.1 + 584.291\n",
      "[800]\tcv_agg's rmse: 14387.3 + 580.47\n",
      "[900]\tcv_agg's rmse: 14388.1 + 576.233\n"
     ]
    },
    {
     "name": "stderr",
     "output_type": "stream",
     "text": [
      "min_data_in_leaf, val_score: 14237.546493:  60%|######    | 3/5 [01:24<00:56, 28.19s/it]\u001b[32m[I 2022-10-31 18:27:09,740]\u001b[0m Trial 65 finished with value: 14384.857450783218 and parameters: {'min_child_samples': 25}. Best is trial 65 with value: 14384.857450783218.\u001b[0m\n",
      "min_data_in_leaf, val_score: 14237.546493:  60%|######    | 3/5 [01:24<00:56, 28.19s/it]"
     ]
    },
    {
     "name": "stdout",
     "output_type": "stream",
     "text": [
      "[1000]\tcv_agg's rmse: 14382.6 + 573.028\n",
      "Did not meet early stopping. Best iteration is:\n",
      "[934]\tcv_agg's rmse: 14237.5 + 489.32\n",
      "[100]\tcv_agg's rmse: 14831.4 + 557.138\n",
      "[200]\tcv_agg's rmse: 14651.9 + 554.089\n",
      "[300]\tcv_agg's rmse: 14629.3 + 606.501\n",
      "[400]\tcv_agg's rmse: 14570.6 + 617.507\n",
      "[500]\tcv_agg's rmse: 14548.8 + 607.577\n",
      "[600]\tcv_agg's rmse: 14534.7 + 603.771\n",
      "[700]\tcv_agg's rmse: 14528.8 + 605.333\n",
      "[800]\tcv_agg's rmse: 14523 + 601.619\n",
      "[900]\tcv_agg's rmse: 14522.1 + 600.489\n"
     ]
    },
    {
     "name": "stderr",
     "output_type": "stream",
     "text": [
      "min_data_in_leaf, val_score: 14237.546493:  80%|########  | 4/5 [01:53<00:28, 28.41s/it]\u001b[32m[I 2022-10-31 18:27:38,484]\u001b[0m Trial 66 finished with value: 14517.076191315122 and parameters: {'min_child_samples': 10}. Best is trial 65 with value: 14384.857450783218.\u001b[0m\n",
      "min_data_in_leaf, val_score: 14237.546493:  80%|########  | 4/5 [01:53<00:28, 28.41s/it]"
     ]
    },
    {
     "name": "stdout",
     "output_type": "stream",
     "text": [
      "[1000]\tcv_agg's rmse: 14512.6 + 603.248\n",
      "Did not meet early stopping. Best iteration is:\n",
      "[934]\tcv_agg's rmse: 14237.5 + 489.32\n",
      "[100]\tcv_agg's rmse: 14875.8 + 549.513\n",
      "[200]\tcv_agg's rmse: 14732.3 + 720.902\n",
      "[300]\tcv_agg's rmse: 14668.8 + 824.139\n",
      "[400]\tcv_agg's rmse: 14594.4 + 841.905\n",
      "[500]\tcv_agg's rmse: 14572.2 + 854.186\n",
      "[600]\tcv_agg's rmse: 14570.7 + 875.998\n",
      "[700]\tcv_agg's rmse: 14565.4 + 900.651\n",
      "[800]\tcv_agg's rmse: 14581.1 + 918.638\n",
      "[900]\tcv_agg's rmse: 14555.7 + 904.516\n"
     ]
    },
    {
     "name": "stderr",
     "output_type": "stream",
     "text": [
      "min_data_in_leaf, val_score: 14237.546493: 100%|##########| 5/5 [02:24<00:00, 29.34s/it]\u001b[32m[I 2022-10-31 18:28:09,479]\u001b[0m Trial 67 finished with value: 14554.562524394376 and parameters: {'min_child_samples': 5}. Best is trial 65 with value: 14384.857450783218.\u001b[0m\n",
      "min_data_in_leaf, val_score: 14237.546493: 100%|##########| 5/5 [02:24<00:00, 28.83s/it]"
     ]
    },
    {
     "name": "stdout",
     "output_type": "stream",
     "text": [
      "[1000]\tcv_agg's rmse: 14554.4 + 900.295\n",
      "Did not meet early stopping. Best iteration is:\n",
      "[934]\tcv_agg's rmse: 14237.5 + 489.32\n"
     ]
    },
    {
     "name": "stderr",
     "output_type": "stream",
     "text": [
      "\n"
     ]
    }
   ],
   "source": [
    "\n",
    "# 目的変数\n",
    "train_y = np.array(train['賃料'])\n",
    "# idは特徴量には使えないので切り出しておく\n",
    "train_ids = np.array(train['id'])\n",
    "# idと賃料以外が特徴量になる\n",
    "feats = [col for col in train.columns if col not in ['id','賃料']]\n",
    "data = train[feats]\n",
    "target = train_y\n",
    "dtrain = lgb.Dataset(data, label=target)\n",
    "\n",
    "params = {\n",
    "    'objective': \"regression\",\n",
    "    'metric':\"rmse\",\n",
    "    \"verbosity\": -1,\n",
    "    \"boosting_type\": \"gbdt\",\n",
    "}\n",
    "\n",
    "tuner = lgb.LightGBMTunerCV(\n",
    "    params,\n",
    "    dtrain,\n",
    "    folds=KFold(n_splits=5),\n",
    "    callbacks=[early_stopping(100), log_evaluation(100)],\n",
    "    optuna_seed=42,\n",
    ")\n",
    "\n",
    "tuner.run()"
   ]
  },
  {
   "cell_type": "code",
   "execution_count": null,
   "id": "55b6357f",
   "metadata": {},
   "outputs": [],
   "source": []
  },
  {
   "cell_type": "code",
   "execution_count": 6,
   "id": "f69b6a2a",
   "metadata": {},
   "outputs": [
    {
     "name": "stdout",
     "output_type": "stream",
     "text": [
      "Best score: 14237.546492546808\n",
      "Best params: {'objective': 'regression', 'metric': 'rmse', 'verbosity': -1, 'boosting_type': 'gbdt', 'feature_pre_filter': False, 'lambda_l1': 0.0015287350854341264, 'lambda_l2': 8.582661621678263e-05, 'num_leaves': 31, 'feature_fraction': 0.7, 'bagging_fraction': 0.6591670111857015, 'bagging_freq': 3, 'min_child_samples': 20}\n",
      "  Params: \n",
      "    objective: regression\n",
      "    metric: rmse\n",
      "    verbosity: -1\n",
      "    boosting_type: gbdt\n",
      "    feature_pre_filter: False\n",
      "    lambda_l1: 0.0015287350854341264\n",
      "    lambda_l2: 8.582661621678263e-05\n",
      "    num_leaves: 31\n",
      "    feature_fraction: 0.7\n",
      "    bagging_fraction: 0.6591670111857015\n",
      "    bagging_freq: 3\n",
      "    min_child_samples: 20\n"
     ]
    }
   ],
   "source": [
    "print(\"Best score:\", tuner.best_score)\n",
    "best_params = tuner.best_params\n",
    "print(\"Best params:\", best_params)\n",
    "print(\"  Params: \")\n",
    "for key, value in best_params.items():\n",
    "    print(\"    {}: {}\".format(key, value))"
   ]
  },
  {
   "cell_type": "code",
   "execution_count": 7,
   "id": "6ccfbd3e",
   "metadata": {},
   "outputs": [
    {
     "data": {
      "text/plain": [
       "{'objective': 'regression',\n",
       " 'metric': 'rmse',\n",
       " 'verbosity': -1,\n",
       " 'boosting_type': 'gbdt',\n",
       " 'feature_pre_filter': False,\n",
       " 'lambda_l1': 0.0015287350854341264,\n",
       " 'lambda_l2': 8.582661621678263e-05,\n",
       " 'num_leaves': 31,\n",
       " 'feature_fraction': 0.7,\n",
       " 'bagging_fraction': 0.6591670111857015,\n",
       " 'bagging_freq': 3,\n",
       " 'min_child_samples': 20}"
      ]
     },
     "execution_count": 7,
     "metadata": {},
     "output_type": "execute_result"
    }
   ],
   "source": [
    "best_params"
   ]
  },
  {
   "cell_type": "code",
   "execution_count": null,
   "id": "927566e5",
   "metadata": {},
   "outputs": [],
   "source": []
  }
 ],
 "metadata": {
  "kernelspec": {
   "display_name": "Python 3 (ipykernel)",
   "language": "python",
   "name": "python3"
  },
  "language_info": {
   "codemirror_mode": {
    "name": "ipython",
    "version": 3
   },
   "file_extension": ".py",
   "mimetype": "text/x-python",
   "name": "python",
   "nbconvert_exporter": "python",
   "pygments_lexer": "ipython3",
   "version": "3.8.13"
  }
 },
 "nbformat": 4,
 "nbformat_minor": 5
}
