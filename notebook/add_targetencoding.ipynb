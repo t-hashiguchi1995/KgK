{
 "cells": [
  {
   "cell_type": "code",
   "execution_count": null,
   "id": "9027c209",
   "metadata": {},
   "outputs": [],
   "source": [
    "# 関連ライブラリのimport\n",
    "from sklearn.model_selection import KFold, StratifiedKFold\n",
    "from sklearn.metrics import mean_squared_error\n",
    "import lightgbm as lgb\n",
    "#fold数\n",
    "folds = 5\n",
    "\n",
    "import pickle\n",
    "import os\n",
    "import gc\n",
    "gc.enable()\n",
    "import warnings\n",
    "warnings.filterwarnings(\"ignore\")\n",
    "import time\n",
    "\n",
    "import pandas as pd\n",
    "\n",
    "from tqdm import tqdm_notebook as tqdm\n",
    "from collections import defaultdict\n",
    "import re\n",
    "import matplotlib.pyplot as plt\n",
    "import numpy as np\n",
    "\n",
    "import matplotlib\n",
    "import japanize_matplotlib\n",
    "import seaborn as sns\n",
    "\n",
    "import mojimoji\n",
    "import itertools"
   ]
  },
  {
   "cell_type": "code",
   "execution_count": null,
   "id": "1a0ce005",
   "metadata": {},
   "outputs": [],
   "source": [
    "train = pd.read_csv(\"data/train_processed_add_geocoding_meshcode_crime_landprice.csv\")\n",
    "test = pd.read_csv(\"data/test_processed_add_geocoding_meshcode_crime_landprice.csv\")"
   ]
  },
  {
   "cell_type": "code",
   "execution_count": null,
   "id": "416859ee",
   "metadata": {},
   "outputs": [],
   "source": [
    "train_and_test = pd.concat([train,test],axis=0)"
   ]
  },
  {
   "cell_type": "code",
   "execution_count": null,
   "id": "067e43cc",
   "metadata": {},
   "outputs": [],
   "source": [
    "train_and_test[\"keiyaku_length\"] = train_and_test[\"keiyaku_length\"].fillna(train_and_test[\"keiyaku_length\"].mean())\n",
    "train[\"keiyaku_length\"] = train[\"keiyaku_length\"].fillna(train[\"keiyaku_length\"].mean())"
   ]
  },
  {
   "cell_type": "code",
   "execution_count": null,
   "id": "d4384a63",
   "metadata": {},
   "outputs": [],
   "source": [
    "exclusion = [\"所在地\", \"アクセス\", \"番地\", \"tokens\"] + [\"id\", \"賃料\", \"lat\", \"lng\"]"
   ]
  },
  {
   "cell_type": "code",
   "execution_count": null,
   "id": "10ae0691",
   "metadata": {},
   "outputs": [],
   "source": [
    "one_hot_feats = [\n",
    " '24時間換気システム',\n",
    " '2面採光',\n",
    " '3面採光',\n",
    " 'ウォークインクローゼット',\n",
    " 'エアコン付',\n",
    " 'エレベーター',\n",
    " 'オール電化',\n",
    " 'ガスその他',\n",
    " 'ガス暖房',\n",
    " 'クッションフロア',\n",
    " 'シューズボックス',\n",
    " 'タイル張り',\n",
    " 'トランクルーム',\n",
    " 'バリアフリー',\n",
    " 'バルコニー',\n",
    " 'フローリング',\n",
    " 'プロパンガス',\n",
    " 'ペアガラス',\n",
    " 'ルーフバルコニー',\n",
    " 'ロフト付き',\n",
    " '下水',\n",
    " '二世帯住宅',\n",
    " '二重サッシ',\n",
    " '井戸',\n",
    " '公営水道',\n",
    " '冷房',\n",
    " '出窓',\n",
    " '地下室',\n",
    " '室内洗濯機置場',\n",
    " '室外洗濯機置場',\n",
    " '専用庭',\n",
    " '床下収納',\n",
    " '床暖房',\n",
    " '排水その他',\n",
    " '敷地内ごみ置き場',\n",
    " '水道その他',\n",
    " '汲み取り',\n",
    " '洗濯機置場なし',\n",
    " '浄化槽',\n",
    " '石油暖房',\n",
    " '都市ガス',\n",
    " '防音室',\n",
    " 'IHコンロ',\n",
    " 'L字キッチン',\n",
    " 'カウンターキッチン',\n",
    " 'ガスコンロ',\n",
    " 'コンロ1口',\n",
    " 'コンロ2口',\n",
    " 'コンロ3口',\n",
    " 'コンロ4口以上',\n",
    " 'コンロ設置可(コンロ1口)',\n",
    " 'コンロ設置可(コンロ2口)',\n",
    " 'コンロ設置可(コンロ3口)',\n",
    " 'コンロ設置可(コンロ4口以上)',\n",
    " 'コンロ設置可(口数不明)',\n",
    " 'システムキッチン',\n",
    " '冷蔵庫あり',\n",
    " '独立キッチン',\n",
    " '給湯',\n",
    " '電気コンロ',\n",
    " 'BSアンテナ',\n",
    " 'CATV',\n",
    " 'CSアンテナ',\n",
    " 'インターネット使用料無料',\n",
    " 'インターネット対応',\n",
    " '光ファイバー',\n",
    " '有線放送',\n",
    " '高速インターネット',\n",
    "'シャワー',\n",
    " 'トイレなし',\n",
    " 'バスなし',\n",
    " 'バス・トイレ別',\n",
    " '共同トイレ',\n",
    " '共同バス',\n",
    " '専用トイレ',\n",
    " '専用バス',\n",
    " '洗面台独立',\n",
    " '浴室乾燥機',\n",
    " '温水洗浄便座',\n",
    " '脱衣所',\n",
    " '追焚機能',\n",
    "'K有無',\n",
    " 'D有無',\n",
    " 'L有無',\n",
    " 'S有無',\n",
    "'定期借家フラグ',\n",
    "'park_bike',\n",
    " 'park_motor',\n",
    " 'park_car']"
   ]
  },
  {
   "cell_type": "code",
   "execution_count": null,
   "id": "03e6c7dc",
   "metadata": {},
   "outputs": [],
   "source": [
    "categorical_feats_name = ['方角','建物構造','区', \"railway\"]"
   ]
  },
  {
   "cell_type": "code",
   "execution_count": null,
   "id": "f7be4a19",
   "metadata": {},
   "outputs": [],
   "source": [
    "columns = [n for n in list(train_and_test.columns) if n not in one_hot_feats and n not in categorical_feats_name and n not in exclusion]"
   ]
  },
  {
   "cell_type": "code",
   "execution_count": null,
   "id": "9dc93672",
   "metadata": {},
   "outputs": [],
   "source": [
    "columns"
   ]
  },
  {
   "cell_type": "code",
   "execution_count": null,
   "id": "5a966276",
   "metadata": {},
   "outputs": [],
   "source": [
    "def outlier(series):\n",
    "    q1 = series.quantile(.25)\n",
    "    q3 = series.quantile(.75)\n",
    "    iqr = q3 - q1\n",
    "    iqr_rate = q3 / q1\n",
    "    bias=1.5\n",
    "    #外れ値の基準点\n",
    "    outlier_min = q1 - (iqr) * bias\n",
    "    outlier_max = q3 + (iqr) * bias\n",
    "    return iqr, iqr_rate, outlier_min, outlier_max"
   ]
  },
  {
   "cell_type": "code",
   "execution_count": null,
   "id": "9f5fddfc",
   "metadata": {},
   "outputs": [],
   "source": [
    "outlier(train_and_test[\"area\"])"
   ]
  },
  {
   "cell_type": "code",
   "execution_count": null,
   "id": "d2d9b2b5",
   "metadata": {},
   "outputs": [],
   "source": [
    "log_feature = np.log1p(train_and_test[columns])\n",
    "c = log_feature.columns\n",
    "log_feature.columns = [n+\"_log\" for n in c]\n",
    "log_feature\n",
    "train_and_test = pd.concat([train_and_test, log_feature], axis=1)"
   ]
  },
  {
   "cell_type": "code",
   "execution_count": null,
   "id": "47929f0c",
   "metadata": {},
   "outputs": [],
   "source": [
    "# c\n",
    "# groupby_df = train_and_test.groupby(c).mean().reset_index()[columns.remove(c)]\n",
    "# groupby_df\n",
    "# pd.merge(train_and_test[c], groupby_df)"
   ]
  },
  {
   "cell_type": "code",
   "execution_count": null,
   "id": "f8eff51c",
   "metadata": {},
   "outputs": [],
   "source": [
    "train_and_test[\"公示価格/面積\"] = train_and_test[\"公示価格\"] / train_and_test[\"area\"]\n",
    "train_and_test[\"面積/部屋数\"] = train_and_test[\"area\"] / train_and_test[\"部屋数\"]\n",
    "train_and_test[\"高さ率\"] = train_and_test[\"floor\"] / train_and_test[\"all_floor\"]\n",
    "train_and_test[\"面積*高さ\"] = train_and_test[\"area\"] * train_and_test[\"floor\"]\n",
    "\n",
    "# train_and_test[\"公示価格*面積\"] = train_and_test[\"公示価格\"] * train_and_test[\"area\"]\n",
    "\n",
    "train_and_test[\"公示価格_bin\"] = pd.cut(train_and_test[\"公示価格\"], 5, labels=False)"
   ]
  },
  {
   "cell_type": "code",
   "execution_count": null,
   "id": "b92c6685",
   "metadata": {},
   "outputs": [],
   "source": [
    "train_and_test[\"所在地_v2\"] = train_and_test[\"所在地\"].str.replace(\"丁目.*\", \"\")+\"丁目\"\n",
    "location = train_and_test[\"所在地_v2\"].str.replace(\"東京都\",\"\").str.split(\"区\", expand=True).rename(columns={0:\"区\", 1:\"丁目\"})\n",
    "labels, uniques = pd.factorize(location['丁目'])\n",
    "train_and_test['丁目'] = labels\n",
    "train_and_test = train_and_test.drop(\"所在地_v2\", axis=1)"
   ]
  },
  {
   "cell_type": "code",
   "execution_count": null,
   "id": "c30eda0b",
   "metadata": {},
   "outputs": [],
   "source": [
    "train_and_test[\"間取り\"] = train_and_test[\"部屋数\"]*1000 + train_and_test[\"L有無\"]*100 + train_and_test[\"D有無\"]*10 + train_and_test[\"K有無\"]*1 + train_and_test[\"S有無\"]*1"
   ]
  },
  {
   "cell_type": "code",
   "execution_count": null,
   "id": "da8fd2b9",
   "metadata": {},
   "outputs": [],
   "source": [
    "train_and_test[\"間取り\"]"
   ]
  },
  {
   "cell_type": "code",
   "execution_count": null,
   "id": "9b34e4d4",
   "metadata": {},
   "outputs": [],
   "source": [
    "def make_groupby_from(df, groupby_col, agg_func, col):\n",
    "    groupby_df = df.groupby(groupby_col).agg({col:agg_func}).reset_index().fillna(0)\n",
    "    agg_func_column = [f\"{agg}_{'&'.join(groupby_col)}\" for agg in agg_func]\n",
    "    groupby_df.columns = groupby_col + agg_func_column\n",
    "    return groupby_df"
   ]
  },
  {
   "cell_type": "code",
   "execution_count": null,
   "id": "fb3b826f",
   "metadata": {},
   "outputs": [],
   "source": [
    "cols = [\n",
    "    '建物構造',\n",
    "    '区',\n",
    "    '丁目',\n",
    "    '間取り'\n",
    "]\n",
    "\n",
    "\n",
    "\n",
    "agg_func = [\"mean\", \"median\", \"min\", \"max\", \"std\", \"skew\"]\n",
    "\n",
    "\n",
    "for c in cols:\n",
    "    print(c)\n",
    "    groupby_col = c\n",
    "    groupby_df = train_and_test.groupby(groupby_col).agg({\"age\":\"mean\", \"area\":\"mean\", \"all_floor\":\"mean\"}).reset_index().fillna(0)\n",
    "    groupby_df.columns = [groupby_col] + [f\"mean_age_{c}\", f\"mean_area_{c}\", f\"mean_all_floor_{c}\"]\n",
    "    train_and_test = pd.merge(train_and_test, groupby_df, on=groupby_col, how=\"left\")\n",
    "    train_and_test[f\"area_平均倍率_{c}\"] = train_and_test[\"area\"] / train_and_test[f\"mean_area_{c}\"]\n",
    "    train_and_test[f\"area_平均差分_{c}\"] = train_and_test[\"area\"] - train_and_test[f\"mean_area_{c}\"]\n",
    "    train_and_test[f\"age_平均倍率_{c}\"] = train_and_test[\"age\"] / train_and_test[f\"mean_age_{c}\"]\n",
    "    train_and_test[f\"age_平均差分_{c}\"] = train_and_test[\"age\"] - train_and_test[f\"mean_age_{c}\"]\n",
    "    train_and_test[f\"all_floor_平均倍率_{c}\"] = train_and_test[\"all_floor\"] / train_and_test[f\"mean_all_floor_{c}\"]\n",
    "    train_and_test[f\"all_floor_平均差分_{c}\"] = train_and_test[\"all_floor\"] - train_and_test[f\"mean_all_floor_{c}\"]\n",
    "\n",
    "    groupby_df = train_and_test.groupby(groupby_col).agg({f\"area_平均倍率_{c}\":agg_func, f\"area_平均差分_{c}\":agg_func,\\\n",
    "                                                          f\"age_平均倍率_{c}\":agg_func, f\"age_平均差分_{c}\":agg_func,\\\n",
    "                                                          f\"all_floor_平均倍率_{c}\":agg_func, f\"all_floor_平均差分_{c}\":agg_func}).reset_index().fillna(0)\n",
    "    agg_func_column = [f\"{g}_{n}_{''.join(groupby_col)}_{agg}\" for g in [\"area\", \"age\", \"all_floor\"] for n in [\"平均倍率\", \"平均差分\"] for agg in agg_func]\n",
    "    groupby_df.columns = [groupby_col] + agg_func_column\n",
    "    train_and_test = pd.merge(train_and_test, groupby_df, on=groupby_col, how=\"left\")"
   ]
  },
  {
   "cell_type": "code",
   "execution_count": null,
   "id": "70563b9b",
   "metadata": {},
   "outputs": [],
   "source": []
  },
  {
   "cell_type": "code",
   "execution_count": null,
   "id": "ce638189",
   "metadata": {},
   "outputs": [],
   "source": []
  },
  {
   "cell_type": "markdown",
   "id": "fcb5b174",
   "metadata": {},
   "source": [
    "# 追加"
   ]
  },
  {
   "cell_type": "code",
   "execution_count": null,
   "id": "a8fa831f",
   "metadata": {},
   "outputs": [],
   "source": [
    "drop_columns = ['mean_age_町',\n",
    " 'mean_area_町',\n",
    " 'mean_all_floor_町',\n",
    " 'area_平均倍率_町',\n",
    " 'area_平均差分_町',\n",
    " 'age_平均倍率_町',\n",
    " 'age_平均差分_町',\n",
    " 'all_floor_平均倍率_町',\n",
    " 'all_floor_平均差分_町',\n",
    " 'area_平均倍率_町_mean',\n",
    " 'area_平均倍率_町_median',\n",
    " 'area_平均倍率_町_min',\n",
    " 'area_平均倍率_町_max',\n",
    " 'area_平均倍率_町_std',\n",
    " 'area_平均倍率_町_skew',\n",
    " 'area_平均差分_町_mean',\n",
    " 'area_平均差分_町_median',\n",
    " 'area_平均差分_町_min',\n",
    " 'area_平均差分_町_max',\n",
    " 'area_平均差分_町_std',\n",
    " 'area_平均差分_町_skew',\n",
    " 'age_平均倍率_町_mean',\n",
    " 'age_平均倍率_町_median',\n",
    " 'age_平均倍率_町_min',\n",
    " 'age_平均倍率_町_max',\n",
    " 'age_平均倍率_町_std',\n",
    " 'age_平均倍率_町_skew',\n",
    " 'age_平均差分_町_mean',\n",
    " 'age_平均差分_町_median',\n",
    " 'age_平均差分_町_min',\n",
    " 'age_平均差分_町_max',\n",
    " 'age_平均差分_町_std',\n",
    " 'age_平均差分_町_skew',\n",
    " 'all_floor_平均倍率_町_mean',\n",
    " 'all_floor_平均倍率_町_median',\n",
    " 'all_floor_平均倍率_町_min',\n",
    " 'all_floor_平均倍率_町_max',\n",
    " 'all_floor_平均倍率_町_std',\n",
    " 'all_floor_平均倍率_町_skew',\n",
    " 'all_floor_平均差分_町_mean',\n",
    " 'all_floor_平均差分_町_median',\n",
    " 'all_floor_平均差分_町_min',\n",
    " 'all_floor_平均差分_町_max',\n",
    " 'all_floor_平均差分_町_std',\n",
    " 'all_floor_平均差分_町_skew',\n",
    "               'meshcode_賃料mean']"
   ]
  },
  {
   "cell_type": "code",
   "execution_count": null,
   "id": "fa1ed828",
   "metadata": {},
   "outputs": [],
   "source": [
    "train = pd.read_csv(\"data/train_processed_add_geocoding_meshcode_crime_landprice_ladmark_log_groupby.csv\")\n",
    "test = pd.read_csv(\"data/test_processed_add_geocoding_meshcode_crime_landprice_ladmark_log_groupby.csv\")\n",
    "train_and_test = pd.concat([train,test],axis=0)"
   ]
  },
  {
   "cell_type": "code",
   "execution_count": null,
   "id": "4c1ce41c",
   "metadata": {},
   "outputs": [],
   "source": [
    "train_and_test[\"賃料\"] = train_and_test[\"賃料\"].replace(1203500, 123500)"
   ]
  },
  {
   "cell_type": "code",
   "execution_count": null,
   "id": "89e2a26e",
   "metadata": {},
   "outputs": [],
   "source": [
    "labels, uniques = pd.factorize(train_and_test['町'])\n",
    "train_and_test['町'] = labels"
   ]
  },
  {
   "cell_type": "code",
   "execution_count": null,
   "id": "3755a01d",
   "metadata": {},
   "outputs": [],
   "source": [
    "train_and_test = train_and_test.drop(drop_columns, axis=1)"
   ]
  },
  {
   "cell_type": "code",
   "execution_count": null,
   "id": "4af6151f",
   "metadata": {},
   "outputs": [],
   "source": [
    "cols = [\n",
    "    \"町\"\n",
    "]\n",
    "\n",
    "\n",
    "\n",
    "agg_func = [\"mean\", \"median\", \"min\", \"max\", \"std\", \"skew\"]\n",
    "\n",
    "\n",
    "for c in cols:\n",
    "    print(c)\n",
    "    groupby_col = c\n",
    "    groupby_df = train_and_test.groupby(groupby_col).agg({\"age\":\"mean\", \"area\":\"mean\", \"all_floor\":\"mean\"}).reset_index().fillna(0)\n",
    "    groupby_df.columns = [groupby_col] + [f\"mean_age_{c}\", f\"mean_area_{c}\", f\"mean_all_floor_{c}\"]\n",
    "    train_and_test = pd.merge(train_and_test, groupby_df, on=groupby_col, how=\"left\")\n",
    "    train_and_test[f\"area_平均倍率_{c}\"] = train_and_test[\"area\"] / train_and_test[f\"mean_area_{c}\"]\n",
    "    train_and_test[f\"area_平均差分_{c}\"] = train_and_test[\"area\"] - train_and_test[f\"mean_area_{c}\"]\n",
    "    train_and_test[f\"age_平均倍率_{c}\"] = train_and_test[\"age\"] / train_and_test[f\"mean_age_{c}\"]\n",
    "    train_and_test[f\"age_平均差分_{c}\"] = train_and_test[\"age\"] - train_and_test[f\"mean_age_{c}\"]\n",
    "    train_and_test[f\"all_floor_平均倍率_{c}\"] = train_and_test[\"all_floor\"] / train_and_test[f\"mean_all_floor_{c}\"]\n",
    "    train_and_test[f\"all_floor_平均差分_{c}\"] = train_and_test[\"all_floor\"] - train_and_test[f\"mean_all_floor_{c}\"]\n",
    "\n",
    "    groupby_df = train_and_test.groupby(groupby_col).agg({f\"area_平均倍率_{c}\":agg_func, f\"area_平均差分_{c}\":agg_func,\\\n",
    "                                                          f\"age_平均倍率_{c}\":agg_func, f\"age_平均差分_{c}\":agg_func,\\\n",
    "                                                          f\"all_floor_平均倍率_{c}\":agg_func, f\"all_floor_平均差分_{c}\":agg_func}).reset_index().fillna(0)\n",
    "    agg_func_column = [f\"{g}_{n}_{''.join(groupby_col)}_{agg}\" for g in [\"area\", \"age\", \"all_floor\"] for n in [\"平均倍率\", \"平均差分\"] for agg in agg_func]\n",
    "    groupby_df.columns = [groupby_col] + agg_func_column\n",
    "    train_and_test = pd.merge(train_and_test, groupby_df, on=groupby_col, how=\"left\")"
   ]
  },
  {
   "cell_type": "code",
   "execution_count": null,
   "id": "56410662",
   "metadata": {},
   "outputs": [],
   "source": [
    "categorical_feats_name = ['方角','建物構造','区', \"railway\", \"駅名\", \"町\"]\n",
    "drop_columns = [c+\"_賃料mean\" for c in categorical_feats_name]"
   ]
  },
  {
   "cell_type": "code",
   "execution_count": null,
   "id": "721ee241",
   "metadata": {},
   "outputs": [],
   "source": [
    "train_and_test = train_and_test.drop(drop_columns, axis=1)"
   ]
  },
  {
   "cell_type": "code",
   "execution_count": null,
   "id": "2902654c",
   "metadata": {},
   "outputs": [],
   "source": [
    "from sklearn.model_selection import KFold\n",
    "categorical_feats_name = ['方角','建物構造','区', \"railway\", \"駅名\", \"町\"]\n",
    "\n",
    "# クロスバリデーションのfoldを定義\n",
    "kf = KFold(n_splits=4, shuffle=True, random_state=71)\n",
    "train_and_test[categorical_feats_name] = train_and_test[categorical_feats_name].fillna(-1)\n",
    "# 変数をループしてtarget encoding\n",
    "for c in categorical_feats_name:\n",
    "\n",
    "    # targetを付加\n",
    "    data_tmp = pd.DataFrame({c: train_and_test[c], 'target': train_and_test[\"賃料\"]})\n",
    "    # 変換後の値を格納する配列を準備\n",
    "    tmp = np.repeat(np.nan, train_x.shape[0])\n",
    "\n",
    "    # 学習データからバリデーションデータを分ける\n",
    "    for i, (tr_idx, va_idx) in enumerate(kf.split(train_and_test)):\n",
    "        # 学習データについて、各カテゴリにおける目的変数の平均を計算\n",
    "        target_mean = data_tmp.iloc[tr_idx].groupby(c)['target'].mean()\n",
    "        # バリデーションデータについて、変換後の値を一時配列に格納\n",
    "        tmp[va_idx] = train_and_test[c].iloc[va_idx].map(target_mean)\n",
    "\n",
    "    # 変換後のデータで元の変数を置換\n",
    "    train_and_test[c+\"_賃料mean\"] = tmp"
   ]
  },
  {
   "cell_type": "code",
   "execution_count": null,
   "id": "1c453398",
   "metadata": {},
   "outputs": [],
   "source": [
    "train = train_and_test[train_and_test['賃料'].notnull()].copy().reset_index(drop=True)\n",
    "test = train_and_test[train_and_test['賃料'].isnull()].copy().reset_index(drop=True)\n",
    "del train_and_test\n",
    "\n",
    "train.to_csv(\"data/train_processed_add_geocoding_meshcode_crime_landprice_ladmark_log_groupby.csv\", index=False)\n",
    "test.to_csv(\"data/test_processed_add_geocoding_meshcode_crime_landprice_ladmark_log_groupby.csv\", index=False)\n",
    "\n",
    "gc.collect()"
   ]
  },
  {
   "cell_type": "code",
   "execution_count": null,
   "id": "a9b42968",
   "metadata": {},
   "outputs": [],
   "source": [
    "print(train.shape,test.shape)"
   ]
  },
  {
   "cell_type": "code",
   "execution_count": null,
   "id": "2d180318",
   "metadata": {},
   "outputs": [],
   "source": []
  }
 ],
 "metadata": {
  "kernelspec": {
   "display_name": "Python 3 (ipykernel)",
   "language": "python",
   "name": "python3"
  },
  "language_info": {
   "codemirror_mode": {
    "name": "ipython",
    "version": 3
   },
   "file_extension": ".py",
   "mimetype": "text/x-python",
   "name": "python",
   "nbconvert_exporter": "python",
   "pygments_lexer": "ipython3",
   "version": "3.8.13"
  }
 },
 "nbformat": 4,
 "nbformat_minor": 5
}
