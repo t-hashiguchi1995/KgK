{
 "cells": [
  {
   "cell_type": "code",
   "execution_count": null,
   "id": "f1b4e3ef",
   "metadata": {},
   "outputs": [],
   "source": [
    "import pandas as pd\n",
    "\n",
    "import tqdm\n",
    "from collections import defaultdict\n",
    "import re\n",
    "import matplotlib.pyplot as plt\n",
    "import numpy as np\n",
    "import gc\n",
    "import mojimoji\n",
    "import itertools\n",
    "\n",
    "import category_encoders as ce\n",
    "\n",
    "import matplotlib\n",
    "import japanize_matplotlib\n",
    "import seaborn as sns\n",
    "\n",
    "\n",
    "\n",
    "# 所在地→緯度経度\n",
    "import geocoder"
   ]
  },
  {
   "cell_type": "code",
   "execution_count": null,
   "id": "8ddd4b5c",
   "metadata": {},
   "outputs": [],
   "source": [
    "train = pd.read_csv(\"data/train.csv\")\n",
    "test = pd.read_csv(\"data/test.csv\")"
   ]
  },
  {
   "cell_type": "code",
   "execution_count": null,
   "id": "36f491d2",
   "metadata": {},
   "outputs": [],
   "source": [
    "train.head(3)"
   ]
  },
  {
   "cell_type": "code",
   "execution_count": null,
   "id": "5470b191",
   "metadata": {},
   "outputs": [],
   "source": [
    "test.head(3)"
   ]
  },
  {
   "cell_type": "code",
   "execution_count": null,
   "id": "bd5ada97",
   "metadata": {},
   "outputs": [],
   "source": [
    "# 件数確認\n",
    "train.shape, test.shape"
   ]
  },
  {
   "cell_type": "markdown",
   "id": "6b702522",
   "metadata": {},
   "source": [
    "# タイプミス修正"
   ]
  },
  {
   "cell_type": "code",
   "execution_count": null,
   "id": "f95a88bc",
   "metadata": {},
   "outputs": [],
   "source": [
    "train_fix = [\n",
    "    [3334, \"所在地\", \"東京都中央区晴海２丁目２－２－４２\", \"京都中央区晴海２丁目２－４２\"],\n",
    "    [7088, \"所在地\", \"東京都大田区池上８丁目8-6-2\", \"東京都大田区池上８丁目6-2\"],\n",
    "    [7491, \"面積\", \"5.83m2\", \"58.3m2\"],\n",
    "    [19363, \"所在地\", \"東京都大田区池上８丁目8-6-2\", \"東京都大田区池上８丁目6-2\"],\n",
    "    [20231, \"築年数\", \"520年5ヶ月\", \"20年5ヶ月\"],\n",
    "    [20427, \"築年数\", \"1019年7ヶ月\", \"19年7ヶ月\"],\n",
    "    [20926, \"面積\", \"430.1m2\", \"43.1m2\"],\n",
    "    [21285, \"所在地\", \"東京都北区西ケ原３丁目西ヶ原３丁目\", \"東京都北区西ケ原３丁目\"],\n",
    "    [22249, \"所在地\", \"東京都中央区晴海２丁目２－２－４２\", \"東京都中央区晴海２丁目２－４２\"],\n",
    "    [22883, \"所在地\", \"東京都新宿区下落合２丁目2-1-17\", \"東京都新宿区下落合２丁目1-17\"],\n",
    "    [27198, \"所在地\", \"東京都中央区晴海２丁目２－２－４２\", \"東京都中央区晴海２丁目２－４２\"],\n",
    "    [28140, \"所在地\", \"東京都北区西ケ原１丁目西ヶ原１丁目\", \"東京都北区西ケ原１丁目\"]\n",
    "]"
   ]
  },
  {
   "cell_type": "code",
   "execution_count": null,
   "id": "8e12e7bb",
   "metadata": {},
   "outputs": [],
   "source": [
    "for idx, col, prev, new in train_fix:\n",
    "    print(idx, col, train.loc[idx, col], \"->\", new)\n",
    "    train.loc[idx, col] = new"
   ]
  },
  {
   "cell_type": "code",
   "execution_count": null,
   "id": "6976e6c1",
   "metadata": {},
   "outputs": [],
   "source": [
    "train[\"賃料\"].plot.hist(bins=30)"
   ]
  },
  {
   "cell_type": "code",
   "execution_count": null,
   "id": "7a0c8d66",
   "metadata": {},
   "outputs": [],
   "source": [
    "train[\"賃料\"].plot.hist(bins=30, logy=True)"
   ]
  },
  {
   "cell_type": "code",
   "execution_count": null,
   "id": "e4422494",
   "metadata": {},
   "outputs": [],
   "source": []
  },
  {
   "cell_type": "code",
   "execution_count": null,
   "id": "7dfff8a6",
   "metadata": {},
   "outputs": [],
   "source": []
  },
  {
   "cell_type": "code",
   "execution_count": null,
   "id": "7eaf4f03",
   "metadata": {},
   "outputs": [],
   "source": [
    "# 件数確認\n",
    "train.shape, test.shape"
   ]
  },
  {
   "cell_type": "code",
   "execution_count": null,
   "id": "3ae53ce9",
   "metadata": {},
   "outputs": [],
   "source": []
  },
  {
   "cell_type": "markdown",
   "id": "f8db2dc1",
   "metadata": {},
   "source": [
    "# 前処理"
   ]
  },
  {
   "cell_type": "code",
   "execution_count": null,
   "id": "e8c4e8fa",
   "metadata": {},
   "outputs": [],
   "source": [
    "def parse_tab(text):\n",
    "    if text != text:\n",
    "        return set()\n",
    "    text = mojimoji.zen_to_han(text, kana=False)\n",
    "    text = text.replace(\"/\", \"\")\n",
    "    vals = set(text.split(\"\\t\"))\n",
    "    vals -= {\"\"}\n",
    "    return vals\n",
    "\n",
    "def encoding_tab(text, valset):\n",
    "    valset = np.array(valset)\n",
    "    vals = np.array(list(parse_tab(text)))\n",
    "    if len(vals) == 0:\n",
    "        return np.full(len(valset), 0, dtype=np.uint8)\n",
    "    return np.isin(valset, vals).astype(np.uint8)"
   ]
  },
  {
   "cell_type": "code",
   "execution_count": null,
   "id": "c38ac586",
   "metadata": {},
   "outputs": [],
   "source": [
    "train_and_test = pd.concat([train,test],axis=0)"
   ]
  },
  {
   "cell_type": "markdown",
   "id": "3e3bfcb5",
   "metadata": {},
   "source": [
    "# 所在地"
   ]
  },
  {
   "cell_type": "code",
   "execution_count": null,
   "id": "c214f04c",
   "metadata": {},
   "outputs": [],
   "source": [
    "def get_address(df):\n",
    "    location = df[\"所在地\"].str.replace(\"東京都\",\"\").str.split(\"区\", expand=True).rename(columns={0:\"区\", 1:\"番地\"})\n",
    "    # 元のデータと結合し、不要になった所在地と詳細住所を削除\n",
    "    df = pd.concat([df, location],axis=1)\n",
    "\n",
    "    # 区情報の数値化(label encoding)\n",
    "    labels, uniques = pd.factorize(df[\"区\"])\n",
    "    df[\"区\"] = labels\n",
    "    return df"
   ]
  },
  {
   "cell_type": "code",
   "execution_count": null,
   "id": "54872b4d",
   "metadata": {},
   "outputs": [],
   "source": [
    "train_tmp = get_address(train_and_test)\n",
    "train_tmp[[\"所在地\", \"区\", \"番地\"]]"
   ]
  },
  {
   "cell_type": "code",
   "execution_count": null,
   "id": "4b08944d",
   "metadata": {},
   "outputs": [],
   "source": []
  },
  {
   "cell_type": "markdown",
   "id": "fc37a3a4",
   "metadata": {},
   "source": [
    "# 築年数"
   ]
  },
  {
   "cell_type": "code",
   "execution_count": null,
   "id": "8efe9551",
   "metadata": {},
   "outputs": [],
   "source": [
    "def get_age_text(text):\n",
    "    if text == \"新築\":\n",
    "        return 0.0\n",
    "    try:\n",
    "        year_tmp = re.search(r\"\\d+年\", text)\n",
    "        month_tmp = re.search(r\"\\d+ヶ月\", text)\n",
    "    except:\n",
    "        return np.nan\n",
    "    if year_tmp:\n",
    "        year = int(year_tmp.group()[:-1])\n",
    "    else:\n",
    "        year = 0\n",
    "    if month_tmp:\n",
    "        month = int(month_tmp.group()[:-2])\n",
    "    else:\n",
    "        month = 0\n",
    "    return year + month / 12\n",
    "\n",
    "def get_age(df):\n",
    "    values = df[\"築年数\"].values\n",
    "    ages = []\n",
    "    for text in values:\n",
    "        ages.append(get_age_text(text))\n",
    "    if len(ages) != len(df):\n",
    "        return \"築年数error\"\n",
    "    df[\"age\"] = ages\n",
    "    df[\"age_round\"] = df[\"age\"].round()\n",
    "    \n",
    "    df = df.drop(\"築年数\", axis=1)\n",
    "    \n",
    "    return df"
   ]
  },
  {
   "cell_type": "code",
   "execution_count": null,
   "id": "6b7c52e4",
   "metadata": {},
   "outputs": [],
   "source": [
    "train_tmp = get_age(train_and_test)\n",
    "train_tmp[[\"age\"]]"
   ]
  },
  {
   "cell_type": "markdown",
   "id": "c6e101f0",
   "metadata": {},
   "source": [
    "# 所在階"
   ]
  },
  {
   "cell_type": "code",
   "execution_count": null,
   "id": "83488350",
   "metadata": {},
   "outputs": [],
   "source": [
    "def get_floor(df):\n",
    "    # NaN埋めし、「地下」を「-」に変換\n",
    "    df[\"所在階\"] = df[\"所在階\"].fillna(\"不明\").str.replace(\"地下\",\"-\")\n",
    "\n",
    "    # まずは「X」階／「Y」階建の表記になっているレコードを変換\n",
    "    train_and_test_match = df[df[\"所在階\"].str.match(\"[\\-0-9]+階／[\\-0-9]+階建\")].copy()\n",
    "    floors_match = train_and_test_match[\"所在階\"].str.extract(\"(?P<floor>[\\-0-9]+)階／(?P<all_floor>[\\-0-9]+)階建\")\n",
    "    train_and_test_match = pd.concat([train_and_test_match,floors_match],axis=1)\n",
    "\n",
    "    # 上の表記になっていない(すなわち、どちらかの情報が欠損している)レコードを抽出\n",
    "    train_and_test_unmatch = df[~df[\"所在階\"].str.match(\"[\\-0-9]+階／[\\-0-9]+階建\")].copy()\n",
    "\n",
    "    # 「Y」階建だけの表記になっているレコードを変換\n",
    "    train_and_test_unmatch_0 = train_and_test_unmatch[train_and_test_unmatch[\"所在階\"].str.contains(\"階建\")].copy()\n",
    "    floors_unmatch_0 = train_and_test_unmatch_0[\"所在階\"].str.extract(\"(?P<all_floor>[\\-0-9]+)階建\")\n",
    "    train_and_test_unmatch_0 = pd.concat([train_and_test_unmatch_0,floors_unmatch_0],axis=1)\n",
    "\n",
    "    # 「X」階だけの表記になっているレコードを変換\n",
    "    train_and_test_unmatch_1 = train_and_test_unmatch[~train_and_test_unmatch[\"所在階\"].str.contains(\"階建\")].copy()\n",
    "    floors_unmatch_1 = train_and_test_unmatch_1[\"所在階\"].str.extract(\"(?P<floor>[\\-0-9]+)階\")\n",
    "    train_and_test_unmatch_1 = pd.concat([train_and_test_unmatch_1,floors_unmatch_1],axis=1)\n",
    "\n",
    "    df = pd.concat([train_and_test_match,train_and_test_unmatch_0,train_and_test_unmatch_1],axis=0)\n",
    "    # 「X」階、「Y」階建どちらの情報もNaNになっているレコードは1つしかないはず。\n",
    "    # 2つ以上あると変換ミスが起きていることになるので、1つしかないことを確認\n",
    "    print(len(df[(df[\"floor\"].isnull())&(df[\"all_floor\"].isnull())]))\n",
    "\n",
    "    df = df.drop(\"所在階\", axis=1)\n",
    "\n",
    "    # 数値型に変換する。NaNが入っていると変換できないので、一度適当な値で埋めて変換する\n",
    "    df[\"floor\"] = df[\"floor\"].fillna(99999)\n",
    "    df[\"all_floor\"] = df[\"all_floor\"].fillna(99999)\n",
    "    df = df.astype({\"floor\":\"int16\",\"all_floor\":\"int16\"})\n",
    "    #「X」階 = floor の値が負になっているレコードを一律-1に設定\n",
    "    df.loc[df[\"floor\"]<0,\"floor\"] = -1\n",
    "    df.loc[df[\"all_floor\"]<0,\"all_floor\"] = -1\n",
    "    # 99999をNaNに戻す\n",
    "    df[\"floor\"] = df[\"floor\"].replace(99999,np.nan)\n",
    "    df[\"all_floor\"] = df[\"all_floor\"].replace(99999,np.nan)\n",
    "    \n",
    "    return df"
   ]
  },
  {
   "cell_type": "code",
   "execution_count": null,
   "id": "9be8618b",
   "metadata": {},
   "outputs": [],
   "source": [
    "train_tmp = get_floor(train_and_test)\n",
    "train_tmp[[\"floor\", \"all_floor\"]]"
   ]
  },
  {
   "cell_type": "code",
   "execution_count": null,
   "id": "daac7ea8",
   "metadata": {},
   "outputs": [],
   "source": []
  },
  {
   "cell_type": "markdown",
   "id": "b8c21064",
   "metadata": {},
   "source": [
    "# 契約期間"
   ]
  },
  {
   "cell_type": "code",
   "execution_count": null,
   "id": "3217f8e0",
   "metadata": {},
   "outputs": [],
   "source": [
    "def get_contr(df):\n",
    "    # NaNがあると動かない処理が多くあるので、最初にNaNを適当な値で埋める\n",
    "    df[\"契約期間\"] = df[\"契約期間\"].fillna(\"不明\")\n",
    "\n",
    "    # 定期借家か否かのフラグ (True/Falseで出てくるので1/0に変換)\n",
    "    df[\"定期借家フラグ\"] = df[\"契約期間\"].str.contains(\"定期借家\").map({False:0,True:1})\n",
    "\n",
    "    # まずは「X」年「Yヶ月」間 表記になっているレコードのX, Yを抽出\n",
    "    train_and_test_keiyaku1 = df[df[\"契約期間\"].str.match(\"[0-9]+年[0-9+]ヶ月間\")].copy()\n",
    "    keiyaku_year_month = train_and_test_keiyaku1[\"契約期間\"].str.extract(\"(?P<契約_year>[0-9]+)年(?P<契約_month>[0-9]+)ヶ月間\")\n",
    "    keiyaku_year_month = keiyaku_year_month.astype({\"契約_year\":\"int8\",\"契約_month\":\"int8\"})\n",
    "    # 月を年に換算して合算\n",
    "    keiyaku_year_month[\"keiyaku_length\"] = keiyaku_year_month[\"契約_year\"]+(keiyaku_year_month[\"契約_month\"]/12.0)\n",
    "    # 元のデータフレームのidと結合(idはマージ用)\n",
    "    train_and_test_keiyaku1 = pd.concat([train_and_test_keiyaku1[[\"id\"]],keiyaku_year_month[[\"keiyaku_length\"]]],axis=1)\n",
    "\n",
    "    # 「X」年「Yヶ月」間 表記になっておらず、かつ「A年B月まで」表記にもなっていないレコードを抽出\n",
    "    train_and_test_keiyaku2 = df[(~df[\"契約期間\"].str.match(\"[0-9]+年[0-9+]ヶ月間\"))&(~df[\"契約期間\"].str.contains(\"まで\"))].copy()\n",
    "\n",
    "    # 「X」年間 表記になっているレコードを変換\n",
    "    train_and_test_keiyaku2_year = train_and_test_keiyaku2[train_and_test_keiyaku2[\"契約期間\"].str.match(\"[0-9]+年間\")].copy()\n",
    "    keiyaku_year = train_and_test_keiyaku2_year[\"契約期間\"].str.extract(\"(?P<keiyaku_length>[0-9]+)年間\")\n",
    "    keiyaku_year = keiyaku_year.astype({\"keiyaku_length\":\"int8\"})\n",
    "    train_and_test_keiyaku2_year = pd.concat([train_and_test_keiyaku2_year[[\"id\"]],keiyaku_year],axis=1)\n",
    "    # 「Y」ヶ月間 表記になっているレコードを変換\n",
    "    train_and_test_keiyaku2_month = train_and_test_keiyaku2[train_and_test_keiyaku2[\"契約期間\"].str.match(\"[0-9]+ヶ月間\")].copy()\n",
    "    keiyaku_month = train_and_test_keiyaku2_month[\"契約期間\"].str.extract(\"(?P<keiyaku_length>[0-9]+)ヶ月間\")\n",
    "    keiyaku_month = keiyaku_month.astype({\"keiyaku_length\":\"float32\"})\n",
    "    # 月を年に換算\n",
    "    keiyaku_month[\"keiyaku_length\"] /= 12.0\n",
    "    train_and_test_keiyaku2_month = pd.concat([train_and_test_keiyaku2_month[[\"id\"]],keiyaku_month],axis=1)\n",
    "\n",
    "    # 「A年B月まで」表記にもなっているレコードを抽出 & 変換\n",
    "    train_and_test_keiyaku3 = df[df[\"契約期間\"].str.contains(\"まで\")].copy()\n",
    "    keiyaku_until = train_and_test_keiyaku3[\"契約期間\"].str.extract(\"(?P<年>[0-9]+)年(?P<月>[0-9]+)月まで\")\n",
    "    keiyaku_until = keiyaku_until.astype({\"年\":\"int16\",\"月\":\"int8\"})\n",
    "    # 2019年8月を起点に引き算した後に年換算\n",
    "    keiyaku_until[\"keiyaku_length\"] = ((keiyaku_until[\"年\"]-2019)*12+(keiyaku_until[\"月\"]-8))/12.0\n",
    "    train_and_test_keiyaku3 = pd.concat([train_and_test_keiyaku3[[\"id\"]],keiyaku_until[[\"keiyaku_length\"]]],axis=1)\n",
    "\n",
    "    # 加工したデータフレームを結合\n",
    "    train_and_test_keiyaku = pd.concat([train_and_test_keiyaku1,train_and_test_keiyaku2_year,train_and_test_keiyaku2_month,train_and_test_keiyaku3],axis=0)\n",
    "    # 元のデータフレームにマージ\n",
    "    df = df.merge(train_and_test_keiyaku,on=\"id\",how=\"left\")\n",
    "    df = df.drop(\"契約期間\", axis=1)\n",
    "    \n",
    "    return df"
   ]
  },
  {
   "cell_type": "code",
   "execution_count": null,
   "id": "2c09e20a",
   "metadata": {},
   "outputs": [],
   "source": [
    "train_tmp = get_contr(train_and_test)\n",
    "train_tmp[[\"keiyaku_length\", \"定期借家フラグ\"]]"
   ]
  },
  {
   "cell_type": "code",
   "execution_count": null,
   "id": "aa5d6479",
   "metadata": {},
   "outputs": [],
   "source": []
  },
  {
   "cell_type": "code",
   "execution_count": null,
   "id": "cb1c38f8",
   "metadata": {},
   "outputs": [],
   "source": []
  },
  {
   "cell_type": "markdown",
   "id": "cd10cf58",
   "metadata": {},
   "source": [
    "# 間取り"
   ]
  },
  {
   "cell_type": "code",
   "execution_count": null,
   "id": "ded332a9",
   "metadata": {},
   "outputs": [],
   "source": [
    "def get_plan(df):\n",
    "    # ↑で確認した限り、必ず1文字目が部屋数なので1文字目を取得\n",
    "    df[\"部屋数\"] = df[\"間取り\"].map(lambda x:int(x[0]))\n",
    "\n",
    "    # K, D, L, Sのあるなしを取得\n",
    "    df[\"K有無\"] = df[\"間取り\"].str.contains(\"K\").astype(int)\n",
    "    df[\"D有無\"] = df[\"間取り\"].str.contains(\"D\").astype(int)\n",
    "    df[\"L有無\"] = df[\"間取り\"].str.contains(\"L\").astype(int)\n",
    "    df[\"S有無\"] = df[\"間取り\"].str.contains(\"S\").astype(int)\n",
    "    df = df.drop(\"間取り\", axis=1)\n",
    "\n",
    "    return df"
   ]
  },
  {
   "cell_type": "code",
   "execution_count": null,
   "id": "69a681e4",
   "metadata": {},
   "outputs": [],
   "source": [
    "train_tmp = get_plan(train_and_test)\n",
    "train_tmp[[\"部屋数\", \"K有無\", \"D有無\", \"L有無\", \"S有無\"]]"
   ]
  },
  {
   "cell_type": "code",
   "execution_count": null,
   "id": "6fc873ec",
   "metadata": {},
   "outputs": [],
   "source": []
  },
  {
   "cell_type": "markdown",
   "id": "036b54ef",
   "metadata": {},
   "source": [
    "# 駐輪場、駐車場"
   ]
  },
  {
   "cell_type": "code",
   "execution_count": null,
   "id": "29189005",
   "metadata": {},
   "outputs": [],
   "source": [
    "def parse_park(text):\n",
    "    #無し→評価低、あり→普通、料金つき→優先度たかめ、料金入れるのはないデータもあるから微妙？\n",
    "    if text != text:\n",
    "        return np.full(3, 0, dtype=np.uint8)\n",
    "    text = mojimoji.zen_to_han(text, kana=False)\n",
    "    text = text.replace(\"\\t\", \"\")\n",
    "    keys = re.findall(r\"駐輪場|バイク置き場|駐車場\", text)\n",
    "    vals = re.split(r\"駐輪場|バイク置き場|駐車場\", text)[1:]\n",
    "    result = np.zeros(3, dtype=np.uint8)\n",
    "    columns = [\"駐輪場\", \"バイク置き場\", \"駐車場\"]\n",
    "    for i, v in enumerate(vals):\n",
    "        if \"無\" in v:\n",
    "            result[columns.index(keys[i])] = 0\n",
    "        else:\n",
    "            price = re.search(r\"\\d+円\", v)\n",
    "            if price:\n",
    "                result[columns.index(keys[i])] = 2\n",
    "#                 result[key.index(keys[i])] = price\n",
    "            elif \"空有\" in v:\n",
    "                result[columns.index(keys[i])] = 1\n",
    "    return result\n",
    "\n",
    "\n",
    "def get_park(df):\n",
    "    vals = df[\"駐車場\"].values\n",
    "    df_tmp = []\n",
    "    for i, val in enumerate(vals):\n",
    "        df_tmp.append(parse_park(val))\n",
    "    df_tmp = pd.DataFrame(df_tmp, index=df.index,\n",
    "                          columns=[\"park_bike\", \"park_motor\", \"park_car\"])\n",
    "    df = pd.concat([df, df_tmp], axis=1)\n",
    "    df = df.drop(\"駐車場\", axis=1)\n",
    "    return df"
   ]
  },
  {
   "cell_type": "code",
   "execution_count": null,
   "id": "41001072",
   "metadata": {},
   "outputs": [],
   "source": [
    "train_tmp = get_park(train_and_test)\n",
    "train_tmp[[\"park_bike\", \"park_motor\", \"park_car\"]]"
   ]
  },
  {
   "cell_type": "code",
   "execution_count": null,
   "id": "378cdb6d",
   "metadata": {},
   "outputs": [],
   "source": []
  },
  {
   "cell_type": "markdown",
   "id": "f373848d",
   "metadata": {},
   "source": [
    "# 面積"
   ]
  },
  {
   "cell_type": "code",
   "execution_count": null,
   "id": "d0b57bbc",
   "metadata": {},
   "outputs": [],
   "source": [
    "def get_area(df):\n",
    "    df[\"area\"] = df[\"面積\"].str.replace(\"m2\", \"\").astype(float)\n",
    "    df[\"area_round\"] = df[\"area\"].round()\n",
    "    df = df.drop(\"面積\", axis=1)\n",
    "    return df"
   ]
  },
  {
   "cell_type": "markdown",
   "id": "6b979b03",
   "metadata": {},
   "source": [
    "# 風呂・トイレ"
   ]
  },
  {
   "cell_type": "code",
   "execution_count": null,
   "id": "149911d4",
   "metadata": {},
   "outputs": [],
   "source": [
    "def get_bus_toilet(df):\n",
    "    columns = [\"トイレなし\", \"共同トイレ\", \"専用バス\", \"脱衣所\", \"バス・トイレ別\",\n",
    "              \"専用トイレ\", \"シャワー\", \"洗面台独立\", \"共同バス\", \"浴室乾燥機\",\n",
    "              \"追焚機能\", \"温水洗浄便座\", \"バスなし\"]\n",
    "    vals = df[\"バス・トイレ\"].values\n",
    "    df_tmp = []\n",
    "    for i, val in enumerate(vals):\n",
    "        df_tmp.append(encoding_tab(val, columns))\n",
    "    df_tmp = pd.DataFrame(df_tmp, index=df.index, columns=columns)\n",
    "    df = pd.concat([df, df_tmp], axis=1)\n",
    "    df = df.drop(\"バス・トイレ\", axis=1)\n",
    "    \n",
    "    return df"
   ]
  },
  {
   "cell_type": "markdown",
   "id": "8d2f960e",
   "metadata": {},
   "source": [
    "# 周辺環境"
   ]
  },
  {
   "cell_type": "code",
   "execution_count": null,
   "id": "83a69df0",
   "metadata": {},
   "outputs": [],
   "source": [
    "def encode_env(text, valset):\n",
    "    # 近いほどいいので、適当にでかい値を入れておく\n",
    "    items = parse_tab(text)\n",
    "    if len(items) == 0:\n",
    "        return np.full(len(valset), 99999)\n",
    "    dists = np.full(len(valset), 99999)\n",
    "    for item in items:\n",
    "        place = re.search(r\"【.{1,9}】\", item).group()\n",
    "        idx = valset.index(place)\n",
    "        dist = int(re.search(r\"\\d+\", item).group())\n",
    "        if dist < dists[idx]:\n",
    "            dists[idx] = dist\n",
    "    return dists\n",
    "\n",
    "def get_env(df):\n",
    "    columns = [\"【銀行】\", \"【コンビニ】\", \"【小学校】\", \"【総合病院】\", \"【大学】\",\n",
    "              \"【図書館】\", \"【デパート】\", \"【公園】\", \"【幼稚園・保育園】\",\n",
    "              \"【コインパーキング】\", \"【クリーニング】\", \"【レンタルビデオ】\",\n",
    "              \"【学校】\", \"【ドラッグストア】\", \"【月極駐車場】\", \"【スーパー】\",\n",
    "              \"【病院】\", \"【飲食店】\", \"【郵便局】\"]\n",
    "    vals = df[\"周辺環境\"].values\n",
    "    df_tmp = []\n",
    "    for i, val in enumerate(vals):\n",
    "        df_tmp.append(encode_env(val, columns))\n",
    "    df_tmp = pd.DataFrame(df_tmp, index=df.index, columns=columns)\n",
    "    df = pd.concat([df, df_tmp], axis=1)\n",
    "    df = df.drop(\"周辺環境\", axis=1)\n",
    "    \n",
    "    return df"
   ]
  },
  {
   "cell_type": "code",
   "execution_count": null,
   "id": "01186324",
   "metadata": {},
   "outputs": [],
   "source": [
    "val = [\"【デパート】\",\n",
    "       \"【総合病院】\",\n",
    "       \"【図書館】\",\n",
    "       \"【コンビニ】\",\n",
    "       \"【公園】\",\n",
    "       \"【ドラッグストア】\",\n",
    "       \"【銀行】\",\n",
    "       \"【月極駐車場】\",\n",
    "       \"【大学】\",\n",
    "       \"【クリーニング】\",\n",
    "       \"【幼稚園・保育園】\",\n",
    "       \"【レンタルビデオ】\",\n",
    "       \"【スーパー】\",\n",
    "       \"【学校】\",\n",
    "       \"【小学校】\",\n",
    "       \"【コインパーキング】\",\n",
    "       \"【病院】\",\n",
    "       \"【飲食店】\",\n",
    "       \"【郵便局】\",\n",
    "      ]\n",
    "train_tmp = get_env(train_and_test)\n",
    "train_tmp[val]"
   ]
  },
  {
   "cell_type": "code",
   "execution_count": null,
   "id": "ebda7da6",
   "metadata": {},
   "outputs": [],
   "source": []
  },
  {
   "cell_type": "markdown",
   "id": "550625a8",
   "metadata": {},
   "source": [
    "# 室内設備"
   ]
  },
  {
   "cell_type": "code",
   "execution_count": null,
   "id": "dcaf9449",
   "metadata": {},
   "outputs": [],
   "source": [
    "def get_interior(df):\n",
    "    columns = [\"バルコニー\", \"井戸\", \"ルーフバルコニー\", \"ガス暖房\", \"室内洗濯機置場\",\n",
    "              \"汲み取り\", \"シューズボックス\", \"エレベーター\", \"室外洗濯機置場\", \"エアコン付\",\n",
    "              \"バリアフリー\", \"プロパンガス\", \"浄化槽\", \"床暖房\", \"ロフト付き\", \"フローリング\",\n",
    "              \"専用庭\", \"石油暖房\", \"3面採光\", \"クッションフロア\", \"公営水道\", \"ガスその他\",\n",
    "              \"出窓\", \"冷房\", \"水道その他\", \"防音室\", \"都市ガス\", \"下水\", \"オール電化\",\n",
    "              \"二世帯住宅\", \"ウォークインクローゼット\", \"敷地内ごみ置き場\", \"トランクルーム\",\n",
    "              \"24時間換気システム\", \"排水その他\", \"タイル張り\", \"2面採光\", \"二重サッシ\",\n",
    "              \"床下収納\", \"地下室\", \"洗濯機置場なし\", \"ペアガラス\"]\n",
    "    vals = df[\"室内設備\"].values\n",
    "    df_tmp = []\n",
    "    for i, val in enumerate(vals):\n",
    "        df_tmp.append(encoding_tab(val, columns))\n",
    "    df_tmp = pd.DataFrame(df_tmp, index=df.index, columns=columns)\n",
    "    df = pd.concat([df, df_tmp], axis=1)\n",
    "    df = df.drop(\"室内設備\", axis=1)\n",
    "    \n",
    "    return df"
   ]
  },
  {
   "cell_type": "code",
   "execution_count": null,
   "id": "5d983275",
   "metadata": {},
   "outputs": [],
   "source": [
    "val = [\"出窓\",\n",
    " \"水道その他\",\n",
    " \"専用庭\",\n",
    " \"下水\",\n",
    " \"シューズボックス\",\n",
    " \"排水その他\",\n",
    " \"室外洗濯機置場\",\n",
    " \"クッションフロア\",\n",
    " \"二重サッシ\",\n",
    " \"バルコニー\",\n",
    " \"エレベーター\",\n",
    " \"敷地内ごみ置き場\",\n",
    " \"床下収納\",\n",
    " \"二世帯住宅\",\n",
    " \"室内洗濯機置場\",\n",
    " \"床暖房\",\n",
    " \"2面採光\",\n",
    " \"ルーフバルコニー\",\n",
    " \"公営水道\",\n",
    " \"井戸\",\n",
    " \"24時間換気システム\",\n",
    " \"ガス暖房\",\n",
    " \"浄化槽\",\n",
    " \"バリアフリー\",\n",
    " \"フローリング\",\n",
    " \"ペアガラス\",\n",
    " \"ガスその他\",\n",
    " \"洗濯機置場なし\",\n",
    " \"エアコン付\",\n",
    " \"防音室\",\n",
    " \"ウォークインクローゼット\",\n",
    " \"オール電化\",\n",
    " \"汲み取り\",\n",
    " \"プロパンガス\",\n",
    " \"石油暖房\",\n",
    " \"3面採光\",\n",
    " \"ロフト付き\",\n",
    " \"地下室\",\n",
    " \"トランクルーム\",\n",
    " \"冷房\",\n",
    " \"都市ガス\",\n",
    " \"タイル張り\"\n",
    "      ]\n",
    "\n",
    "train_tmp = get_interior(train_and_test)\n",
    "train_tmp[val]"
   ]
  },
  {
   "cell_type": "code",
   "execution_count": null,
   "id": "a07531d3",
   "metadata": {},
   "outputs": [],
   "source": [
    "def get_kitchen(df):\n",
    "    columns = [\"ガスコンロ\", \"冷蔵庫あり\", \"コンロ設置可(コンロ4口以上)\", \"カウンターキッチン\",\n",
    "              \"IHコンロ\", \"コンロ設置可(コンロ1口)\", \"コンロ設置可(コンロ3口)\", \"コンロ3口\",\n",
    "              \"電気コンロ\", \"コンロ設置可(口数不明)\", \"L字キッチン\", \"独立キッチン\", \"給湯\",\n",
    "              \"コンロ4口以上\", \"コンロ2口\", \"システムキッチン\", \"コンロ1口\", \"コンロ設置可(コンロ2口)\"]\n",
    "    vals = df[\"キッチン\"].values\n",
    "    df_tmp = []\n",
    "    for i, val in enumerate(vals):\n",
    "        df_tmp.append(encoding_tab(val, columns))\n",
    "    df_tmp = pd.DataFrame(df_tmp, index=df.index, columns=columns)\n",
    "    df = pd.concat([df, df_tmp], axis=1)\n",
    "    df = df.drop(\"キッチン\", axis=1)\n",
    "\n",
    "    return df"
   ]
  },
  {
   "cell_type": "code",
   "execution_count": null,
   "id": "ecb5b65d",
   "metadata": {},
   "outputs": [],
   "source": [
    "val = [\"ガスコンロ\", \"冷蔵庫あり\", \"コンロ設置可(コンロ4口以上)\", \"カウンターキッチン\",\n",
    "              \"IHコンロ\", \"コンロ設置可(コンロ1口)\", \"コンロ設置可(コンロ3口)\", \"コンロ3口\",\n",
    "              \"電気コンロ\", \"コンロ設置可(口数不明)\", \"L字キッチン\", \"独立キッチン\", \"給湯\",\n",
    "              \"コンロ4口以上\", \"コンロ2口\", \"システムキッチン\", \"コンロ1口\", \"コンロ設置可(コンロ2口)\"]"
   ]
  },
  {
   "cell_type": "code",
   "execution_count": null,
   "id": "7ea68a0b",
   "metadata": {},
   "outputs": [],
   "source": [
    "train_tmp = get_kitchen(train_and_test)\n",
    "train_tmp[val]"
   ]
  },
  {
   "cell_type": "code",
   "execution_count": null,
   "id": "165d4bb5",
   "metadata": {},
   "outputs": [],
   "source": [
    "def get_tv(df):\n",
    "    columns = [\"BSアンテナ\", \"光ファイバー\", \"CSアンテナ\", \"高速インターネット\", \"CATV\",\n",
    "              \"有線放送\", \"インターネット対応\", \"インターネット使用料無料\"]\n",
    "    vals = df[\"放送・通信\"].values\n",
    "    df_tmp = []\n",
    "    for i, val in enumerate(vals):\n",
    "        df_tmp.append(encoding_tab(val, columns))\n",
    "    df_tmp = pd.DataFrame(df_tmp, index=df.index, columns=columns)\n",
    "    df = pd.concat([df, df_tmp], axis=1)\n",
    "    df = df.drop(\"放送・通信\", axis=1)\n",
    "    \n",
    "    return df"
   ]
  },
  {
   "cell_type": "code",
   "execution_count": null,
   "id": "54c67909",
   "metadata": {},
   "outputs": [],
   "source": [
    "val = [\"BSアンテナ\", \"光ファイバー\", \"CSアンテナ\", \"高速インターネット\", \"CATV\",\n",
    "              \"有線放送\", \"インターネット対応\", \"インターネット使用料無料\"]"
   ]
  },
  {
   "cell_type": "code",
   "execution_count": null,
   "id": "e890af6e",
   "metadata": {},
   "outputs": [],
   "source": [
    "train_tmp = get_tv(train_and_test)\n",
    "train_tmp[val]"
   ]
  },
  {
   "cell_type": "code",
   "execution_count": null,
   "id": "2b32bc01",
   "metadata": {},
   "outputs": [],
   "source": [
    "def get_label(df, label):\n",
    "    labels, uniques = pd.factorize(df[label])\n",
    "    df[label] = labels\n",
    "    return df"
   ]
  },
  {
   "cell_type": "code",
   "execution_count": null,
   "id": "e82010b0",
   "metadata": {},
   "outputs": [],
   "source": [
    "def get_access(df):\n",
    "    mottime = df[\"アクセス\"].str.split(\"\\t\", expand=True).iloc[:,2:12:4]\n",
    "    mottime1 = mottime[2].str.extract(\"徒歩(?P<徒歩_time1>[0-9]+)分\")\n",
    "    mottime2 = mottime[6].str.extract(\"徒歩(?P<徒歩_time2>[0-9]+)分\")\n",
    "    mottime3 = mottime[10].str.extract(\"徒歩(?P<徒歩_time3>[0-9]+)分\")\n",
    "    mottime = pd.concat([mottime1, mottime2, mottime3],axis=1).fillna(0)\n",
    "    \n",
    "    railway = pd.DataFrame(df[\"アクセス\"].str.split(\"\\t\", expand=True)[0])\n",
    "    railway.columns = [\"railway\"]\n",
    "\n",
    "    count_encoder = ce.CountEncoder(cols=[\"railway\"])\n",
    "    railway = count_encoder.fit_transform(railway)\n",
    "    \n",
    "    df = pd.concat([df, mottime, railway], axis=1)\n",
    "#     df = df.drop(\"アクセス\", axis=1)\n",
    "    return df"
   ]
  },
  {
   "cell_type": "code",
   "execution_count": null,
   "id": "cf60446e",
   "metadata": {},
   "outputs": [],
   "source": [
    "train_and_test[\"アクセス\"].str.split(\"\\t\", expand=True).iloc[:,2:12:4]"
   ]
  },
  {
   "cell_type": "code",
   "execution_count": null,
   "id": "034b0f82",
   "metadata": {},
   "outputs": [],
   "source": [
    "train_tmp = get_access(train_and_test)\n",
    "train_tmp"
   ]
  },
  {
   "cell_type": "code",
   "execution_count": null,
   "id": "d4a2f46c",
   "metadata": {},
   "outputs": [],
   "source": []
  },
  {
   "cell_type": "code",
   "execution_count": null,
   "id": "07227301",
   "metadata": {},
   "outputs": [],
   "source": [
    "def preprocess(df, drop_column=False):\n",
    "    \"\"\"\n",
    "    特徴量を追加したり数値の形にする\n",
    "    \"\"\"\n",
    "    print(f\"start:{df.shape}\")\n",
    "    \n",
    "    # 所在地\n",
    "    df = get_address(df)\n",
    "    print(f\"所在地：{df.shape}\")\n",
    "    \n",
    "    # 築年数\n",
    "    df = get_age(df)\n",
    "    print(f\"築年数：{df.shape}\")\n",
    "    \n",
    "    # 面積\n",
    "    df = get_area(df)\n",
    "    print(f\"面積：{df.shape}\")\n",
    "    \n",
    "    # バス・トイレ\n",
    "    df = get_bus_toilet(df)\n",
    "    print(f\"バス・トイレ：{df.shape}\")\n",
    "    \n",
    "    # 駐車場\n",
    "    df = get_park(df)\n",
    "    print(f\"駐車場：{df.shape}\")\n",
    "    \n",
    "    # 間取り\n",
    "    df = get_plan(df)\n",
    "    print(f\"間取り：{df.shape}\")\n",
    "    \n",
    "    # 契約期間\n",
    "    df = get_contr(df)\n",
    "    print(f\"契約期間：{df.shape}\")\n",
    "    \n",
    "    # 所在階\n",
    "    df = get_floor(df)\n",
    "    print(f\"所在階：{df.shape}\")\n",
    "    \n",
    "    # 周辺環境\n",
    "    df = get_env(df)\n",
    "    print(f\"周辺環境：{df.shape}\")\n",
    "    \n",
    "    # 室内設備\n",
    "    df = get_interior(df)\n",
    "    print(f\"室内設備：{df.shape}\")\n",
    "    \n",
    "    # キッチン\n",
    "    df = get_kitchen(df)\n",
    "    print(f\"キッチン：{df.shape}\")\n",
    "    \n",
    "    # TV\n",
    "    df = get_tv(df)\n",
    "    print(f\"TV：{df.shape}\")\n",
    "    \n",
    "    # アクセス\n",
    "    df = get_access(df)\n",
    "    print(f\"アクセス：{df.shape}\")\n",
    "    \n",
    "    # 方角、建物構造\n",
    "    df = get_label(df, \"方角\")\n",
    "    print(f\"方角：{df.shape}\")\n",
    "    df = get_label(df, \"建物構造\")\n",
    "    print(f\"建物構造：{df.shape}\")\n",
    "    \n",
    "    return df"
   ]
  },
  {
   "cell_type": "code",
   "execution_count": null,
   "id": "0ee900bc",
   "metadata": {},
   "outputs": [],
   "source": [
    "train_and_test = preprocess(train_and_test)"
   ]
  },
  {
   "cell_type": "code",
   "execution_count": null,
   "id": "b8f1508c",
   "metadata": {},
   "outputs": [],
   "source": [
    "train = train_and_test[train_and_test[\"賃料\"].notnull()].copy().reset_index(drop=True)\n",
    "test = train_and_test[train_and_test[\"賃料\"].isnull()].copy().reset_index(drop=True)\n",
    "\n",
    "print(train.shape,test.shape)"
   ]
  },
  {
   "cell_type": "code",
   "execution_count": null,
   "id": "90ff40ed",
   "metadata": {},
   "outputs": [],
   "source": [
    "train.to_csv(\"data/train_processed.csv\", index=False)\n",
    "test.to_csv(\"data/test_processed.csv\", index=False)"
   ]
  },
  {
   "cell_type": "markdown",
   "id": "ef6ec228",
   "metadata": {},
   "source": [
    "# 四則演算特徴量作成"
   ]
  },
  {
   "cell_type": "code",
   "execution_count": null,
   "id": "207fb3ea",
   "metadata": {},
   "outputs": [],
   "source": [
    "cols = train_and_test.columns\n",
    "cols = [\n",
    "    \"age\",\n",
    "    \"age_round\",\n",
    "    \"部屋数\",\n",
    "    \"area\",\n",
    "    \"area_round\",\n",
    "    \"keiyaku_length\",\n",
    "    \"floor\",\n",
    "    \"all_floor\",\n",
    "]"
   ]
  },
  {
   "cell_type": "code",
   "execution_count": null,
   "id": "a30df42c",
   "metadata": {},
   "outputs": [],
   "source": [
    "def add_sub_mul_div(df, col1, col2):\n",
    "    df[f\"{col1}+{col2}\"] = df[col1] + df[col2]\n",
    "    df[f\"{col1}-{col2}\"] = df[col1] - df[col2]\n",
    "    df[f\"{col1}*{col2}\"] = df[col1] * df[col2]\n",
    "    df[f\"{col1}/{col2}\"] = df[col1] / df[col2]\n",
    "    return df"
   ]
  },
  {
   "cell_type": "code",
   "execution_count": null,
   "id": "ac411507",
   "metadata": {},
   "outputs": [],
   "source": [
    "for c in itertools.combinations(cols, 2):\n",
    "    col1, col2 = list(c)\n",
    "    train_and_test = add_sub_mul_div(train_and_test, col1, col2)"
   ]
  },
  {
   "cell_type": "markdown",
   "id": "3ba8bd61",
   "metadata": {},
   "source": [
    "# Groupby特徴量作成"
   ]
  },
  {
   "cell_type": "code",
   "execution_count": null,
   "id": "24cb7cc2",
   "metadata": {},
   "outputs": [],
   "source": [
    "cols = train_and_test.columns\n",
    "cols = [\n",
    "    \"方角\",\n",
    "    \"建物構造\",\n",
    "    \"age_round\",\n",
    "    \"区\",\n",
    "    \"area_round\",\n",
    "    \"keiyaku_length\",\n",
    "    \"floor\",\n",
    "    \"徒歩_time1\",\n",
    "]"
   ]
  },
  {
   "cell_type": "code",
   "execution_count": null,
   "id": "5d18e2f1",
   "metadata": {},
   "outputs": [],
   "source": [
    "def make_groupby_from(df, groupby_col, agg_func):\n",
    "    groupby_df = df.groupby(groupby_col).agg({\"賃料\":agg_func}).reset_index().fillna(0)\n",
    "    agg_func_column = [f\"{agg}_{\"&\".join(groupby_col)}\" for agg in agg_func]\n",
    "    groupby_df.columns = groupby_col + agg_func_column\n",
    "    return groupby_df"
   ]
  },
  {
   "cell_type": "code",
   "execution_count": null,
   "id": "83733f2a",
   "metadata": {},
   "outputs": [],
   "source": [
    "agg_func = [\"mean\", \"median\", \"min\", \"max\", \"std\"]\n",
    "\n",
    "for c in itertools.combinations(cols, 1):\n",
    "    groupby_col = list(c)\n",
    "    groupby_df = make_groupby_from(train_and_test, groupby_col, agg_func)\n",
    "    groupby_df[f\"max-min_{\"&\".join(groupby_col)}\"] = groupby_df[f\"max_{\"&\".join(groupby_col)}\"] - groupby_df[f\"min_{\"&\".join(groupby_col)}\"]\n",
    "    train_and_test = pd.merge(train_and_test, groupby_df, on=groupby_col, how=\"left\")\n",
    "print(\"----------------1 done----------------\")\n",
    "# for c in itertools.combinations(cols, 2):\n",
    "#     groupby_col = list(c)\n",
    "#     groupby_df = make_groupby_from(train_and_test, groupby_col, agg_func)\n",
    "#     groupby_df[f\"max-min_{\"&\".join(groupby_col)}\"] = groupby_df[f\"max_{\"&\".join(groupby_col)}\"] - groupby_df[f\"min_{\"&\".join(groupby_col)}\"]\n",
    "#     train_and_test = pd.merge(train_and_test, groupby_df, on=groupby_col, how=\"left\")\n",
    "# print(\"----------------2 done----------------\")\n",
    "# for c in itertools.combinations(cols, 3):\n",
    "#     groupby_col = list(c)\n",
    "#     groupby_df = make_groupby_from(train_and_test, groupby_col, agg_func)\n",
    "#     groupby_df[f\"max-min_{\"&\".join(groupby_col)}\"] = groupby_df[f\"max_{\"&\".join(groupby_col)}\"] - groupby_df[f\"min_{\"&\".join(groupby_col)}\"]\n",
    "#     train_and_test = pd.merge(train_and_test, groupby_df, on=groupby_col, how=\"left\")\n",
    "# print(\"----------------3 done----------------\")"
   ]
  },
  {
   "cell_type": "code",
   "execution_count": null,
   "id": "2500acd6",
   "metadata": {},
   "outputs": [],
   "source": [
    "train = train_and_test[train_and_test[\"賃料\"].notnull()].copy().reset_index(drop=True)\n",
    "test = train_and_test[train_and_test[\"賃料\"].isnull()].copy().reset_index(drop=True)\n",
    "del train_and_test\n",
    "\n",
    "train.to_csv(\"data/train_processed_add_groupby.csv\", index=False)\n",
    "test.to_csv(\"data/test_processed_add_groupby.csv\", index=False)\n",
    "\n",
    "gc.collect()"
   ]
  },
  {
   "cell_type": "code",
   "execution_count": null,
   "id": "99f5b41c",
   "metadata": {},
   "outputs": [],
   "source": [
    "print(train.shape,test.shape)"
   ]
  },
  {
   "cell_type": "code",
   "execution_count": null,
   "id": "29edcfb2",
   "metadata": {},
   "outputs": [],
   "source": []
  }
 ],
 "metadata": {
  "kernelspec": {
   "display_name": "Python 3 (ipykernel)",
   "language": "python",
   "name": "python3"
  },
  "language_info": {
   "codemirror_mode": {
    "name": "ipython",
    "version": 3
   },
   "file_extension": ".py",
   "mimetype": "text/x-python",
   "name": "python",
   "nbconvert_exporter": "python",
   "pygments_lexer": "ipython3",
   "version": "3.8.13"
  }
 },
 "nbformat": 4,
 "nbformat_minor": 5
}
