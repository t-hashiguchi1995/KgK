{
 "cells": [
  {
   "cell_type": "code",
   "execution_count": null,
   "id": "f63feaa7",
   "metadata": {},
   "outputs": [],
   "source": [
    "import pandas as pd"
   ]
  },
  {
   "cell_type": "code",
   "execution_count": null,
   "id": "e7b07000",
   "metadata": {},
   "outputs": [],
   "source": [
    "submission = pd.read_csv(\"submission_log/submission_lgbm_27.csv\", names=[\"id\", \"price_all\"])\n",
    "submission_normal = pd.read_csv(\"submission_log/submission_lgbm_27_normal.csv\", names=[\"id\", \"price_normal\"])\n",
    "df = pd.merge(submission, submission_normal, on=\"id\")"
   ]
  },
  {
   "cell_type": "code",
   "execution_count": null,
   "id": "9067e420",
   "metadata": {},
   "outputs": [],
   "source": [
    "b = 300000\n",
    "sample = df[df[\"price_normal\"] < b].reset_index()\n",
    "sample2 = df[df[\"price_normal\"] >= b].reset_index()\n",
    "# df[\"price_predict\"] = df[\"price_normal\"].where(df[\"price_normal\"]<b, df[\"price_all\"]*1.03)"
   ]
  },
  {
   "cell_type": "code",
   "execution_count": null,
   "id": "17b4a6cd",
   "metadata": {},
   "outputs": [],
   "source": [
    "submit_df = sample[[\"id\", \"price_normal\"]]\n",
    "submit_df.columns = [\"id\", \"predict\"]"
   ]
  },
  {
   "cell_type": "code",
   "execution_count": null,
   "id": "227c0e1f",
   "metadata": {},
   "outputs": [],
   "source": [
    "sample2[\"predict\"] = sample2[\"price_all\"] * 1.03"
   ]
  },
  {
   "cell_type": "code",
   "execution_count": null,
   "id": "94ea22f7",
   "metadata": {},
   "outputs": [],
   "source": [
    "sample2"
   ]
  },
  {
   "cell_type": "code",
   "execution_count": null,
   "id": "92b984f5",
   "metadata": {},
   "outputs": [],
   "source": [
    "submit_df = pd.concat([submit_df, sample2])[[\"id\", \"predict\"]].sort_values(\"id\")"
   ]
  },
  {
   "cell_type": "code",
   "execution_count": null,
   "id": "51dcd51b",
   "metadata": {},
   "outputs": [],
   "source": [
    "len(submission) == len(submit_df)"
   ]
  },
  {
   "cell_type": "code",
   "execution_count": null,
   "id": "81b5dcbd",
   "metadata": {},
   "outputs": [],
   "source": [
    "submit_df = submit_df[[\"id\", \"predict\"]]\n",
    "submit_df.to_csv(\"submission_lgbm_final.csv\", sep=\",\", index=False, header=None)"
   ]
  },
  {
   "cell_type": "code",
   "execution_count": null,
   "id": "7940e9de",
   "metadata": {},
   "outputs": [],
   "source": []
  }
 ],
 "metadata": {
  "kernelspec": {
   "display_name": "Python 3 (ipykernel)",
   "language": "python",
   "name": "python3"
  },
  "language_info": {
   "codemirror_mode": {
    "name": "ipython",
    "version": 3
   },
   "file_extension": ".py",
   "mimetype": "text/x-python",
   "name": "python",
   "nbconvert_exporter": "python",
   "pygments_lexer": "ipython3",
   "version": "3.8.13"
  }
 },
 "nbformat": 4,
 "nbformat_minor": 5
}
