{
 "cells": [
  {
   "cell_type": "code",
   "execution_count": 1,
   "id": "73c8cf3e",
   "metadata": {},
   "outputs": [],
   "source": [
    "# 関連ライブラリのimport\n",
    "from sklearn.model_selection import KFold, StratifiedKFold\n",
    "from sklearn.metrics import mean_squared_error\n",
    "import lightgbm as lgb\n",
    "#fold数\n",
    "folds = 5\n",
    "\n",
    "import pickle\n",
    "import os\n",
    "import gc\n",
    "gc.enable()\n",
    "import warnings\n",
    "warnings.filterwarnings(\"ignore\")\n",
    "import time\n",
    "\n",
    "import pandas as pd\n",
    "\n",
    "from tqdm import tqdm_notebook as tqdm\n",
    "from collections import defaultdict\n",
    "import re\n",
    "import matplotlib.pyplot as plt\n",
    "import numpy as np\n",
    "\n",
    "import matplotlib\n",
    "import japanize_matplotlib\n",
    "import seaborn as sns\n",
    "\n",
    "import mojimoji\n",
    "import itertools"
   ]
  },
  {
   "cell_type": "code",
   "execution_count": 63,
   "id": "1b05259e",
   "metadata": {},
   "outputs": [],
   "source": [
    "train = pd.read_csv(\"data/train_processed_add_geocoding_meshcode_crime_landprice_ladmark_log_groupby.csv\")"
   ]
  },
  {
   "cell_type": "code",
   "execution_count": 3,
   "id": "6896f6ac",
   "metadata": {},
   "outputs": [],
   "source": [
    "cv_pred_df = pd.read_csv(\"./cv_log/cv_error_1.csv\")\n",
    "cv_pred_df4 = pd.read_csv(\"./cv_log/cv_error_4.csv\")\n"
   ]
  },
  {
   "cell_type": "code",
   "execution_count": 4,
   "id": "4c6ebf74",
   "metadata": {},
   "outputs": [
    {
     "data": {
      "text/html": [
       "<div>\n",
       "<style scoped>\n",
       "    .dataframe tbody tr th:only-of-type {\n",
       "        vertical-align: middle;\n",
       "    }\n",
       "\n",
       "    .dataframe tbody tr th {\n",
       "        vertical-align: top;\n",
       "    }\n",
       "\n",
       "    .dataframe thead th {\n",
       "        text-align: right;\n",
       "    }\n",
       "</style>\n",
       "<table border=\"1\" class=\"dataframe\">\n",
       "  <thead>\n",
       "    <tr style=\"text-align: right;\">\n",
       "      <th></th>\n",
       "      <th>cv_score</th>\n",
       "      <th>true</th>\n",
       "      <th>error</th>\n",
       "    </tr>\n",
       "  </thead>\n",
       "  <tbody>\n",
       "    <tr>\n",
       "      <th>5640</th>\n",
       "      <td>129861.328</td>\n",
       "      <td>1203500.000</td>\n",
       "      <td>1073638.672</td>\n",
       "    </tr>\n",
       "    <tr>\n",
       "      <th>4974</th>\n",
       "      <td>1466111.749</td>\n",
       "      <td>2500000.000</td>\n",
       "      <td>1033888.251</td>\n",
       "    </tr>\n",
       "    <tr>\n",
       "      <th>30797</th>\n",
       "      <td>644443.034</td>\n",
       "      <td>1450000.000</td>\n",
       "      <td>805556.966</td>\n",
       "    </tr>\n",
       "    <tr>\n",
       "      <th>20165</th>\n",
       "      <td>1225728.701</td>\n",
       "      <td>1800000.000</td>\n",
       "      <td>574271.299</td>\n",
       "    </tr>\n",
       "    <tr>\n",
       "      <th>8498</th>\n",
       "      <td>825975.345</td>\n",
       "      <td>1390000.000</td>\n",
       "      <td>564024.655</td>\n",
       "    </tr>\n",
       "    <tr>\n",
       "      <th>15063</th>\n",
       "      <td>738203.743</td>\n",
       "      <td>1300000.000</td>\n",
       "      <td>561796.257</td>\n",
       "    </tr>\n",
       "    <tr>\n",
       "      <th>11106</th>\n",
       "      <td>574242.028</td>\n",
       "      <td>1100000.000</td>\n",
       "      <td>525757.972</td>\n",
       "    </tr>\n",
       "    <tr>\n",
       "      <th>29848</th>\n",
       "      <td>1227245.378</td>\n",
       "      <td>1660000.000</td>\n",
       "      <td>432754.622</td>\n",
       "    </tr>\n",
       "    <tr>\n",
       "      <th>3480</th>\n",
       "      <td>522075.582</td>\n",
       "      <td>134000.000</td>\n",
       "      <td>388075.582</td>\n",
       "    </tr>\n",
       "    <tr>\n",
       "      <th>16139</th>\n",
       "      <td>551305.557</td>\n",
       "      <td>880000.000</td>\n",
       "      <td>328694.443</td>\n",
       "    </tr>\n",
       "  </tbody>\n",
       "</table>\n",
       "</div>"
      ],
      "text/plain": [
       "         cv_score        true       error\n",
       "5640   129861.328 1203500.000 1073638.672\n",
       "4974  1466111.749 2500000.000 1033888.251\n",
       "30797  644443.034 1450000.000  805556.966\n",
       "20165 1225728.701 1800000.000  574271.299\n",
       "8498   825975.345 1390000.000  564024.655\n",
       "15063  738203.743 1300000.000  561796.257\n",
       "11106  574242.028 1100000.000  525757.972\n",
       "29848 1227245.378 1660000.000  432754.622\n",
       "3480   522075.582  134000.000  388075.582\n",
       "16139  551305.557  880000.000  328694.443"
      ]
     },
     "execution_count": 4,
     "metadata": {},
     "output_type": "execute_result"
    }
   ],
   "source": [
    "pd.options.display.float_format = '{:.3f}'.format\n",
    "cv_pred_df.sort_values(\"error\", ascending=False).head(10)"
   ]
  },
  {
   "cell_type": "code",
   "execution_count": 5,
   "id": "e6e45da1",
   "metadata": {},
   "outputs": [
    {
     "data": {
      "text/html": [
       "<div>\n",
       "<style scoped>\n",
       "    .dataframe tbody tr th:only-of-type {\n",
       "        vertical-align: middle;\n",
       "    }\n",
       "\n",
       "    .dataframe tbody tr th {\n",
       "        vertical-align: top;\n",
       "    }\n",
       "\n",
       "    .dataframe thead th {\n",
       "        text-align: right;\n",
       "    }\n",
       "</style>\n",
       "<table border=\"1\" class=\"dataframe\">\n",
       "  <thead>\n",
       "    <tr style=\"text-align: right;\">\n",
       "      <th></th>\n",
       "      <th>cv_score</th>\n",
       "      <th>true</th>\n",
       "      <th>error</th>\n",
       "    </tr>\n",
       "  </thead>\n",
       "  <tbody>\n",
       "    <tr>\n",
       "      <th>23454</th>\n",
       "      <td>1101668.387</td>\n",
       "      <td>2500000.000</td>\n",
       "      <td>1398331.613</td>\n",
       "    </tr>\n",
       "    <tr>\n",
       "      <th>30500</th>\n",
       "      <td>588026.361</td>\n",
       "      <td>1450000.000</td>\n",
       "      <td>861973.639</td>\n",
       "    </tr>\n",
       "    <tr>\n",
       "      <th>23539</th>\n",
       "      <td>985782.269</td>\n",
       "      <td>1800000.000</td>\n",
       "      <td>814217.731</td>\n",
       "    </tr>\n",
       "    <tr>\n",
       "      <th>28314</th>\n",
       "      <td>736039.708</td>\n",
       "      <td>1390000.000</td>\n",
       "      <td>653960.292</td>\n",
       "    </tr>\n",
       "    <tr>\n",
       "      <th>15817</th>\n",
       "      <td>730824.770</td>\n",
       "      <td>308000.000</td>\n",
       "      <td>422824.770</td>\n",
       "    </tr>\n",
       "    <tr>\n",
       "      <th>12386</th>\n",
       "      <td>992343.646</td>\n",
       "      <td>600000.000</td>\n",
       "      <td>392343.646</td>\n",
       "    </tr>\n",
       "    <tr>\n",
       "      <th>23511</th>\n",
       "      <td>925923.900</td>\n",
       "      <td>1300000.000</td>\n",
       "      <td>374076.100</td>\n",
       "    </tr>\n",
       "    <tr>\n",
       "      <th>23607</th>\n",
       "      <td>935488.626</td>\n",
       "      <td>1300000.000</td>\n",
       "      <td>364511.374</td>\n",
       "    </tr>\n",
       "    <tr>\n",
       "      <th>9558</th>\n",
       "      <td>1322332.285</td>\n",
       "      <td>1660000.000</td>\n",
       "      <td>337667.715</td>\n",
       "    </tr>\n",
       "    <tr>\n",
       "      <th>25833</th>\n",
       "      <td>883896.900</td>\n",
       "      <td>550000.000</td>\n",
       "      <td>333896.900</td>\n",
       "    </tr>\n",
       "  </tbody>\n",
       "</table>\n",
       "</div>"
      ],
      "text/plain": [
       "         cv_score        true       error\n",
       "23454 1101668.387 2500000.000 1398331.613\n",
       "30500  588026.361 1450000.000  861973.639\n",
       "23539  985782.269 1800000.000  814217.731\n",
       "28314  736039.708 1390000.000  653960.292\n",
       "15817  730824.770  308000.000  422824.770\n",
       "12386  992343.646  600000.000  392343.646\n",
       "23511  925923.900 1300000.000  374076.100\n",
       "23607  935488.626 1300000.000  364511.374\n",
       "9558  1322332.285 1660000.000  337667.715\n",
       "25833  883896.900  550000.000  333896.900"
      ]
     },
     "execution_count": 5,
     "metadata": {},
     "output_type": "execute_result"
    }
   ],
   "source": [
    "pd.options.display.float_format = '{:.3f}'.format\n",
    "cv_pred_df4.sort_values(\"error\", ascending=False).head(10)"
   ]
  },
  {
   "cell_type": "code",
   "execution_count": 194,
   "id": "134835c6",
   "metadata": {},
   "outputs": [],
   "source": [
    "cv_pred_df[\"補正\"] = cv_pred_df[\"cv_score\"].where(cv_pred_df[\"cv_score\"]<500000, cv_pred_df[\"cv_score\"] * 1.2)\n",
    "cv_pred_df[\"補正\"] = cv_pred_df[\"cv_score\"].where(cv_pred_df[\"cv_score\"]<500000, cv_pred_df[\"cv_score\"] * 1.03)"
   ]
  },
  {
   "cell_type": "code",
   "execution_count": 195,
   "id": "9cad01ed",
   "metadata": {},
   "outputs": [
    {
     "data": {
      "text/plain": [
       "17881.662027630766"
      ]
     },
     "execution_count": 195,
     "metadata": {},
     "output_type": "execute_result"
    }
   ],
   "source": [
    "np.sqrt(mean_squared_error(cv_pred_df[\"cv_score\"],cv_pred_df[\"true\"]))"
   ]
  },
  {
   "cell_type": "code",
   "execution_count": 196,
   "id": "171d814e",
   "metadata": {},
   "outputs": [
    {
     "data": {
      "text/plain": [
       "17700.0057183321"
      ]
     },
     "execution_count": 196,
     "metadata": {},
     "output_type": "execute_result"
    }
   ],
   "source": [
    "np.sqrt(mean_squared_error(cv_pred_df[\"補正\"],cv_pred_df[\"true\"]))"
   ]
  },
  {
   "cell_type": "code",
   "execution_count": null,
   "id": "ea1a7fff",
   "metadata": {},
   "outputs": [],
   "source": []
  }
 ],
 "metadata": {
  "kernelspec": {
   "display_name": "Python 3 (ipykernel)",
   "language": "python",
   "name": "python3"
  },
  "language_info": {
   "codemirror_mode": {
    "name": "ipython",
    "version": 3
   },
   "file_extension": ".py",
   "mimetype": "text/x-python",
   "name": "python",
   "nbconvert_exporter": "python",
   "pygments_lexer": "ipython3",
   "version": "3.8.13"
  }
 },
 "nbformat": 4,
 "nbformat_minor": 5
}
